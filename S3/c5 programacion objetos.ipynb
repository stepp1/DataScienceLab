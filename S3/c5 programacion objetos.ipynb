{
 "cells": [
  {
   "cell_type": "markdown",
   "metadata": {},
   "source": [
    "# MA6202: Laboratorio de Ciencia de Datos\n",
    "\n",
    "**Profesor: Nicolás Caro**\n",
    "\n",
    "**30/03/2020 - C5 S3**"
   ]
  },
  {
   "cell_type": "markdown",
   "metadata": {},
   "source": [
    "## Programación Orientada a Objetos \n",
    "\n",
    "Una forma usual de clasificar lenguajes de programación es por medio de su *paradigma principal* donde se hace referencia a que tipo de **paradigma de programación** caracteriza al lenguaje que se estudia. \n",
    "Según la RAE, un paradigma es un *ejemplo* o un *conjunto de teorías aceptado como base para resolver problemas y avanzar en el conocimiento*. Entonces, se puede interpretar a un paradigma de programación, como un conjunto de patrones base sobre los cuales se codifican las ordenes computacionales. \n",
    "\n",
    "Los paradigmas de programación principales son:\n",
    "\n",
    "* Imperativo\n",
    "* Funcional\n",
    "* Lógico\n",
    "* Orientado a objetos\n",
    "\n",
    "En esta sección, estudiaremos las características de Python, que permiten implementar técnicas del paradigma orientado a objetos. "
   ]
  },
  {
   "cell_type": "markdown",
   "metadata": {},
   "source": [
    "**Ejercicio**\n",
    "\n",
    "1. Python es un lenguaje de programación multi-paradigma. ¿Qué paradigmas de programación, aparte del orientado a objetos, soporta Python? \n",
    "2. Defina uno los paradigmas de programación *Imperativa*, *Funcional* o *Lógica*. "
   ]
  },
  {
   "cell_type": "markdown",
   "metadata": {},
   "source": [
    "El paradigma de programación orientado a objetos permite estructurar programas, de manera tal que es posible asociar sus acciones y propiedades a entidades llamadas *objetos*. Las relaciones entre estos objetos y sus cambios de estado, permiten procesar la información del programa y obtener los resultados buscados. \n",
    "\n",
    "Como personas, asociamos conceptos e ideas a los fenómenos que nos suceden día a día. Estos conceptos son abstracciones de la realidad y se relacionan entre si siguiendo patrones. Este es justamente el mecanismo detrás del paradigma orientado a objetos, pues busca obtener modelos de interacción por medio de abstracciones, las cuales son elaboradas a través de la observación del comportamiento y contexto, relativos al procedimiento que se desea implementar. \n",
    "\n",
    "Así pues, un *objeto* puede representar a una persona, con características tales como edad, dirección y número de identificación, incluyendo comportamientos como comprar, conversar, ejercitar e incluso relaciones entre objetos \"persona\" y objetos de otra *clase*. "
   ]
  },
  {
   "cell_type": "markdown",
   "metadata": {},
   "source": [
    "### Clases en Python\n",
    "\n",
    "Como se comentó anteriormente, en Python, un objeto es una instancia de una **clase** (o *class*). Una clase provee de la estructura o maqueta sobre la definición de un objeto, mas esta, no se encuentra provista de la información que se materializa con el objeto. A modo de ejemplo, se puede analizar la relación entre el plano de una construcción (clase) y la construcción misma (objeto), en este caso, la materialidad de la construcción pasa a ser la información contenida en el objeto, que la clase carece.\n",
    "\n",
    "La estructura de clase permite agrupar y manejar información (o datos si se prefiere) de manera más ordenada y manteniendo las relaciones funcionales o relacionales entre los componentes de un modelo. \n",
    "\n",
    "\n",
    "### Declaración de clases\n",
    "\n",
    "#### Atributos\n",
    "\n",
    "En Python, las clases se definen siguiendo la sintaxis:\n",
    "\n",
    "```python\n",
    "class ClassName:\n",
    "    comando_1\n",
    "    comando_2\n",
    "    ...\n",
    "```\n",
    "\n",
    "Como se puede apreciar, siguen una estructura bastante similar a la de las funciones (bloque ```def```) y deben ser declaradas antes de ser utilizadas. La dinámica de scopes sigue la misma lógica que en funciones, luego todas las asignaciones a variables locales dentro de la clase, quedan su scope local asociado (o *namespace*). Una práctica estándar es usar notación *CamelCase*, es decir, cada palabra o abreviación al medio de la frase, que define el nombre de la clase, debe comenzar con mayúscula, sin hacer uso de espacios ni signos de puntuación.\n",
    "\n",
    "**Ejemplo**\n",
    "\n",
    "El tipo de clase más básico de Python se puede definir usando la orden ```pass```"
   ]
  },
  {
   "cell_type": "code",
   "execution_count": null,
   "metadata": {},
   "outputs": [],
   "source": [
    "class ClaseMasSimple:\n",
    "    pass"
   ]
  },
  {
   "cell_type": "markdown",
   "metadata": {},
   "source": [
    "Esta clase básicamente es la clase vacía, sin atributos (más que su nombre) y sin métodos. Para obtener un objeto (instancia de la clase) usamos la asignación. \n",
    "\n",
    "**Obs**: Note la ausencia de paréntesis en la definición de la clase, por otra parte, note la presencia de paréntesis al instanciar la clase."
   ]
  },
  {
   "cell_type": "code",
   "execution_count": null,
   "metadata": {},
   "outputs": [],
   "source": [
    "objeto = ClaseMasSimple()\n",
    "type(objeto)"
   ]
  },
  {
   "cell_type": "markdown",
   "metadata": {},
   "source": [
    "Al trabajar con objetos es natural el concepto de *atributo* o característica asociada a tal objeto. Para que los objetos de cierta clase tengan los atributos deseados, estos se deben *inicializar*. \n",
    "\n",
    "Para inicializar atributos dentro de objetos se utiliza el método ```__init__()```. Este método debe tener **al menos un argumento**, que hace referencia a la construcción del objeto instanciado. Es decir, una vez que un objeto es *construido* para ser parte de la clase, el método ```__init__()``` hace referencia al mismo objeto que esta siendo construido, de ahí que se le llame método *constructor* y que la convención para llamar a tal argumento sea ```self```. \n",
    "\n",
    "**Ejemplo**\n",
    "\n",
    "Se define la clase ```Estudiante```, esta clase posee los atributos ```nombre``` y ```edad```.\n",
    "\n",
    "**Obs**: Note que ```self``` es un nombre de variable usado **por convención**, en algunas implementaciones (más antiguas) se hace uso de la convención ```this```. \n",
    "\n",
    "**Obs**: El método ```__init__()``` posee parámetros del tipo ```**kwargs``` e inicializa atributos por medio de ```objeto.atributo```, que en su scope pasa  a ser ```self.atributo = kwarg```.\n",
    "\n",
    "**Obs**: Es útil pensar en ```self``` como un simulador o proxy de como se comportará el objeto instanciado."
   ]
  },
  {
   "cell_type": "code",
   "execution_count": null,
   "metadata": {},
   "outputs": [],
   "source": [
    "class Estudiante:\n",
    "    '''Clase Estudiante ejemplar.'''\n",
    "    \n",
    "    def __init__(self,name,age):\n",
    "        self.nombre = name\n",
    "        self.edad = age"
   ]
  },
  {
   "cell_type": "markdown",
   "metadata": {},
   "source": [
    "En este ejemplo, la clase ```Estudiante``` entrega la base para que cada una de sus instancias tenga un dato asociado a ```nombre``` y ```edad```. Inicializamos un objeto estudiante."
   ]
  },
  {
   "cell_type": "code",
   "execution_count": null,
   "metadata": {},
   "outputs": [],
   "source": [
    "estudiante_1 = Estudiante('Jaime', 66)\n",
    "estudiante_1.nombre"
   ]
  },
  {
   "cell_type": "markdown",
   "metadata": {},
   "source": [
    "**Ejercicios**\n",
    "\n",
    "1. ¿Cuál de estos dos comandos es correcto?  \n",
    "    a.```estudiante_1 = Estudiante(nombre = 'Jaime', edad = 66)```  \n",
    "    b.```estudiante_1 = Estudiante(name = 'Jaime', age = 66)```  \n",
    "2. Ejecute el siguiente código:\n",
    "```python\n",
    "objeto_1 = ClaseMasSimple()\n",
    "objeto_1.atributo_1 = 'si'\n",
    "print(objeto_1.atributo_1)\n",
    "```\n",
    "Donde ```ClaseMasSimple``` se definió con anterioridad. Si observa con detención, se creó el atributo ```atributo_1``` \"directamente\" ¿Qué diferencia / ventaja / desventaja posee este método de creación de atributos versus el uso del constructor ```__init__()__```?\n",
    "\n",
    "3. Las clases se comportan de la misma manera que las funciones en cuanto al manejo de variables por bloque (scope). Declare la clase ```ClaseMenosSimple``` no modifique el método ```__init__()__``` de esta clase, sin embargo, añada una variable ```string = 'Variable Sencilla'``` compartida por todos los objetos-instancia de la clase. (*hint*: este tipo de variables se denomina *variable de clase estática*, por consiguiente, las variables definidas por el constructor ```__init__()__``` son *dinámicas*.)\n",
    "\n",
    "4. Como observó en el ejercicio 2, es posible sobreescribir el valor de un atributo accediendo a el directamente desde el objeto que lo posee. Defina el objeto ```objeto_sencillo```, instacia de la clase ```ClaseMenosSimple``` y sobreescriba el atributo  ```objeto_sencillo.string```, cambiándolo por ```'Puedo acceder y modificar tu información interna'```, luego imprima en pantalla el valor de tal atributo para el objeto ```objeto_sencillo```. \n",
    "\n",
    "**Obs**: Por lo general se busca bloquear el acceso a atributos internos de un objeto, con el fin de garantizar integridad y control sobre los datos que se operan. Esto se denota como **encapsulación**."
   ]
  },
  {
   "cell_type": "markdown",
   "metadata": {},
   "source": [
    "#### Métodos\n",
    "\n",
    "Los métodos de una clase son simplemente funciones asociadas a su construcción. Ya se estudió el método especial ```__init__()```, este utiliza un bloque ```def``` para ser declarado, de manera similar se trabaja con métodos definidos por el usuario.\n",
    "\n",
    "**Ejemplo**\n",
    "\n",
    "Se crea la clase ```Poly``` que modela una clase simple de polinomios. Sus atributos son ```poly_degree```, el cual hace referencia al grado del polinomio  y ```poly_id```, que es un identificador de tal polinomio (no necesariamente único en este caso). Se implementa el método ```func``` que permite evaluar el polinomio dado un input."
   ]
  },
  {
   "cell_type": "code",
   "execution_count": null,
   "metadata": {},
   "outputs": [],
   "source": [
    "class Poly:\n",
    "    '''Clase que caracteriza polinomios de la forma p(x) = 1 + x + x**2 + ... + x**d'''\n",
    "\n",
    "    # Contructor que inicializa los aributos\n",
    "\n",
    "    def __init__(self, poly_degree):\n",
    "        # grado\n",
    "        self.poly_degree = poly_degree\n",
    "\n",
    "        # id del tipo d_poly_degree_p\n",
    "        self.poly_id = 'd_' + str(poly_degree) + '_p'\n",
    "\n",
    "    def func(self, x):\n",
    "        '''Funcion que permite evaluar el polinomio.'''\n",
    "\n",
    "        return sum([x**d for d in range(self.poly_degree + 1)])"
   ]
  },
  {
   "cell_type": "markdown",
   "metadata": {},
   "source": [
    "Se prueba la clase instanciando el objeto ```poly_2```"
   ]
  },
  {
   "cell_type": "code",
   "execution_count": null,
   "metadata": {},
   "outputs": [],
   "source": [
    "poly_2 = Poly(2)\n",
    "print('Grado de poly_2:',poly_2.poly_degree)\n",
    "print('id de poly_2:',poly_2.poly_id, '\\n')\n",
    "\n",
    "# Obs: los polinomios de la clase Poly son de la forma 1 + x + x**2 + ...\n",
    "print('poly_2 evaluado en x = 2 --> 1 + 2 + 2**2 =', poly_2.func(2)) "
   ]
  },
  {
   "cell_type": "markdown",
   "metadata": {},
   "source": [
    "**Ejercicio**\n",
    "\n",
    "Python permite realizar **Duck typing** con sus objetos. Este término proviene del dicho \"If it walks like a duck and it quacks like a duck, then it must be a duck\" (si camina como pato y grazna como pato, entonces debe ser un pato), en programación esto implica que si un objeto tiene cierta funcionalidad, esta puede ser utilizada sin importar el contexto. Los siguientes ejercicios están diseñados para entender en duck typing en Python.\n",
    "\n",
    "1. Defina la clase ```Pato``` con el atributo estático ```patas = 2```, defina además el método ```hablar()``` que imprime en pantalla ```Soy un patito inofensivo, cuack```. \n",
    "\n",
    "2. Defina la clase ```Bomba``` con los métodos: \n",
    "    1. ```explotar()```, este método imprime en pantalla ```Booom!```\n",
    "    2. ```hablar()```, este método imprime en pantalla ```3... 2... 1...``` y ejecuta el método ```explotar()```\n",
    "    \n",
    "3. Defina la clase ```Persona```, está clase tiene el atributo estático ```su_pato = None```. En su método constructor ```__init__()```, inicializa la variable ```nombre``` y luego imprime en pantalla ```[nombre] cruza la calle y te pide dinero para comprar un pato ```. La clase ```Persona``` tiene además los siguientes métodos:\n",
    "    1. ```toma_pato``` este método toma como input un objeto y lo asigna al atributo ```su_pato``` de la clase, luego imprime en pantalla ```[nombre] compra el pato y se va felizmente ```\n",
    "    2. ```hace_lo_suyo()``` imprime en pantalla ```[nombre] intenta hacer que el pato hable``` luego, si el atributo ```su_pato``` es distinto de ```None``` ejecuta ```su_pato.hablar()```.\n",
    " \n",
    "4. Defina los objetos de la clase ```Persona```, ```Bomba``` y ```Pato```. Suponiendo que definió ```per``` como el objeto ```Persona```, y ```pat``` como el objeto ```Pato```, ejecute ```per.toma_pato(pat)``` y ```per.hace_lo_suyo()```. Finalmente, si definió ```bomb``` como el objeto ```Bomba``` ejecute ```per.toma_pato(bomb)``` y ```per.hace_lo_suyo()```. Deduzca que el método ```hace_lo_suyo()``` es indiferente sobre el objeto que opera, siempre y cuando tenga implementado el método ```hablar```. Es decir, hace *duck typing*, manifestándose en la explosión de la bomba.\n",
    "    \n",
    "**Obs**: ```[nombre]``` debe ser reemplazado por el nombre del objeto instanciado, por ejemplo si ```obj=Persona('Jaime')```, se debe imprimir ```Jaime cruza la calle y ...```. \n",
    "\n",
    "*Hint*: Por lo menos para los objetos ```Bomba``` y ```Persona``` , defina un constructor ```__init__()```. \n",
    "\n",
    "*Este ejercicio fue adaptado de un comentario en [stackoverflow](https://stackoverflow.com/a/14532188). y busca mostrar por qué el duck typing puede ser \"malvado\".*"
   ]
  },
  {
   "cell_type": "markdown",
   "metadata": {},
   "source": [
    "## Abstracción, Encapsulación e Información Oculta\n",
    "\n",
    "Por lo general, los conceptos de abstracción, encapsulación e información oculta se utilizan como sinónimos, sin embargo, existe una diferencia entre ellos. En primer lugar, **encapsulación** es el empaquetamiento de los datos del objeto junto con los métodos que operan sobre esos datos. Por otra parte, **esconder informarción** es el principio que se ocupa de restringir el acceso a ciertos datos internos de una clase, para evitar que estos cambien de manera accidental. Finalmente, se dice que los datos son **abstraidos** si los datos (de interés) son encapsulados y escondidos. \n",
    "\n",
    "La encapsulación de datos se logra por medio de métodos que permiten el acceso a los datos, llamados **métodos _getter_**. Este tipo de métodos no cambian los valores asociados a atributos, sino que simplemente los *retornan*. Finalmente, para modificar la información y lograr encapsularla, hacen falta métodos modificadores (contraparte a los métodos *getter*). Estos se denominan **métodos _setter_**. \n",
    "\n",
    "**Ejemplo**\n",
    "\n",
    "Se define la clase ```Maquina``` esta posee un método *setter* y un método *getter* para el atributo ```numero_id```. "
   ]
  },
  {
   "cell_type": "code",
   "execution_count": null,
   "metadata": {},
   "outputs": [],
   "source": [
    "class Maquina:\n",
    "    '''Clase ejemplo con getter y setter.'''\n",
    "\n",
    "    def __init__(self, numero_id=None):\n",
    "        self.numero_id = numero_id\n",
    "\n",
    "    def aprende(self):\n",
    "        if self.numero_id:\n",
    "            print('Proceso datos ... regresion entrenada')\n",
    "        else:\n",
    "            print('No existo')\n",
    "\n",
    "    def set_id(self, numero_id):\n",
    "        self.numero_id = numero_id\n",
    "\n",
    "    def get_id(self):\n",
    "        return self.numero_id"
   ]
  },
  {
   "cell_type": "markdown",
   "metadata": {},
   "source": [
    "Se comprueba el funcionamiento de la clase"
   ]
  },
  {
   "cell_type": "code",
   "execution_count": null,
   "metadata": {},
   "outputs": [],
   "source": [
    "pc_1 = Maquina()\n",
    "pc_1.set_id(12345)\n",
    "pc_1.aprende()"
   ]
  },
  {
   "cell_type": "code",
   "execution_count": null,
   "metadata": {},
   "outputs": [],
   "source": [
    "pc_2 = Maquina() \n",
    "pc_2.aprende()\n",
    "pc_2.numero_id = 2468dd\n",
    "pc_2.aprende()"
   ]
  },
  {
   "cell_type": "markdown",
   "metadata": {},
   "source": [
    "**Ejercicio**\n",
    "\n",
    "1. Ejecute el siguiente código:\n",
    "```python\n",
    "pc_2 = Maquina() \n",
    "pc_2.aprende()\n",
    "pc_2.numero_id = 2468\n",
    "pc_2.aprende()\n",
    "```\n",
    "¿Qué princpio del Zen Python se viola? (*hint*: ```import this```)"
   ]
  },
  {
   "cell_type": "markdown",
   "metadata": {},
   "source": [
    "### Atributos Públicos, Protegidos y Privados\n",
    "\n",
    "Como se puede evidenciar en el ejercicio anterior, no se puede evitar directamente acceder y modificar atributos, aún cuando se definen funciones setter y getter. Es necesaria otra sintaxis para separar la información sensible del scope global. \n",
    "\n",
    "Es posible agregar grados de restricción a los datos por medio de atributos privados y protegidos. \n",
    "\n",
    "Los atributos **privados** por convención solo deben ser accedidos por su creador, es decir, se acceden desde el scope que define la clase. Para definir un atributo privado se utiliza la sintaxis ```__atributo```, donde se debe notar, que el prefijo ```__``` hace la diferencia.\n",
    "\n",
    "Los atributos **protegidos** pueden ser accedidos pero teniendo en cuenta su potencial riesgo, para definir un atributo de este tipo se utiliza la sintaxis ```_atributo```. Donde el prefijo ```_``` marca la diferencia.\n",
    "\n",
    "Finalmente,todo atributo definido de manera usual (sin los prefijos anteriores) es un atributo público y por tanto \"no encapsulado\". \n",
    "\n",
    "**Ejemplo**\n",
    "\n",
    "Se crea la clase ```Test_atrr``` donde se definen variables del tipo público, protegido y privado."
   ]
  },
  {
   "cell_type": "code",
   "execution_count": null,
   "metadata": {},
   "outputs": [],
   "source": [
    "class Test_atrr:\n",
    "    '''Clase para testar tipos de variable.'''\n",
    "    \n",
    "    def __init__(self,publica, protegida, privada):\n",
    "        self.publica = publica\n",
    "        self._protegida = protegida\n",
    "        self.__privada = privada"
   ]
  },
  {
   "cell_type": "markdown",
   "metadata": {},
   "source": [
    "Se prueba por medio de un objeto definido por medio de tres atributos tipo string, se observa que el comportamiento de atributos públicos y protegidos es el correcto."
   ]
  },
  {
   "cell_type": "code",
   "execution_count": null,
   "metadata": {},
   "outputs": [],
   "source": [
    "test_obj = Test_atrr('atr publico [Si]','atr protegido [Si]','atr privado [Si]')\n",
    "\n",
    "print('Publico:', test_obj.publica)\n",
    "print('Protegido:', test_obj._protegida)"
   ]
  },
  {
   "cell_type": "markdown",
   "metadata": {},
   "source": [
    "finalmente se busca el atributo privado (*spoiler*: habrán errores)"
   ]
  },
  {
   "cell_type": "code",
   "execution_count": null,
   "metadata": {},
   "outputs": [],
   "source": [
    "print('Privada:', test_obj.__privada)"
   ]
  },
  {
   "cell_type": "markdown",
   "metadata": {},
   "source": [
    "Lo anterior confirma que una variable privada no es accesible desde el exterior del objeto. "
   ]
  },
  {
   "cell_type": "markdown",
   "metadata": {},
   "source": [
    "**Ejercicios**\n",
    "\n",
    "1. Modifique la clase ```Maquina``` de manera tal que ```numero_id``` sea un atributo privado, agregue además un atributo público ```nombre``` y un atributo protegido ```sistema_operativo```. Todos estos atributos deben ser ```None``` por defecto.\n",
    "\n",
    "2. Encapsule correctamente el atributo privado de la clase, para eso utilice métodos *setter* y *getter*.\n",
    "\n",
    "3. Defina el objeto ```pc = Maquina()```, luego defina un valor para cada atributo del objeto **sin** hacer llamados del tipo ```Maquina(atr,atr_1,atr_2)``` imprima en pantalla los valores asignados.\n",
    "\n",
    "**Obs**: Como ayuda de memoria, piense en los atributos protegidos como \"restringidos\", estos, al igual que un sistema operativo, se pueden cambiar bajo el propio riesgo del usuario. Por otra parte, la ```id``` de una máquina no se podrá cambiar por el usuario y finalmente, no tiene consecuencias ponerle nombres a una máquina. \n",
    "\n",
    "**Obs**: De este ejercicio es importante recordar, que la abstracción de información por medio de información escondida (*data hiding*)  en atributos privados y encapsulación *getter-setter* es posible y nativa en Python.\n",
    "\n",
    "**Obs**: Tenga en mente que cada vez que defina una variable privada, es una buena práctica definir sus *getter* y *setter* adecuadamente."
   ]
  },
  {
   "cell_type": "markdown",
   "metadata": {},
   "source": [
    "### Propiedades\n",
    "\n",
    "Es buena práctica encapsular datos al trabajar con clases, sin embargo, abusar de variables privadas y sus métodos *getter-setter*, puede llevar a complejizar demasiado el código (recordar que el código se lee más de lo que se escribe).\n",
    "\n",
    "**Ejemplo**\n",
    "\n",
    "Veamos lo anterior con la siguiente clase:"
   ]
  },
  {
   "cell_type": "code",
   "execution_count": null,
   "metadata": {},
   "outputs": [],
   "source": [
    "class ClaseEncapsulada:\n",
    "    '''Clase ejemplo con encapsulacion innecesaria.'''\n",
    "    \n",
    "    def __init__(self,atr):\n",
    "        self.__atr = atr\n",
    "    \n",
    "    def get_atr(self):\n",
    "        return self.__atr\n",
    "\n",
    "    def set_atr(self, atr):\n",
    "        self.__atr = atr"
   ]
  },
  {
   "cell_type": "markdown",
   "metadata": {},
   "source": [
    "Si se desea modificar el valor del atributo ```atr``` en ```o3```, se llega un comando difícil de interpretar"
   ]
  },
  {
   "cell_type": "code",
   "execution_count": null,
   "metadata": {},
   "outputs": [],
   "source": [
    "o1 = ClaseEncapsulada(1)\n",
    "o2 = ClaseEncapsulada(1)\n",
    "o3 = ClaseEncapsulada(2)\n",
    "\n",
    "#Sintaxis dificil de comprender\n",
    "o3.set_atr(o1.get_atr() + o2.get_atr() + o3.get_atr())\n",
    "print('Resultado:',o3.get_atr())"
   ]
  },
  {
   "cell_type": "markdown",
   "metadata": {},
   "source": [
    "Por otro lado, si la clase no estuviera encapsulada, la sintaxis sería mucho más simple:\n",
    "\n",
    "```python\n",
    "o3.atr = o1.atr + o2.atr + o3.atr\n",
    "```\n",
    "\n",
    "El problema con la simpleza anterior, recae en que se pierde el manejo sobre el dato ```atr```, tanto en su acceso, como en su modificación. Para entender esto, observemos que al definir un método *setter*, es posible procesar un *input* antes de modificar el atributo objetivo. Veámoslo en el siguiente ejemplo.\n",
    "\n",
    "**Ejemplo**\n",
    "\n",
    "Supongamos que el atributo ```atr``` solo puede ser un entero entre 0 y 10. Además, no podemos esconder la variable como privada, pues significa lidiar con un código muy difícil de depurar, dado que se opera bastante con tal variable. Una solución, es definirla como una variable protegida."
   ]
  },
  {
   "cell_type": "code",
   "execution_count": null,
   "metadata": {},
   "outputs": [],
   "source": [
    "class ClaseEncProt:\n",
    "    '''Clase ejemplo con atributos protegidos.'''\n",
    "    \n",
    "    def __init__(self,atr = None):\n",
    "        '''Variable protegida, debe ser aprobada antes de asignar\n",
    "        \n",
    "        Observe como se crea el setter condicional!\n",
    "        ''' \n",
    "        \n",
    "        self.set_atr(atr)\n",
    "    \n",
    "    \n",
    "    def set_atr(self, atr):\n",
    "        '''Se pone la condición sobre el atributo.\n",
    "        \n",
    "        Es quivalente a definirla en el constructor __init__\n",
    "        '''\n",
    "        \n",
    "        if type(atr) == int:\n",
    "            if atr >= 0 and atr <= 10:\n",
    "                self._atr = atr\n",
    "            else:\n",
    "                atr = None\n",
    "                raise ValueError('atr must be an int between 0 and 10')\n",
    "        else:\n",
    "            raise  ValueError('atr must be an int between 0 and 10')"
   ]
  },
  {
   "cell_type": "markdown",
   "metadata": {},
   "source": [
    "Se puede solucionar el problema anterior de la sintaxis ejecutando:"
   ]
  },
  {
   "cell_type": "code",
   "execution_count": null,
   "metadata": {},
   "outputs": [],
   "source": [
    "o1 = ClaseEncProt(1)\n",
    "o2 = ClaseEncProt(1)\n",
    "o3 = ClaseEncProt(2)\n",
    "\n",
    "new_atr = o1._atr + o2._atr + o3._atr\n",
    "o3.set_atr(new_atr)\n",
    "\n",
    "print('Resultado:',o3._atr)"
   ]
  },
  {
   "cell_type": "markdown",
   "metadata": {},
   "source": [
    "Lo anterior funciona quitando un poco de carga al código, pero falla en un principio básico de la encapsulación."
   ]
  },
  {
   "cell_type": "code",
   "execution_count": null,
   "metadata": {},
   "outputs": [],
   "source": [
    "o1.atr = 11"
   ]
  },
  {
   "cell_type": "markdown",
   "metadata": {},
   "source": [
    "Que debería ser equivalente a:"
   ]
  },
  {
   "cell_type": "code",
   "execution_count": null,
   "metadata": {},
   "outputs": [],
   "source": [
    "o1.set_atr(11)"
   ]
  },
  {
   "cell_type": "markdown",
   "metadata": {},
   "source": [
    "Lo cual no ocurre, más aún, se viola un principio de la programación con Python: debe haber solo una manera de hacer las cosas. Se necesita por tanto una solución intermedia, que permita manipular el *input* de nuestras clases pero que no sobrecargue la notación. La solución es rediseñar la clase por medio de **propiedades**. \n",
    "\n",
    "Una propiedad es un tipo de atributo decorado, que permite controlar los métodos *setter* y *getter* sin sobrecargar la notación, manteniendo las cosas simples. Si sintaxis sigue el patrón:\n",
    "\n",
    "```python\n",
    "class ExClass:\n",
    "    \n",
    "    # se define el atributo como publico.\n",
    "    def __init__(self,property_atr, **kwargs)\n",
    "        self.property_atr\n",
    "        do_stuff(**kwargs)\n",
    "    \n",
    "    # Función getter decorada que \"privatiza\" el atributo\n",
    "    @property\n",
    "    def property_atr(self):\n",
    "        return self.__property_atr\n",
    "    \n",
    "    # Setter decorado usando el atributo como función\n",
    "    @property_atr.setter\n",
    "    def property_atr(self,*args,**kwargs):\n",
    "        # Se asigna como privado\n",
    "        self.__property_atr = do_more_stuff(*args,**kwargs)\n",
    "```\n",
    "\n",
    "Hay que destacar que inicialmente el atributo a considerar como propiedad se inicializa como un atributo público en ```__init__```, luego se utiliza el *método propiedad* asociado al atributo para tener control sobre el *setter** asociado.\n",
    "\n",
    "**Ejemplo**\n",
    "\n",
    "Se modifica la clase ```ClaseEncProt``` para restringir su *input* sin sobrecargar con *setter* y *getters*. Para eso se utiliza la propiedad ```atr```."
   ]
  },
  {
   "cell_type": "code",
   "execution_count": null,
   "metadata": {},
   "outputs": [],
   "source": [
    "class ClaseEncProt:\n",
    "    '''Clase ejemplo con atributos protegidos.'''\n",
    "    def __init__(self, atr = None):\n",
    "        self.atr = atr\n",
    "\n",
    "    @property\n",
    "    def atr(self):\n",
    "        return self.__atr\n",
    "\n",
    "    @atr.setter\n",
    "    def atr(self, atr):\n",
    "        if type(atr) == int:\n",
    "            if atr >= 0 and atr <= 10:\n",
    "                self.__atr = atr\n",
    "            else:\n",
    "                self.__atr = None\n",
    "                raise ValueError('atr must be an int between 0 and 10')\n",
    "        else:\n",
    "            raise ValueError('atr must be an int between 0 and 10')"
   ]
  },
  {
   "cell_type": "markdown",
   "metadata": {},
   "source": [
    "Al probar la clase, se aprecia como el *setter* de la clase pasa a ser una asignación directa sobre el objeto, lo cual genera solo una manera de definir tal asignación sobre atributo. Por otra parte, se tiene todo el control que ofrece un *setter*, sin sobrecargar la notación. "
   ]
  },
  {
   "cell_type": "code",
   "execution_count": null,
   "metadata": {},
   "outputs": [],
   "source": [
    "o1 = ClaseEncProt(1)\n",
    "o2 = ClaseEncProt(1)\n",
    "o3 = ClaseEncProt(2)\n",
    "\n",
    "o3.atr = o1.atr + o2.atr + o3.atr\n",
    "\n",
    "print('Resultado:',o3.atr)"
   ]
  },
  {
   "cell_type": "markdown",
   "metadata": {},
   "source": [
    "Se obtiene el resultado deseado al sobrepasar el limite ```atr = 10```."
   ]
  },
  {
   "cell_type": "code",
   "execution_count": null,
   "metadata": {},
   "outputs": [],
   "source": [
    "o3.atr += 7"
   ]
  },
  {
   "cell_type": "markdown",
   "metadata": {},
   "source": [
    "Definir propiedades es la manera pythonica de encapsular atributos **accesibles por el usuario**. Esta última aclaración es necesaria, pues **no todos los atributos deben ser accesibles por el usuario**, no es conveniente permitir control sobre todas las variables de una clase, pues solo complica el manejo de los objetos. Siempre se debe buscar que las clases definidas sean lo más sencillas y eficaces posibles, quitando todo aquello que esté demás."
   ]
  },
  {
   "cell_type": "markdown",
   "metadata": {},
   "source": [
    "**Ejercicios**\n",
    "\n",
    "**Propiedad sin _setter_**: Es posible definir una propiedad sin necesariamente asociarle un *setter*, por lo general este tipo de propiedades se infieren de estados internos del objeto al que pertenecen y se comportan como variables inmutables para el usuario. \n",
    "\n",
    "1. Reconfigure la clase ```Maquina```, para ello agregue las variables protegidas ```lenguaje``` y ```kernel```, además de la propiedad ```libre```. El valor de esta propiedad no puede ser modificado por el usuario y debe ser ```True``` si ```kernel``` tiene el valor ```\"linux\"``` y ```lenguaje``` tiene el valor ```\"Python\"```. En caso contrario, su valor es ```\"Posiblemente privativo\"```. \n",
    "\n",
    "2. Si ```pc``` es un objeto tipo ```Maquina``` se debe poder acceder al atributo libre, por medio de ```pc.libre```. Verifique que se puede acceder al valor de ```pc.libre``` pero no se puede modificar de manera directa (asignando ```pc.libre = var```).\n",
    "\n",
    "*Hint*: Defina la propiedad ```libre```, fuera del constructor. No defina un *setter*. La propiedad que define a ```libre``` está compuesta por un control de flujo ```if - else```  y usa ```return``` (x2) para entregar el valor de la variable."
   ]
  },
  {
   "cell_type": "markdown",
   "metadata": {},
   "source": [
    "## Herencia \n",
    "\n",
    "La herencia es una herramienta que permite obtener nuevas clases a partir de otras. Al hacer esto, se obtiene una jerarquía de clases, donde las clases de niveles más bajos adquieren atributos y métodos pre establecidos por las clases de jerarquías más altas. Se infiere entonces, que es posible reutilizar código y funcionalidades por medio este mecanismo. \n",
    "\n",
    "La sintaxis asociada al proceso de herencia se resume a continuación.\n",
    "\n",
    "```python\n",
    "class SubClase(ClaseBase):\n",
    "    do_stuff()\n",
    "    \n",
    "```\n",
    "\n",
    "**Ejemplo**\n",
    "\n",
    "Se define la clase ```Instrumento``` de esta clase base, se deriva la subclase ```Piano```. "
   ]
  },
  {
   "cell_type": "code",
   "execution_count": null,
   "metadata": {},
   "outputs": [],
   "source": [
    "class Instrumento:\n",
    "    '''Clase ejemplo representando un instrumento abstracto.'''\n",
    "    \n",
    "    def __init__(self,name):\n",
    "        self.name = name\n",
    "        \n",
    "    def show(self):\n",
    "        print('Este instrumento es un ' + self.name)\n",
    "        \n",
    "class Piano(Instrumento):\n",
    "    '''Sub clase sencilla, representa un instrumento musical.'''\n",
    "    \n",
    "    pass"
   ]
  },
  {
   "cell_type": "markdown",
   "metadata": {},
   "source": [
    "Se prueba la herencia del atributo y método de ```Instrumento```"
   ]
  },
  {
   "cell_type": "code",
   "execution_count": null,
   "metadata": {},
   "outputs": [],
   "source": [
    "ins = Instrumento('Compas')\n",
    "steinway = Piano('S-155')\n",
    "\n",
    "ins.show()\n",
    "steinway.show()"
   ]
  },
  {
   "cell_type": "markdown",
   "metadata": {},
   "source": [
    "se observa como la clase ```Piano``` posee el método ```.show()``` aún cuando este no se define de manera explicita."
   ]
  },
  {
   "cell_type": "markdown",
   "metadata": {},
   "source": [
    "**Ejercicios**\n",
    "\n",
    "A lo largo de este curso se ha hecho uso de la función ```type()```, útil para saber el tipo de dato de un objeto en particular. Sin embargo, La documentación de PEP 8, dice explicitamente \"Object type comparisons should always use ```isinstance()``` instead of comparing types directly\". Es decir, la buena práctica es utilizar ```isinstance()``` en lugar de ```type()```, la razón que soporta esta recomendación se explica por medio de la herencia de clases.\n",
    "\n",
    "1. Defina una clase base (```ClaseBase```) y una subclase (o clase derivada ```ClaseDerivada```). Suponiendo  ```obj_base``` es un objeto de la clase base y ```obj_derivado``` un objeto de la clase derivada compare los siguientes outputs: \n",
    "```python\n",
    "isinstance(obj_base, ClaseBase)\n",
    "isinstance(obj_derivado, ClaseBase)\n",
    "isinstance(obj_base, ClaseDerivada)\n",
    "isinstance(obj_derivado, ClaseDerivada)\n",
    "```\n",
    "Finalmente observe el comportamiento de:\n",
    "```python\n",
    "type(obj_derivado) == ClaseBase\n",
    "type(obj_base) == ClaseDerivada\n",
    "```\n",
    "Deduzca por qué en PEP 8 se recomienda utilizar ```isinstance()``` en reemplazo de ```type()```.\n",
    "\n",
    "\n",
    "*Hint*: Es razonable considerar que los números enteros negativos, como sub-clase de los enteros, sigan siendo considerados como miembros de la clase \"enteros\" por un type-checker. "
   ]
  },
  {
   "cell_type": "markdown",
   "metadata": {},
   "source": [
    "### Anulación de métodos\n",
    "\n",
    "La anulación de métodos en herencia, consiste en modificar o redefinir los métodos de una clase base a una clase derivada. El nombre de esta operación proviene *method overriding*. \n",
    "\n",
    "**Ejemplo** \n",
    "\n",
    "Se define la clase ```Ciudadano```. Como clase derivada se define ```Medico```."
   ]
  },
  {
   "cell_type": "code",
   "execution_count": null,
   "metadata": {},
   "outputs": [],
   "source": [
    "class Ciudadano:\n",
    "    '''Clase Ejemplo method overriding.'''\n",
    "    \n",
    "    def __init__(self, name):\n",
    "        self.name = name\n",
    "    \n",
    "    def saludo(self):\n",
    "        print('Hola me llamo ' + self.name)\n",
    "\n",
    "    \n",
    "class Medico(Ciudadano):\n",
    "    '''Clase derivada que ignora el metodo saludo.'''\n",
    "    \n",
    "    def saludo(self):\n",
    "        print('Bienvenido a mi consulta')\n",
    "        print('Soy el doctor ' + self.name)"
   ]
  },
  {
   "cell_type": "markdown",
   "metadata": {},
   "source": [
    "Se comprueba que el método ```.saludo()``` es ignorado por la subclase Medico."
   ]
  },
  {
   "cell_type": "code",
   "execution_count": null,
   "metadata": {},
   "outputs": [],
   "source": [
    "doc = Medico('Watson')\n",
    "doc.saludo()"
   ]
  },
  {
   "cell_type": "markdown",
   "metadata": {},
   "source": [
    "**Ejercicio**\n",
    "\n",
    "**Revertir anulación**: Es posible recuperar un método anulado, utilizando una instancia de la clase derivada que lo ignora.\n",
    "\n",
    "1. Utilice el objeto ```doc``` del ejemplo anterior. Sin instanciar una nueva variable, haga uso de la clase ```Ciudadano```, para obtener en pantalla:\n",
    "```python\n",
    "Hola me llamo Watson\n",
    "```\n",
    "Es decir, el resultado del método ```.saludo()``` aplicado al objeto tipo ```med``` pero mostrando el pantalla su versión genérica, tal como es definida en la clase base ```Ciudadano```. *Hint:* En Python es posible utilizar los métodos de una clase, sin instanciar la clase."
   ]
  },
  {
   "cell_type": "markdown",
   "metadata": {},
   "source": [
    "El beneficio directo de utilizar herencia, es poder de reciclar y modificar el comportamiento de una clase base. Más aún, una clase derivada puede añadir nuevas propiedades atributos y métodos, extendiendo la funcionalidad inicial. \n",
    "\n",
    "Se pueden pensar las relaciones de herencia entre clases como un grafo dirigido, donde los vértices son las clases involucradas y las aristas representan las relaciones de jerarquía clase derivada --> clase base. Hasta ahora, este grafo posee la estructura de un bosque, donde cada árbol tiene como raíz una clase base, con la cual se conectan las clases derivadas, que a la vez pueden ser clases bases de nuevas clases derivadas. Sin embargo, esta estructura es bastante rígida y no permite que una clase derivada tenga más que una clase base. Justamente, esta última idea se conoce como **herencia múltiple** y permite flexibilizar la estructura de relaciones clase base - clase derivada.\n",
    "\n",
    "En Python, este tipo de herencia se obtiene por medio de la sintaxis:\n",
    "\n",
    "```python\n",
    "class ClaseDerivada(ClaseBase1, ClaseBase2, ClaseBase3, ...)\n",
    "\n",
    "    do_stuff()\n",
    "    pass #opcional\n",
    "```\n",
    "\n",
    "**Ejemplo**\n",
    "\n",
    "Es conveniente pensar la herencia múltiple como una composición de clases, cada una de las cuales representa una parte de un todo. Estudiemos el siguiente ejemplo. \n",
    "\n",
    "La antigua serie de televisión *power rangers* basaba sus tramas en peleas épicas entre grandes monstruos y robots. La principal herramienta de los héroes de la serie era el *Mega Zord*, robot colosal formado por la unión de otros 5 robots zoomorfos llamados *Dino Zords*. \n",
    "\n",
    "Para entender las relaciones de herencia y herencia múltiple se crea la clase ```DinoZord```. A parir de aquí existen 2 posibilidades claras:\n",
    "\n",
    "1. Se modela cada Dino Zord como un objeto de la clase ```DinoZord``` en cuyo caso, cada Dino Zord tendría la misma clase base, y una misma estructura de métodos y atributos. Finalmente, un Mega Zord sería una clase que hereda únicamente de la clase base ```DinoZord``` y se instancia entregando 5 objetos tipo ```DinoZord``` compatibles. En este modelo solo habrían relaciones de herencia simple. **Obs**: puede ser un buen ejercicio modelar este esquema de herencia.\n",
    "\n",
    "2. Se modelan cinco clases distintas, cada una siendo clase derivada de ```DinoZord```. Estas clases se denotan como ```Tyrannosaurus```, ```Mastodon```, ```Triceratops```, ```Sabertooth```,```Pterodactyl```. Gracias a este esquema es posible implementar métodos distintos para cada clase derivada, manteniendo un esquema de atributos y métodos base. Finalmente, se crea la Clase ```MegaZord```, la cual hereda de las cinco clases derivadas anteriores. Por lo anterior, ```MegaZord``` sería además una clase tipo ```DinoZord```, por lo que comparte atributos y métodos base con cada una de las 5 clases de las que hereda. Finalmente, ```MegaZord``` tiene sus propios métodos y puede ignorar métodos coumunes de su clase base.\n",
    "\n",
    "En este ejemplo se implementa la opción 2. Se define así, la clase ```DinoZord```."
   ]
  },
  {
   "cell_type": "code",
   "execution_count": null,
   "metadata": {},
   "outputs": [],
   "source": [
    "# Se define la clase base Zord\n",
    "class DinoZord:\n",
    "    '''Clase base ejemplo.\n",
    "    \n",
    "    Tiene asociadas las propiedades: pilot, name y ability. Los demas atributos\n",
    "    Son privados y DEBEN ser entregados al momento de instanciar un objeto. La\n",
    "    excepcion es el atributo _color que es protegido. El metodo principal \n",
    "    es attack. \n",
    "    '''\n",
    "    \n",
    "    def __init__(self, attribute_dict, construction_dict):\n",
    "        self.pilot = None\n",
    "        self.name = attribute_dict['name']\n",
    "        self._color = attribute_dict['color']\n",
    "        self.ability = attribute_dict['ability']\n",
    "        self.__length = construction_dict['length']\n",
    "        self.__weight  = construction_dict['weight']\n",
    "        self.__speed = construction_dict['speed']\n",
    "    \n",
    "    # Propiedades\n",
    "    @property\n",
    "    def pilot(self):\n",
    "        return self.__pilot\n",
    "\n",
    "    @pilot.setter\n",
    "    def pilot(self, pilot):\n",
    "        self.__pilot = pilot\n",
    "        \n",
    "    @property\n",
    "    def name(self):\n",
    "        return self.__name\n",
    "\n",
    "    @name.setter\n",
    "    def name(self, name):\n",
    "        self.__name = name\n",
    "\n",
    "    @property\n",
    "    def ability(self):\n",
    "        return self.__ability\n",
    "\n",
    "    @ability.setter\n",
    "    def ability(self, ability):\n",
    "        self.__ability = ability\n",
    "    \n",
    "    #Getter\n",
    "    def get_attr(self):\n",
    "        return self.__length, self.__weight, self.__speed\n",
    "    \n",
    "    # Método de ataque\n",
    "    def attack(self):\n",
    "        print(self.name + ' ataca usando ' + self.ability + '!!')"
   ]
  },
  {
   "cell_type": "markdown",
   "metadata": {},
   "source": [
    "Como se puede apreciar, esta clase posee propiedades y atributos privados, donde a los atributos privados solo se les asigna un getter. La idea es que los atributos de construcción de un objeto tipo ```DinoZord``` sean obligatorios a la hora de instanciar un objeto y a la vez, no puedan ser modificados por el usuario. Finalmente, la clase tiene el método ```.attack()``` cada clase derivada podrá anular ester método.\n",
    "\n",
    "Luego se fabrican 5 clases, cada una derivada ```DinoZord```."
   ]
  },
  {
   "cell_type": "code",
   "execution_count": null,
   "metadata": {},
   "outputs": [],
   "source": [
    "# Se Fabrican 5 clases que heredan de DinoZord\n",
    "class Tyrannosaurus(DinoZord):\n",
    "    '''Clase derivada - Herencia simple'''\n",
    "\n",
    "    # Atributos estaticos de la clase - privatizados sin setter ni getter!\n",
    "    __construction_dict = {'length': 45, 'weight': 96, 'speed': 120}\n",
    "\n",
    "    __attribute_dict = {\n",
    "        'name': 'Tyrannosaurus Dinozord',\n",
    "        'color': 'red',\n",
    "        'ability': 'fire energy blasts',\n",
    "    }\n",
    "\n",
    "    # Se utililiza el método constructor directamente desde la clase base\n",
    "    def __init__(self):\n",
    "        DinoZord.__init__(self, self.__attribute_dict, self.__construction_dict)\n",
    "\n",
    "    # Método protegido de ensamblaje\n",
    "    def _modo(self):\n",
    "        if self.pilot:\n",
    "            print(self.pilot + ' dice: ensamblando torso y cabeza')\n",
    "\n",
    "    def boost_dexterity(self):\n",
    "        print('Zord con destreza mejorada')\n",
    "\n",
    "class Mastodon(DinoZord):\n",
    "    '''Clase derivada - Herencia simple'''\n",
    "\n",
    "    # Atributos estaticos de la clase - privatizados sin setter ni getter!\n",
    "    __construction_dict = {'length': 24.7, 'weight': 108, 'speed': 120}\n",
    "\n",
    "    __attribute_dict = {\n",
    "        'name': 'Mastodon Dinozord',\n",
    "        'color': 'black',\n",
    "        'ability': 'frigid blasts of cold air',\n",
    "    }\n",
    "\n",
    "    # Se utililiza el método constructor directamente desde la clase base\n",
    "    def __init__(self):\n",
    "        DinoZord.__init__(self, self.__attribute_dict, self.__construction_dict)\n",
    "\n",
    "    # Método protegido de ensamblaje\n",
    "    def _modo(self):\n",
    "        if self.pilot:\n",
    "            print(self.pilot + ' dice: ensamblando espalda y brazos')\n",
    "\n",
    "    def boost_strength(self):\n",
    "        print('Zord con fuerza mejorada')\n",
    "\n",
    "class Triceratops(DinoZord):\n",
    "    '''Clase derivada - Herencia simple'''\n",
    "\n",
    "    # Atributos estaticos de la clase - privatizados sin setter ni getter!\n",
    "    __construction_dict = {'length': 37.3, 'weight': 141, 'speed': 140}\n",
    "\n",
    "    __attribute_dict = {\n",
    "        'name': 'Triceratops Dinozord',\n",
    "        'color': 'blue',\n",
    "        'ability': 'laser shots',\n",
    "    }\n",
    "\n",
    "    # Se utililiza el método constructor directamente desde la clase base\n",
    "    def __init__(self):\n",
    "        DinoZord.__init__(self, self.__attribute_dict, self.__construction_dict)\n",
    "\n",
    "    # Método protegido de ensamblaje\n",
    "    def _modo(self):\n",
    "        if self.pilot:\n",
    "            print(self.pilot + ' dice: ensamblando pierna izquierda')\n",
    "\n",
    "    def boost_endurance(self):\n",
    "        print('Zord con resistencia mejorada')\n",
    "\n",
    "\n",
    "class Sabertooth(DinoZord):\n",
    "    '''Clase derivada - Herencia simple'''\n",
    "\n",
    "    # Atributos estaticos de la clase - privatizados sin setter ni getter!\n",
    "    __construction_dict = {'length': 37.3, 'weight': 141, 'speed': 150}\n",
    "\n",
    "    __attribute_dict = {\n",
    "        'name': 'Sabertooth Tiger Dinozord',\n",
    "        'color': 'yellow',\n",
    "        'ability': 'large yellow laser',\n",
    "    }\n",
    "\n",
    "    # Se utililiza el método constructor directamente desde la clase base\n",
    "    def __init__(self):\n",
    "        DinoZord.__init__(self, self.__attribute_dict, self.__construction_dict)\n",
    "\n",
    "    # Método protegido de ensamblaje\n",
    "    def _modo(self):\n",
    "        if self.pilot:\n",
    "            print(self.pilot + ' dice: ensamblando pierna derecha')\n",
    "\n",
    "    def boost_agility(self):\n",
    "        print('Zord con agilidad mejorada')\n",
    "\n",
    "class Pterodactyl(DinoZord):\n",
    "    '''Clase derivada - Herencia simple'''\n",
    "\n",
    "    # Atributos estaticos de la clase - privatizados sin setter ni getter!\n",
    "    __construction_dict = {'length': 21, 'weight': 84, 'speed': 'match 2.5'}\n",
    "\n",
    "    __attribute_dict = {\n",
    "        'name': 'Pterodactyl Dinozord',\n",
    "        'color': 'pink',\n",
    "        'ability': 'twin lasers',\n",
    "    }\n",
    "\n",
    "    # Se utililiza el método constructor directamente desde la clase base\n",
    "    def __init__(self):\n",
    "        DinoZord.__init__(self, self.__attribute_dict, self.__construction_dict)\n",
    "\n",
    "    # Método protegido de ensamblaje\n",
    "    def _modo(self):\n",
    "        if self.pilot:\n",
    "            print(self.pilot + ' dice: ensamblando pecho')\n",
    "\n",
    "    def boost_defense(self):\n",
    "        print('Zord con defensa mejorada')"
   ]
  },
  {
   "cell_type": "markdown",
   "metadata": {},
   "source": [
    "En este caso, cada clase derivada tiene una estructura común dada por los diccionarios privados ```__construction_dict``` y ```__attribute_dict```. Más aún, se reutiliza el método constructor de la clase base \n",
    "```DinoZord```, para asignar sus atributos base a todo objeto instanciado (representado por ```self```). Más aún, cada clase derivada tiene un método protegido en común ```._modo()``` y un método propio único de cada subclase (ej. ```.boost_defense()```). \n",
    "\n",
    "Finalmente se crea un clase con herencia múltiple ```MegaZord```."
   ]
  },
  {
   "cell_type": "code",
   "execution_count": null,
   "metadata": {},
   "outputs": [],
   "source": [
    "class MegaZord(Tyrannosaurus, Mastodon, Triceratops, Sabertooth, Pterodactyl):\n",
    "    '''Clase derivada - Ejemplo herencia multiple'''\n",
    "\n",
    "    # Valores de Dinozord, clase base heredada de cada clase base\n",
    "    __construction_dict = {'length': 67, 'weight': 570, 'speed': 140}\n",
    "\n",
    "    __attribute_dict = {\n",
    "        'name': 'Mega Zord',\n",
    "        'color': 'Multicolor',\n",
    "        'ability': 'Power Sword',\n",
    "    }\n",
    "    \n",
    "    \n",
    "    # Constructor\n",
    "    def __init__(self, tyrannosaurus, mastodon, triceratops, sabertooth,\n",
    "                 pterodactyl):\n",
    "        \n",
    "        # Secuencia de ensamblaje\n",
    "        tyrannosaurus._modo()\n",
    "        mastodon._modo()\n",
    "        triceratops._modo()\n",
    "        sabertooth._modo()\n",
    "        pterodactyl._modo()\n",
    "        \n",
    "        '''\n",
    "        Constructor de caracteristicas base usando la clase base DinoZord, \n",
    "        observe que no se declaro explicitamente como clase base al definir\n",
    "        MegaZord, sin embargo sus atributos se heredan.\n",
    "        \n",
    "        ''' \n",
    "        \n",
    "        DinoZord.__init__(self, self.__attribute_dict, self.__construction_dict)\n",
    "        \n",
    "        # variables de la clase\n",
    "        self.__components = (tyrannosaurus, mastodon, triceratops, sabertooth,\n",
    "                             pterodactyl)\n",
    "        self.__mode = 'tank_mode'\n",
    "        \n",
    "        # asignación de piloto\n",
    "        self.pilot = [zord.pilot for zord in  self.__components]\n",
    "        \n",
    "        # Fin secuencia de construcción\n",
    "        print()\n",
    "        print('Megazord activado en ' + self.__mode + '!' )\n",
    "    \n",
    "    ''' Metodos: overriding y metodos nuevos.'''\n",
    "    \n",
    "    # method overriding\n",
    "    def _modo(self):\n",
    "        return self.__mode\n",
    "    \n",
    "    # Nueva funcionalidad: wrapper de métodos heredados por herencia multiple\n",
    "    def boost(self):\n",
    "        self.boost_dexterity()\n",
    "        self.boost_defense()\n",
    "        self.boost_agility()\n",
    "        self.boost_endurance()\n",
    "        self.boost_strength()\n",
    "    \n",
    "    # Nueva funcionalidad: cambio de modo\n",
    "    def change_mode(self):\n",
    "        if self.__mode == 'battle_mode':\n",
    "            print('Cambiando a Tank Mode')\n",
    "            self.__mode = 'tank_mode'\n",
    "            \n",
    "        else:\n",
    "            print('Cambiando a Battle Mode')\n",
    "            self.__mode = 'battle_mode' "
   ]
  },
  {
   "cell_type": "markdown",
   "metadata": {},
   "source": [
    "En esta clase, al heredar sus atributos de clases tipo ```DinoZord``` tiene la misma estructura base que cada una de su clases base. Esto se ve en su método ```.__init__()``` donde nuevamente se hace uso del constructor ```DinoZord.__init__()``` sobre los diccionarios privados ```__construction_dict``` y ```__attribute_dict```. Así mismo, la clase ```MegaZord``` posee la variables privadas extra ```__components``` y ```__mode```. Donde para esa última, existe un método especial setter denominado ```.change_mode()```. En la clase ```MegaZord``` se ignora el método ```_modo()``` (*overriding*) transformándolo en un *getter* para la ```__mode```. Por último, la clase ```MegaZord```tiene el método ```.boost()``` que ejecuta todos lo métodos propios de cada clase base. \n",
    "\n",
    "Se crean 5 objetos del tipo ```Tyrannosaurus```, ```Mastodon```, ```Triceratops```, ```Sabertooth``` y ```Pterodactyl```, para cada uno, se define la propiedad piloto. Finalmente se crea un objeto tipo ```MegaZord``` utilizando los 5 objetos ```DynoZord```."
   ]
  },
  {
   "cell_type": "code",
   "execution_count": null,
   "metadata": {},
   "outputs": [],
   "source": [
    "tyrannosaurus = Tyrannosaurus()\n",
    "tyrannosaurus.pilot = 'Jason Lee Scott'\n",
    "\n",
    "mastodon = Mastodon()\n",
    "mastodon.pilot = 'Zack Taylor'\n",
    "\n",
    "triceratops = Triceratops()\n",
    "triceratops.pilot = 'Billy Cranston'\n",
    "\n",
    "sabertooth = Sabertooth() \n",
    "sabertooth.pilot = 'Trini Kwan'\n",
    "\n",
    "pterodactyl = Pterodactyl() \n",
    "pterodactyl.pilot = 'Kimberly Hart'\n",
    "\n",
    "mega_zord = MegaZord(tyrannosaurus,mastodon,triceratops,sabertooth,pterodactyl)"
   ]
  },
  {
   "cell_type": "markdown",
   "metadata": {},
   "source": [
    "Se hacen pruebas sobre los métodos y atributos del objeto ```mega_zord```."
   ]
  },
  {
   "cell_type": "code",
   "execution_count": null,
   "metadata": {},
   "outputs": [],
   "source": [
    "# Asignación de piloto: propiedad compuesta\n",
    "print('Pilotos: ',mega_zord.pilot, '\\n')\n",
    "\n",
    "# Atributos base: heredado de la clase DinoZord\n",
    "print('Atributos: ',mega_zord.get_attr(), '\\n')\n",
    "\n",
    "\n",
    "# method overriding \n",
    "print('Modo:')\n",
    "print(mega_zord._modo(), '\\n')\n",
    "\n",
    "# Metodos propios\n",
    "print('Metodo propio boost:')\n",
    "mega_zord.boost()\n",
    "print('\\nMetodo propio change mode:')\n",
    "mega_zord.change_mode()\n",
    "\n",
    "# Metodos de heredados:\n",
    "# DinoZord\n",
    "print('\\nAtaque: ')\n",
    "mega_zord.attack()\n",
    "\n",
    "# Tyrannosaurus, Mastodon, Triceratops, Sabertooth y Pterodactyl\n",
    "print('\\nMetodos heredados:')\n",
    "mega_zord.boost_dexterity()\n",
    "mega_zord.boost_defense()\n",
    "mega_zord.boost_agility()\n",
    "mega_zord.boost_endurance()\n",
    "mega_zord.boost_strength()"
   ]
  },
  {
   "cell_type": "markdown",
   "metadata": {},
   "source": [
    "**Ejercicios**\n",
    "\n",
    "**Problema del Diamante**: Cómo se mencionó anteriormente, el sistema de herencia múltiple permite flexibilizar las relaciones de jerarquía  vistas como un grafo dirigido. En este contexto es posible que formen relaciones tipo diamante, donde una clase base da origen a múltiples clases derivadas donde a la vez, todas son clases base de una última clase derivada. Este fenómeno se dio en el ejemplo anterior. \n",
    "\n",
    "1. Defina la clase ```A```, con el método ```.show()```, el cual imprime en pantalla ```'método show de clase A'```. \n",
    "\n",
    "2. Defina las clases ```B1``` y ```B2```, la clase ```B1``` debe anular el método ```.show()``` imprimiendo en pantalla ```'método show de clase B1'```, mientras que la clase ```B2``` anula el mismo método imprimiendo en pantalla ```'método show de clase B2'```.\n",
    "\n",
    "3. Defina la clase ```C1``` que hereda de ```B1``` y ```B2``` (en ese orden), esta clase no añade atributos ni métodos. Defina la clase ```C2```que hereda de ```B2``` y ```B1```(en ese orden).\n",
    "\n",
    "4. Cree los objetos ```c1``` y ```c2``` de las clases ```C1``` y ```C2``` respectivamente.  ¿Qué resultado se espera de ejecutar ```c1.show()``` y ```c2.show()```?\n",
    "\n",
    "5. Cree la clase ```B3```, esta clase no es más que *proxy* de la clase ```A``` (no agrega/quita/modifica ningún atributo o método). A continuación cree la clase ```C3``` que hereda de ```B3``` y ```B1```. Instancie el objeto ```c3``` de a clase ```C3``` y ejecute ```c3.show()``` ¿Qué resultado se espera? pruebe cambiando el orden de herencia en ```C3```, conmutando entre ```B1``` con ```B3``` y```B2``` con ```B3```. ¿En qué se diferencia con el ejercicio 4?\n",
    "\n",
    "Python resuelve el problema del diamante mediante un método de resolución de ordenes *MRO*. La intención de este ejercicio es que usted comprenda tal mecanismo, observando el orden búsqueda y ejecución de métodos. ¿Podría identificar este fenómeno en el ejemplo de ```DinoZord``` - ```MegaZord```?"
   ]
  },
  {
   "cell_type": "markdown",
   "metadata": {},
   "source": [
    "Con lo ejercicios anteriores, es posible entender como Python enfrenta el problema del diamante. A continuación, se estudia más en profundidad dicho problema, cuando todas las clases involucradas poseen el mismo método. \n",
    "\n",
    "**Ejemplo**\n",
    "\n",
    "Se definen las clases:"
   ]
  },
  {
   "cell_type": "code",
   "execution_count": null,
   "metadata": {},
   "outputs": [],
   "source": [
    "class W:\n",
    "    def who(self):\n",
    "        print('Se reporta W')\n",
    "\n",
    "class X(W):\n",
    "    def who(self):\n",
    "        print('Se reporta X')\n",
    "        W.who(self)\n",
    "        \n",
    "class Y(W):\n",
    "    def who(self):\n",
    "        print('Se reporta Y')\n",
    "        W.who(self)\n",
    "\n",
    "class Z(X,Y):\n",
    "    def who(self):\n",
    "        print('Se reporta Z')\n",
    "        X.who(self)\n",
    "        Y.who(self)"
   ]
  },
  {
   "cell_type": "markdown",
   "metadata": {},
   "source": [
    "Observamos el output de instanciar la clase ```Z``` y llamar el método ```.who()```."
   ]
  },
  {
   "cell_type": "code",
   "execution_count": null,
   "metadata": {},
   "outputs": [],
   "source": [
    "z = Z()\n",
    "z.who()"
   ]
  },
  {
   "cell_type": "markdown",
   "metadata": {},
   "source": [
    "Lo que ocurre en este caso, es que en primer lugar, el método ```.who()``` de ```Z``` ignora los métodos homónimos de sus clases bases. Por lo tanto se obtiene como primera linea el output:\n",
    "\n",
    "```python\n",
    "Se reporta Z\n",
    "```\n",
    "\n",
    "Posteriormente, se ejecuta el método ```.who()``` de la clase ```X```, que anula su contraparte de la clase ```W``` y por lo tanto imprime \n",
    "\n",
    "```python\n",
    "Se reporta X\n",
    "Se reporta W\n",
    "```\n",
    "\n",
    "Finalmente ocurre el mismo fenómeno al invocar ```Y.who(self)``` al final del proceso. En Python, existe el la función ```super()```. Esta se llama dentro de una clase y permite acceder a métodos y atributos de su clase base. Su funcionamiento en herencia simple es trivial, veámoslo con la clase ```X```, para ello, redefinimos la relación de herencia inicial."
   ]
  },
  {
   "cell_type": "code",
   "execution_count": null,
   "metadata": {},
   "outputs": [],
   "source": [
    "class W:\n",
    "    def who(self):\n",
    "        print('Se reporta W')\n",
    "\n",
    "class X(W):\n",
    "    def who(self):\n",
    "        print('Se reporta X')\n",
    "        super(X,self).who() #Cambiamos W.who por super(X,self) "
   ]
  },
  {
   "cell_type": "markdown",
   "metadata": {},
   "source": [
    "Aquí, la sintaxis ```super(X,self).who()``` busca la clase base de ```X```, en este caso ```W```, posteriormente, se comporta como una función de orden superior que opera sobre ```.who()``` por medio de la aplicación ```.who()``` $\\mapsto$ ```W.who(self)```. Se testea el resultado."
   ]
  },
  {
   "cell_type": "code",
   "execution_count": null,
   "metadata": {},
   "outputs": [],
   "source": [
    "x = X()\n",
    "x.who()"
   ]
  },
  {
   "cell_type": "markdown",
   "metadata": {},
   "source": [
    "Lo que comprueba lo anterior. Por definición, si ejecutamos la orden ```super()``` dentro de la clase ```X```, sus argumentos predeterminados serán ```(X,self)```por lo que el código se puede simplificar a:"
   ]
  },
  {
   "cell_type": "code",
   "execution_count": null,
   "metadata": {},
   "outputs": [],
   "source": [
    "class W:\n",
    "    def who(self):\n",
    "        print('Se reporta W')\n",
    "\n",
    "class X(W):\n",
    "    def who(self):\n",
    "        print('Se reporta X')\n",
    "        super().who() #Cambiamos W.who por super(X,self) "
   ]
  },
  {
   "cell_type": "code",
   "execution_count": null,
   "metadata": {},
   "outputs": [],
   "source": [
    "x = X()\n",
    "x.who()"
   ]
  },
  {
   "cell_type": "markdown",
   "metadata": {},
   "source": [
    "Que reporta el mismo resultado. \n",
    "\n",
    "En situaciones de herencia múltiple, el funcionamiento de ```super()``` es más complejo y requiere una buena compresión del orden de resolución de métodos *MRO*. En palabras simples (y como lo podrá intuir de un ejercicio anterior), el MRO de Python soluciona el problema del diamante en herencia múltiple por medio de una linealización del árbol asociado a la relación de herencia múltiple (grafo clase base - clase derivada), esta linealización se lleva a cabo por medio de una búsqueda *depth-first, left to right*. Es decir, para una clase ```D(A,B,C)``` con herencia múltiple, al ejecutarse un método de la forma ```D.func()``` el *MRO* de Python buscará inicialmente en los métodos nativos de la clase ```D```, luego, buscará en ```A```, luego en las clases base de ```A```, hasta agotar las relaciones de herencia de ```A```, luego pasará a ```B```, inspeccionado sus clases bases hasta agotarlas, para terminar con ```C``` haciendo el mismo proceso. Si cambiamos el código inicial, es posible agregar ```super()``` donde corresponda."
   ]
  },
  {
   "cell_type": "code",
   "execution_count": null,
   "metadata": {},
   "outputs": [],
   "source": [
    "class W:\n",
    "    def who(self):\n",
    "        print('Se reporta W')\n",
    "\n",
    "class X(W):\n",
    "    def who(self):\n",
    "        print('Se reporta X')    \n",
    "        super().who() \n",
    "        \n",
    "class Y(W):\n",
    "    def who(self):\n",
    "        print('Se reporta Y')\n",
    "        super().who() \n",
    "\n",
    "class Z(X,Y):\n",
    "    def who(self):\n",
    "        print('Se reporta Z')\n",
    "        super().who() \n",
    "        super().who()"
   ]
  },
  {
   "cell_type": "markdown",
   "metadata": {},
   "source": [
    "El resultado esperado es:\n",
    "```python\n",
    "Se reporta Z\n",
    "Se reporta X\n",
    "Se reporta W\n",
    "Se reporta Y\n",
    "Se reporta W\n",
    "```\n",
    "\n",
    "Sin embargo, se obtiene:"
   ]
  },
  {
   "cell_type": "code",
   "execution_count": null,
   "metadata": {},
   "outputs": [],
   "source": [
    "z1 = Z()\n",
    "z1.who()"
   ]
  },
  {
   "cell_type": "markdown",
   "metadata": {},
   "source": [
    "Esto se debe al factor que considera el *MRO* de Python, y es que siempre se busca resolver un método que esté lo más alejado de clase base. Por tal motivo, es que cuando una clase se repite en el orden de búsqueda, se elimina de la lista manteniendo solo las ocurrencias más lejanas. Esto queda más claro estudiando el *MRO* de la clase ```Z```, en efecto , la búsqueda debería ser ```Z -> X -> W -> Y -> W``` , la clase base ```W``` se elimina de la lista manteniendo solo la copia más lejana. Se llega a que el orden de resolución es ```Z -> X -> Y -> W```, lo que quiere decir, que luego de buscar en ```X``` pasará a buscar en ```Y``` y finalizará con ```W```. Para ver esto en acción se observa el método ```.mro()``` de la clase ```Z``` (no del objeto)."
   ]
  },
  {
   "cell_type": "code",
   "execution_count": null,
   "metadata": {},
   "outputs": [],
   "source": [
    "Z.mro()"
   ]
  },
  {
   "cell_type": "markdown",
   "metadata": {},
   "source": [
    "Lo que comprueba el orden de búsqueda calculado. Cabe señalar que todas las clases en Python provienen de la clase base ```object```. Según este esquema es posible utilizar los argumentos de ```super()``` para mejorar el output. Para ello reescribimos el esquema de clases inicial."
   ]
  },
  {
   "cell_type": "code",
   "execution_count": null,
   "metadata": {},
   "outputs": [],
   "source": [
    "class W:\n",
    "    def who(self):\n",
    "        print('Se reporta W')\n",
    "\n",
    "class X(W):\n",
    "    def who(self):\n",
    "        print('Se reporta X')\n",
    "        super(X,self).who() # Equivalente a super(), pero más explicito\n",
    "        \n",
    "class Y(W):\n",
    "    def who(self):\n",
    "        print('Se reporta Y')\n",
    "        super(Y,self).who() # Equivalente a super(), pero más explicito\n",
    "\n",
    "class Z(X,Y):\n",
    "    def who(self):\n",
    "        print('Se reporta Z')\n",
    "        super(Z,self).who() # Equivalente a super(), pero más explicito\n",
    "        super(X,self).who()"
   ]
  },
  {
   "cell_type": "markdown",
   "metadata": {},
   "source": [
    "y llamamos el método en cuestión"
   ]
  },
  {
   "cell_type": "code",
   "execution_count": null,
   "metadata": {},
   "outputs": [],
   "source": [
    "z2 = Z()\n",
    "z2.who()"
   ]
  },
  {
   "cell_type": "markdown",
   "metadata": {},
   "source": [
    "Comparamos nuevamente con la implementación inicial:\n",
    "\n",
    "```python\n",
    "Se reporta Z\n",
    "Se reporta X\n",
    "Se reporta W\n",
    "Se reporta Y\n",
    "Se reporta W\n",
    "\n",
    "```\n",
    "y vemos que difieren sólo en la tercera fila. Antes de arreglar este problema, estudiemos como se comporta ```super()``` con los argumentos entregados. En primer lugar se ejecuta ```Z.who()``` que muestra el texto ```Se reporta Z``` luego se ejecuta ```super(Z,self).who()``` que es equivalente a ```super().who()```. Según el orden de resolución calculado, se debe buscar ahora en la clase ```X```, donde se ejecuta ```X.who()```, que muestra el texto ```Se reporta X```, en ```X``` se ejecuta ```super(X,self).who()```, esto le indica al interprete de Python que comience a buscar desde ```X``` en la cadena de resolución ```Z -> X -> Y -> W``` por tanto se pasa a ejecutar ```Y.who()``` que desde luego imprime en pantalla ```Se reporta Y``` para luego ejecutar ```super(Y,self).who()```, es decir, se busca ahora desde la posición ```Y``` que resuelve finalmente ejecutar```W.who()``` imprimiéndose ```Se reporta W```. Lo que falta es la  ejecución de ```super(X,self).who()```, esta pone el indice inicial de búsqueda en ```X```, por lo que comienza el proceso desde la clase ```Y``` imprimiendo ```Se reporta Y``` y finalmente ```Se reporta W```.\n",
    "\n",
    "Como no se puede cambiar el orden ```Z -> X -> Y -> W``` de manera tal que se imprima lo que mostraba la implementación inicial, solo queda hacer que las clases *cooperen entre si* modificando el método correspondiente de la clase ```X``` y cambiándolo por:"
   ]
  },
  {
   "cell_type": "code",
   "execution_count": null,
   "metadata": {},
   "outputs": [],
   "source": [
    "class W:\n",
    "    def who(self):\n",
    "        print('Se reporta W')\n",
    "\n",
    "\n",
    "class X(W):\n",
    "    def who(self):\n",
    "        '''\n",
    "        Si el objeto instanciado es de la clase Z, entonces modificar el mro \n",
    "        para que busque desde Y, en caso contrario se mantiene el comportamiento\n",
    "        inicial.\n",
    "        '''\n",
    "\n",
    "        print('Se reporta X')\n",
    "        if isinstance(self, Z):\n",
    "            super(Y, self).who()\n",
    "        else:\n",
    "            super(X, self).who()\n",
    "\n",
    "\n",
    "class Y(W):\n",
    "    def who(self):\n",
    "        print('Se reporta Y')\n",
    "        super(Y, self).who()\n",
    "\n",
    "\n",
    "class Z(X, Y):\n",
    "    def who(self):\n",
    "        print('Se reporta Z')\n",
    "        super(Z, self).who()  # Equivalente a super(), pero más explicito\n",
    "        super(X, self).who()"
   ]
  },
  {
   "cell_type": "markdown",
   "metadata": {},
   "source": [
    "Finalmente comprobamos que el cambio surta efecto."
   ]
  },
  {
   "cell_type": "code",
   "execution_count": null,
   "metadata": {},
   "outputs": [],
   "source": [
    "z3 = Z()\n",
    "z3.who()"
   ]
  },
  {
   "cell_type": "markdown",
   "metadata": {},
   "source": [
    "Al usar ```super()``` en herencia múltiple y comprender el proceso de orden de resolución, se tiene control total sobre los atributos y métodos a reutilizar, escogiendo las clases base de manera **dinámica**. Esto último es de vital importancia, pues mejora la mantenibilidad del código; cambiar una clase base (ej. su nombre) no afecta directamente el comportamiento de sus clases derivadas."
   ]
  },
  {
   "cell_type": "markdown",
   "metadata": {},
   "source": [
    "**Ejercicios**\n",
    "\n",
    "1. Modifique las clases ```Tyrannosaurus```, ```Mastodon```, ```Triceratops```, ```Sabertooth```, ```Pterodactyl``` y ```MegaZord``` para que en sus métodos constructores utilicen ```super()```.\n",
    "\n",
    "2. Modifique el método ```.boost()``` de la clase ```MegaZord``` para que utilice ```super()``` en todos sus llamados. ¿Cuál es el *MRO* de la clase ```MegaZord```?"
   ]
  },
  {
   "cell_type": "markdown",
   "metadata": {},
   "source": [
    "## Métodos Mágicos y Sobrecarga de Operadores\n",
    "\n",
    "Los métodos mágicos, corresponden a funciones especiales con nombres fijos, por lo general denotados por doble guión bajo. Hasta el momento se ha estudiado el método ```__init__()``` al observar la siguiente clase:"
   ]
  },
  {
   "cell_type": "code",
   "execution_count": null,
   "metadata": {},
   "outputs": [],
   "source": [
    "class SiguienteClase:\n",
    "    pass\n",
    "\n",
    "siguiente_objeto = SiguienteClase()"
   ]
  },
  {
   "cell_type": "markdown",
   "metadata": {},
   "source": [
    "Se aprecia que no es necesario especificar un método ```__init__()``` para que la clase tenga un constructor predeterminado. Por otra parte, el concepto de **sobrecarga de operadores**, este se aprecia en las siguientes operaciones ya utilizadas:"
   ]
  },
  {
   "cell_type": "code",
   "execution_count": null,
   "metadata": {},
   "outputs": [],
   "source": [
    "print(9 + 9)\n",
    "print([1,2] + [3,4,5])\n",
    "print('nueve ' + 'nueve')"
   ]
  },
  {
   "cell_type": "markdown",
   "metadata": {},
   "source": [
    "El operador sobrecargado es ```+``` pues está habilitado para trabajar de manera *polimorfica*, es decir, en distintas clases o tipos de datos. Los métodos mágicos juegan un papel fundamental en la sobrecarga de operadores. \n",
    "\n",
    "**Ejemplo**\n",
    "\n",
    "El método mágico asociado al operador ```+``` es ```__add__()```. Por tanto, cada objeto sobre el cual se puede operar con ```+``` tiene su propia implementación de ```__add__()```, en el siguiente código se sobrecarga el operador para que actúe sobre objetos de la clase ```SiguienteClase```. "
   ]
  },
  {
   "cell_type": "code",
   "execution_count": null,
   "metadata": {},
   "outputs": [],
   "source": [
    "class SiguienteClase:\n",
    "    '''Clase modificada para sobrecargar el operado +.'''\n",
    "    \n",
    "    def __add__(self,other):\n",
    "        return 'clase sobrecargada sumada'\n",
    "\n",
    "siguiente_objeto_1 = SiguienteClase()\n",
    "siguiente_objeto_2 = SiguienteClase()\n",
    "\n",
    "siguiente_objeto_1 + siguiente_objeto_2"
   ]
  },
  {
   "cell_type": "markdown",
   "metadata": {},
   "source": [
    "**Ejercicios**\n",
    "\n",
    "1. Nombre los métodos mágicos asociados a los operadores ```-```, ```*```, ```//```, ```/```, ```%```, ```+=```,```*=```, ```<```, ```==``` y ```>=```.\n",
    "\n",
    "2. Defina la clase ```Temp```. Esta clase modela unidades de medida de temperatura (°C,°F y K) y permite sumarlas obteniendo el resultado en kelvins. Para esto, implemente:\n",
    "    1. Un atributo estático y privado ```__temp_conv```, consistente en un diccionario con los valores de conversión (ej. ```{'C': 274.15}```).\n",
    "    2. Un constructor que inicializa los atributos ```.val``` (float) y ```.unit``` (str). A estos atributos se les debe asociar una propiedad y setter correspondiente, donde se comprueba que los valores ```val``` sean superiores a 0 K y que las unidades ```.unit``` solo puedan ser 'C','F' o 'K'. \n",
    "    3. Un método ```.to_kelvin()``` que utiliza los atributos ```__temp_conv```, ```unit``` y ```val``` y retorna el valor correspondiente en kelvin.\n",
    "    4. Una sobrecarga al operador suma, de manera tal, que se puedan sumar objetos ```Temp``` con unidades de medición arbitrarias y se retorne un objeto ```Temp``` con el resultado en kelvins.\n",
    "    5. Una sobrecarga al operador ```__str__``` (método que conversión a tipo de dato string) que retorne el resultado del método ```.to_kelvin()``` concatenado con ' K'.\n",
    "    6. Una sobrecarga al operador ```__repr__``` (método de representación de objetos) que retorne un string de la forma ```'Temp('+ str(self.val) + ',' + self.unit + ')'```.\n",
    "    7. Defina objetos t1 y t2 de la clase ```Temp``` luego defina un objeto t3 como la suma de t1 y t2. Ejecute ```print(t3)```, ```str(t3)``` y luego ejecute ```t3```, relacione los *outputs* con el funcionamiento de ```__str__``` y ```__repr__```."
   ]
  },
  {
   "cell_type": "markdown",
   "metadata": {},
   "source": [
    "## Programación Modular\n",
    "\n",
    "La programación modular es una técnica de de diseño de software. Sus cimientos se fundan la simplificación de sistemas complejos por medio del modelado de sus componentes o módulos. Este principio es agnóstico al paradigma de programación usado y está presente en la gran mayoría de proyectos de software. \n",
    "\n",
    "Para diseñar programas mantenibles, confiables y de fácil lectura con un nivel de esfuerzo razonable, se recomienda utilizar técnicas de desarrollo modular. Aquí, es de vital importancia, reducir la interdependencia entre componentes del sistema, generando piezas (o módulos) lo más independiente posibles. \n",
    "\n",
    "Python posee un manejo de módulos nativo, este sigue la sintaxis:\n",
    "\n",
    "```python\n",
    "\n",
    "import module_name\n",
    "\n",
    "```\n",
    "\n",
    "Así un modulo en Python es un archivo con extensión ```.py``` consistente en código Python. Un módulo puede contener una cantidad arbitraria de objetos, como por ejemplo, clases, archivos funciones, etc. Tampoco hay una sintaxis predefinida para definir tales objetos. \n",
    "\n",
    "El comando ```import``` permite obtener acceso a todos los objetos del archivo ```.py```. \n",
    "\n",
    "**Ejemplo**\n",
    "\n",
    "El módulo ```math``` contiene ciertas constantes y funciones. A continuación se importa y se accede a algunos de sus objetos."
   ]
  },
  {
   "cell_type": "code",
   "execution_count": null,
   "metadata": {},
   "outputs": [],
   "source": [
    "import math\n",
    "\n",
    "# Función coseno\n",
    "print('Coseno cos(0): ',math.cos(0))\n",
    "\n",
    "#Función logaritmo natural\n",
    "\n",
    "print('logaritmo natural ln(1): ',math.log(1))\n",
    "\n",
    "#Constante de Euler\n",
    "print('Numero de Euler e: ',math.e)"
   ]
  },
  {
   "cell_type": "markdown",
   "metadata": {},
   "source": [
    "Al importar ```math``` se accede a sus funciones y constantes según la notación de objetos. Es posible importar solo algunos métodos o atributos por medio de la sintaxis:\n",
    "\n",
    "```python\n",
    "from module import method_1, attribute_1, ... , method_n\n",
    "```\n",
    "de la misma forma se pueden importar distintos módulos en una llamada por medio de\n",
    "\n",
    "```python\n",
    "import module_1, ..., module_n\n",
    "```\n",
    "otra sintaxis útil es \n",
    "\n",
    "```python\n",
    "from module import *\n",
    "```\n",
    "\n",
    "Esto quiere decir, que se importan todos los objetos de ```module```, directamente al namespace global. En el ejemplo del módulo ```math```,  al ejecutar la orden de importación usando el operador ```*```, ya no sería necesario llamar sus atributos y métodos por medio de ```math.cos()``` o ```math.e``` (para coseno y e) sino que se puede hacer directamente por medio de ```cos()``` y ```e```. \n",
    "\n",
    "**Obs**: Los objetos importados con `*` se cargan al *namespace* global, lo que implica re-escritura y probables conflictos con variables globales. Por este motivo, parte de la comunidad lo considera una mala práctica.\n",
    "\n",
    "Por último, al considerar los módulos importados como objetos, se pueden renombrar en el namespace global por medio de la sintaxis\n",
    "\n",
    "```python\n",
    "import module_name as new_name\n",
    "```\n",
    "\n",
    "**Ejemplo**\n",
    "\n",
    "Se importa el modulo random como rnd y se llama el método ```.gauss()```."
   ]
  },
  {
   "cell_type": "code",
   "execution_count": null,
   "metadata": {},
   "outputs": [],
   "source": [
    "import random as rnd\n",
    "\n",
    "# Gaussiana 0,1\n",
    "rnd.gauss(0,1)"
   ]
  },
  {
   "cell_type": "markdown",
   "metadata": {},
   "source": [
    "### Escritura de módulos\n",
    "\n",
    "Un módulo en Python es un archivo conteniendo ordenes y definiciones. El nombre del módulo se deduce del nombre del archivo. Por ejemplo si se tiene el archivo ```module.py``` el nombre del módulo sera ```module```. \n",
    "\n",
    "**Ejemplo**\n",
    "\n",
    "Se crea un archivo ```.py``` llamado ```zords.py```. Este archivo contiene las definiciones iniciales de las clases ```DinoZord```, ```Tyrannosaurus```, ```Mastodon```, ```Triceratops```, ```Sabertooth```, ```Pterodactyl``` y ```MegaZord```. Se importa según ```import zords``` y se accede a sus clases mediante la notación ```zord._____```. "
   ]
  },
  {
   "cell_type": "code",
   "execution_count": null,
   "metadata": {},
   "outputs": [],
   "source": [
    "import zords\n",
    "\n",
    "tyrannosaurus = zords.Tyrannosaurus()\n",
    "tyrannosaurus.pilot = 'Jason Lee Scott'\n",
    "\n",
    "mastodon = zords.Mastodon()\n",
    "mastodon.pilot = 'Zack Taylor'\n",
    "\n",
    "triceratops = zords.Triceratops()\n",
    "triceratops.pilot = 'Billy Cranston'\n",
    "\n",
    "sabertooth = zords.Sabertooth() \n",
    "sabertooth.pilot = 'Trini Kwan'\n",
    "\n",
    "pterodactyl = zords.Pterodactyl() \n",
    "pterodactyl.pilot = 'Kimberly Hart'\n",
    "\n",
    "mega_zord = zords.MegaZord(tyrannosaurus,mastodon,triceratops,sabertooth,pterodactyl)"
   ]
  },
  {
   "cell_type": "markdown",
   "metadata": {},
   "source": [
    "**Ejercicio** \n",
    "\n",
    "1. Modifique el módulo ```zords``` de manera tal que imprima ```Cargando información``` al importarlo. Por defecto, no se pueden recargar módulos en Python, para poder apreciar los cambios hechos, tendrá que ejecutar ```from imp import reload``` para finalmente recargar por medio de ```reload(zords)```."
   ]
  },
  {
   "cell_type": "markdown",
   "metadata": {},
   "source": [
    "Al importarse un módulo, el interprete de Python busca en la misma carpeta donde se está ejecutando el código actual, luego busca en las carpetas de la configuración global, denotadas por la variable PYTHONPATH en sistemas operativos linux. Finalmente busca en la ruta donde Python fue instalado. Para conocer dicho orden se puede acceder al atributo `path` del módulo `sys`."
   ]
  },
  {
   "cell_type": "code",
   "execution_count": null,
   "metadata": {},
   "outputs": [],
   "source": [
    "import sys\n",
    "sys.path"
   ]
  },
  {
   "cell_type": "markdown",
   "metadata": {},
   "source": [
    "Un conjunto de módulos agrupados en una estructura de carpetas, se denota **paquete**. Para que Python reconozca un paquete como tal, este debe tener un archivo ```__init__.py```. Esto significa que toda carpeta en el árbol de búsqueda de archivos de Python, con un archivo ```__init__.py```en su interior, se considera un paquete. \n",
    "\n",
    "**Ejemplo**\n",
    "\n",
    "1. Defina dos módulos ```A.py``` y ```B.py```. En el módulo ```A``` defina una función ```func_a``` que imprima en pantalla ```Función del modulo A```. De manera análoga defina  ```func_b``` en el módulo ```B```.\n",
    "\n",
    "2. Mueva los archivos ```A.py``` y ```B.py``` a la carpeta ```test_package``` ubicada en el mismo directorio que este notebook.\n",
    "\n",
    "3. En la carpeta ```test_package``` genere un archivo ```__init__.py``` vacío. Luego importe el paquete ```test_package``` por medio de ```import test_package```. ¿Como se accede a los módulos ```A``` y ```B``` desde esta configuración?\n",
    "\n",
    "4. Modifique el archivo ```__init__.py``` de manera tal que importe los módulos ```A``` y ```B```. *Hint* agregue lineas del tipo ```import package.module```\n",
    "\n",
    "5. Recargue el paquete ```test_package``` e intente acceder a las funciones de los módulos ```A``` y ```B```."
   ]
  }
 ],
 "metadata": {
  "kernelspec": {
   "display_name": "Python 3",
   "language": "python",
   "name": "python3"
  },
  "language_info": {
   "codemirror_mode": {
    "name": "ipython",
    "version": 3
   },
   "file_extension": ".py",
   "mimetype": "text/x-python",
   "name": "python",
   "nbconvert_exporter": "python",
   "pygments_lexer": "ipython3",
   "version": "3.8.2"
  },
  "nbTranslate": {
   "displayLangs": [
    "es",
    "en"
   ],
   "hotkey": "alt-t",
   "langInMainMenu": true,
   "sourceLang": "en",
   "targetLang": "es",
   "useGoogleTranslate": true
  },
  "toc": {
   "base_numbering": 1,
   "nav_menu": {},
   "number_sections": true,
   "sideBar": true,
   "skip_h1_title": false,
   "title_cell": "Table of Contents",
   "title_sidebar": "Contents",
   "toc_cell": false,
   "toc_position": {},
   "toc_section_display": true,
   "toc_window_display": false
  }
 },
 "nbformat": 4,
 "nbformat_minor": 4
}
