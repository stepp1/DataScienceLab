{
 "cells": [
  {
   "cell_type": "markdown",
   "metadata": {},
   "source": [
    "# MA6202: Laboratorio de Ciencia de Datos\n",
    "\n",
    "**Profesor: Nicolás Caro**\n",
    "\n",
    "**23/03/2020 - C4 S2**"
   ]
  },
  {
   "cell_type": "markdown",
   "metadata": {},
   "source": [
    "## Programación de Funciones en Python\n",
    "\n",
    "En Python, una función se define por medio de la orden ```def```. Asociada a está orden se encuentra la orden ```return```, ésta permite que las operaciones llevadas a cabo dentro del bloque definido por ```def``` puedan ser asignadas a una variable mediante el operado de asignación ```=```. Una función definida sin la orden ```return``` entrega como resultado el tipo de datos ```None```. Ya se han estudiado funciones básicas de Python, como lo son ```print()``` o ```iter()```. A continuación se estudia la sintaxis para definir funciones:\n",
    "\n",
    "**Ejemplo**\n",
    "Se crea la función ```hello_func()``` que entrega como resultado una impresión en pantalla con el texto ```'En efecto, soy una función'```."
   ]
  },
  {
   "cell_type": "code",
   "execution_count": 1,
   "metadata": {},
   "outputs": [],
   "source": [
    "def hello_func():\n",
    "    print('En efecto, soy una función')"
   ]
  },
  {
   "cell_type": "markdown",
   "metadata": {},
   "source": [
    "La función ```hello_func()``` se llama como cualquiera de las funciones antes utilizadas, vale destacar que ```hello_func()``` no tiene argumentos (o inputs) y siempre entrega el mismo resultado. Como no hay una orden de retorno de variable, se espera que al intentar asociar el resultado de ```hello_func()``` se obtenga un objeto tipo ```NoneType```."
   ]
  },
  {
   "cell_type": "code",
   "execution_count": 2,
   "metadata": {},
   "outputs": [
    {
     "name": "stdout",
     "output_type": "stream",
     "text": [
      "En efecto, soy una función\n",
      "Tipo de la asiganación: <class 'NoneType'>\n"
     ]
    }
   ],
   "source": [
    "h = hello_func()\n",
    "print('Tipo de la asiganación:',type(h))"
   ]
  },
  {
   "cell_type": "markdown",
   "metadata": {},
   "source": [
    "Al definir una función, es posible definir sus parámetros en la declaración. Esto sigue la sintaxis:\n",
    "\n",
    "```python\n",
    "def function(param_1,param_2):\n",
    "    action # bloque indentado\n",
    "    return value #return opcional\n",
    "```\n",
    "\n",
    "El bloque anterior define la función ```function``` que recibe como argumentos los parámetros ```param_1``` y ```param_2```, ejecuta la acción ```action``` y (opcionalmente) retorna el valor ```value```. \n",
    "\n",
    "**Obs:** Al definir una función se habla de los *parámetros* que la definen, por otra parte, al hacer uso (o llamar) la función, se le entregan *argumentos*. Ambos conceptos son muy similares pero finalmente distintos."
   ]
  },
  {
   "cell_type": "markdown",
   "metadata": {},
   "source": [
    "**Ejercicio**\n",
    "\n",
    "Es posible definir valores por defecto en las funciones definidas mediante ```def```, para ello se hace uso de la sintaxis.\n",
    "\n",
    "```python\n",
    "def function(param_1, param_2 = val_2):\n",
    "    action # bloque indentado\n",
    "    return res_1,res_2,_res_3\n",
    "```\n",
    "\n",
    "Acá no solo se toma el valor ```val_2``` por defecto, si no que además, se entregan múltiples resultados por medio de ```return```.\n",
    "\n",
    "**Obs:** Los parámetros con valores por defecto deben ser declarados a la derecha de todos aquellos parámetros sin valores predefinidos.\n",
    "\n",
    "1. Defina la función ```lF_n()``` que genera una lista con los primeros $n$ términos de una sucesión dada. Está función debe recibir como argumentos un entero ```n``` y una segunda función ```x_n()```, que describa el comportamiento de la sucesión. Pruebe con la sucesión $x_n = \\frac{1}{n}$.\n",
    "\n",
    "2. Defina la función ```norms()``` que calcula una aproximación de las normas $l^p$ y $l^q$ para una sucesión $(x_n)$ donde $p$ y $q$ son conjugados (distintos) $\\left(\\frac{1}{p} + \\frac{1}{q} = 1 \\right)$. La función debe calcular la aproximación de las normas hasta el término ```n``` de la sucesión. Los parámetros deben ser ```n```, ```p``` y ```x_n```, con valores por defecto ```n=10**5``` y ```p=3```. \n",
    "\n",
    "**Obs:** Componga con ```lF_n()``` y use compresión de listas. Utilice la notación ```return res_p,res_q``` para obtener los resultados. La función ```sum()``` y el operador ```**``` pueden ser de ayuda.\n",
    "\n",
    "3. Guarde e resultado de aplicar la función anterior sobre $x_n =\\frac{1}{n}$ para los valores por defecto.¿Qué tipo de dato obtuvo?"
   ]
  },
  {
   "cell_type": "markdown",
   "metadata": {},
   "source": [
    "### Ejercicio\n",
    "\n",
    "1. función lF_n() que genera una lista con los primeros 𝑛 términos de una sucesión dada"
   ]
  },
  {
   "cell_type": "code",
   "execution_count": 73,
   "metadata": {},
   "outputs": [],
   "source": [
    "from typing import Callable"
   ]
  },
  {
   "cell_type": "code",
   "execution_count": 82,
   "metadata": {},
   "outputs": [
    {
     "data": {
      "text/plain": [
       "[1.0,\n",
       " 0.5,\n",
       " 0.3333333333333333,\n",
       " 0.25,\n",
       " 0.2,\n",
       " 0.16666666666666666,\n",
       " 0.14285714285714285,\n",
       " 0.125,\n",
       " 0.1111111111111111,\n",
       " 0.1]"
      ]
     },
     "execution_count": 82,
     "metadata": {},
     "output_type": "execute_result"
    }
   ],
   "source": [
    "def lF_n(n: int, x_n: Callable[[int], float]) -> list:\n",
    "    return [x_n(i) for i in range(1, n+1)]\n",
    "\n",
    "lF_n(n=10, x_n=lambda n: 1/n)"
   ]
  },
  {
   "cell_type": "code",
   "execution_count": 99,
   "metadata": {},
   "outputs": [],
   "source": [
    "def norms(x_n: Callable[[int], float], n: int = 10**5, p: float = 3) -> float:\n",
    "    p_inv = p ** -1\n",
    "    q_inv = 1 - p_inv\n",
    "    \n",
    "    sucession = lF_n(n=n, x_n=x_n)\n",
    "    \n",
    "    l_p = sum([abs(x_i) ** p for x_i in sucession]) ** p_inv\n",
    "    l_q = sum([abs(x_i) ** p for x_i in sucession]) ** q_inv\n",
    "    return l_p, l_q"
   ]
  },
  {
   "cell_type": "code",
   "execution_count": 101,
   "metadata": {},
   "outputs": [
    {
     "data": {
      "text/plain": [
       "((1.063265385301667, 1.1305332795807022), tuple)"
      ]
     },
     "execution_count": 101,
     "metadata": {},
     "output_type": "execute_result"
    }
   ],
   "source": [
    "norms(x_n=lambda n: 1/n), type(norms(x_n=lambda n: 1/n))"
   ]
  },
  {
   "cell_type": "markdown",
   "metadata": {},
   "source": [
    "### Scopes \n",
    "\n",
    "En cada función se define un entorno de variables o *namespace*, esto quiere decir, que para cada función existe un conjunto de variables (o nombres) los cuales no tienen una relación *a priori* con las variables fuera de la función. Esto permite dilucidar la noción de **scope**, este concepto, se refiere al área donde son definidas las variables, por defecto en Python, aquellas variables no pueden interactuar fuera de tal área. \n",
    "\n",
    "Se pueden diferenciar 3 tipos de scopes:\n",
    "\n",
    "1. Global: variables (u objetos si se desea) definidas en el cuerpo del código.\n",
    "2. Local: variables definidas dentro de una función.\n",
    "3. Built-in: variables predefinidas por el modulo built-ins (como ```print()``` por ejemplo.)\n"
   ]
  },
  {
   "cell_type": "markdown",
   "metadata": {},
   "source": [
    "**Ejercicio**\n",
    "\n",
    "1. Defina la función ```suma_n()```de parámetros ```m``` y ```n=5```. Dentro de esta función defina la variable ```res = m+n``` luego retorne el valor de ```res```. En definitiva la función ```suma_n()```puede tomar uno o 2 argumentos, si toma uno, le suma 5, si toma 2, los suma. ¿Es posible acceder a la variable ```res``` luego de definir o ejecutar ```suma_n()```? explique.\n",
    "2. En una nueva celda defina ```p=100``` en el scope global, modifique ```suma_n()``` agregando la linea ```res = res*p```, retorne ```res```. Llame a la función modificada ```suma_np()```. ¿Existe alguna diferencia entre este ejercicio y el anterior? ¿Cual es la relación entre el scope global y local para este caso? explique\n",
    "3. En una nueva celda defina ```p=100``` dentro de ```suma_n()``` y antes de operar con ```res```. Llame a esta función modificada```suma_np_ext()```. Defina además ```p=20``` en el scope global. Ejecute ```suma_np_ext()``` para algún valor de control. En este caso y en relación a los scopes global y local, ¿qué fenómeno ocurre con la variable ```res```?\n",
    "\n",
    "**Obs:** Debería ser capaz de definir cierta jerarquía de scopes en la búsqueda de variables. Generalice tal jerarquía agregando el scope Built-in."
   ]
  },
  {
   "cell_type": "code",
   "execution_count": 123,
   "metadata": {},
   "outputs": [],
   "source": [
    "def suma_n(m, n=5):\n",
    "    res = m+n\n",
    "    return res"
   ]
  },
  {
   "cell_type": "code",
   "execution_count": 124,
   "metadata": {},
   "outputs": [
    {
     "data": {
      "text/plain": [
       "10"
      ]
     },
     "execution_count": 124,
     "metadata": {},
     "output_type": "execute_result"
    }
   ],
   "source": [
    "suma_n(5)"
   ]
  },
  {
   "cell_type": "code",
   "execution_count": 125,
   "metadata": {
    "scrolled": true
   },
   "outputs": [
    {
     "data": {
      "text/plain": [
       "1000"
      ]
     },
     "execution_count": 125,
     "metadata": {},
     "output_type": "execute_result"
    }
   ],
   "source": [
    "p=100\n",
    "\n",
    "def suma_np(m, n=5):\n",
    "    res = m+n\n",
    "    res = res * p\n",
    "\n",
    "    return res\n",
    "\n",
    "suma_np(5)"
   ]
  },
  {
   "cell_type": "code",
   "execution_count": 126,
   "metadata": {},
   "outputs": [
    {
     "data": {
      "text/plain": [
       "1000"
      ]
     },
     "execution_count": 126,
     "metadata": {},
     "output_type": "execute_result"
    }
   ],
   "source": [
    "p = 20\n",
    "\n",
    "def suma_np_ext(m, n=5):\n",
    "    res = m+n\n",
    "    p = 100\n",
    "    res = res * p\n",
    "\n",
    "    return res\n",
    "suma_np_ext(5)"
   ]
  },
  {
   "cell_type": "markdown",
   "metadata": {},
   "source": [
    "La orden ```global``` permite acceder a variables del scope global desde uno local, suponiendo que se desea acceder a la variable global ```var```, desde la función ```func()``` se sigue la sintaxis:\n",
    "\n",
    "```python\n",
    "def func(params):\n",
    "    global var\n",
    "    actions \n",
    "    return vals #opcional\n",
    "```"
   ]
  },
  {
   "cell_type": "markdown",
   "metadata": {},
   "source": [
    "**Ejercicio**\n",
    "\n",
    "1. Defina la variable global ```var = 18```, luego implemente la función ```var_20()```, que cambia el valor de ```var``` a 20 mediante la ejecución del comando ```var_20()```. \n",
    "\n",
    "Python permite definir funciones anidadas, cada función definida dentro de otra genera un nuevo scope local, y por tanto se generan múltiples scopes locales jerarquizados. Si por lo tanto, se desea acceder a un scope local externo (desde uno interno) la orden ```global``` deja de ser útil, pues esta solo hace referencia al scope global, la solución para este tipo de problemas es la orden ```nonlocal```.\n",
    "\n",
    "2. Modifique la función ```var_20()``` en una nueva celda. Agregue dentro de esta función la variable ```h=5``` inmediatamente bajo el comando ```global var```. Finalmente y bajo la declaración de ```h```, defina la función ```var_15()``` que cambia el valor de la variable global ```var``` a 15 y de la variable local ```h``` a 10 (del scope perteneciente a ```var_20()```) al final de ```var_20()``` ejecute ```var_15()``` e imprima el valor de ```h```. El resultado debería ser que el valor de la variable global ```var``` pasa a ser 15 y la función ```var_20()```, imprime el valor 10."
   ]
  },
  {
   "cell_type": "code",
   "execution_count": 151,
   "metadata": {},
   "outputs": [
    {
     "data": {
      "text/plain": [
       "20"
      ]
     },
     "execution_count": 151,
     "metadata": {},
     "output_type": "execute_result"
    }
   ],
   "source": [
    "var = 18\n",
    "def var_20(): global var; var = 20\n",
    "    \n",
    "var_20()\n",
    "var"
   ]
  },
  {
   "cell_type": "code",
   "execution_count": 158,
   "metadata": {},
   "outputs": [
    {
     "name": "stdout",
     "output_type": "stream",
     "text": [
      "10\n"
     ]
    },
    {
     "data": {
      "text/plain": [
       "20"
      ]
     },
     "execution_count": 158,
     "metadata": {},
     "output_type": "execute_result"
    }
   ],
   "source": [
    "var = 18\n",
    "\n",
    "def var_20(): \n",
    "    global var; \n",
    "    var_20.h = [5]\n",
    "    \n",
    "    def var_15():\n",
    "        global var;\n",
    "        var_20.h = 10;\n",
    "        \n",
    "    var = 20\n",
    "    \n",
    "    var_15()\n",
    "    print(h)\n",
    "    \n",
    "var_20()\n",
    "var"
   ]
  },
  {
   "cell_type": "code",
   "execution_count": 142,
   "metadata": {},
   "outputs": [
    {
     "data": {
      "text/plain": [
       "10"
      ]
     },
     "execution_count": 142,
     "metadata": {},
     "output_type": "execute_result"
    }
   ],
   "source": [
    "h = 5\n",
    "def var_15():\n",
    "    global h;\n",
    "    var = 15; \n",
    "    h = 10;\n",
    "    \n",
    "var_15()\n",
    "h"
   ]
  },
  {
   "cell_type": "markdown",
   "metadata": {},
   "source": [
    "### Funciones con Argumentos de largo Variable\n",
    "\n",
    "Los argumentos flexibles permiten entregar un numero arbitrario de argumentos (redundante pero cierto) a una función. La sintaxis para utilizar esta propiedad es\n",
    "\n",
    "```python\n",
    "def func(*args):\n",
    "    actions \n",
    "    return vals #opcional\n",
    "```\n",
    "\n",
    "En este caso se utiliza el operador ```*``` con la convención de variable ```args```, la cual pasa a ser un iterable en el scope de la función.\n",
    "\n",
    "**Ejemplo**\n",
    "\n",
    "Se estudia la sucesión $x_n = n^2$, se busca crear una función, que tome una cantidad arbitraria de valores enteros y retorne un lista con el valor de la sucesión en cada uno de esos enteros."
   ]
  },
  {
   "cell_type": "code",
   "execution_count": 157,
   "metadata": {},
   "outputs": [
    {
     "name": "stdout",
     "output_type": "stream",
     "text": [
      "<class 'tuple'>\n",
      "[1, 4, 9, 100]\n"
     ]
    }
   ],
   "source": [
    "# Sucesión\n",
    "def x_n(n):\n",
    "    return n**2\n",
    "\n",
    "\n",
    "# Función recolectora\n",
    "def rec_suc(suc, *args):\n",
    "    res = []\n",
    "    print(type(args))\n",
    "    for n in args:\n",
    "        res.append(suc(n))\n",
    "    return res\n",
    "\n",
    "\n",
    "\"\"\"\n",
    "Se estudia el resultado para los valores 1,2,3 y 10 \n",
    "Obs: no se entregan dentro de una lista, sino que cada uno por separado.\n",
    "\"\"\"\n",
    "\n",
    "print(rec_suc(x_n, 1, 2, 3, 10))"
   ]
  },
  {
   "cell_type": "markdown",
   "metadata": {},
   "source": [
    "**Ejercicio**\n",
    "\n",
    "1. ¿Qué tipo de dato iterable es args en el scope de ```rec_suc()```?"
   ]
  },
  {
   "cell_type": "markdown",
   "metadata": {},
   "source": [
    "De manera análoga, es posible definir funciones con argumentos etiquetados, para ello se utiliza la sintaxis:\n",
    "\n",
    "```python\n",
    "def func(**kwargs):\n",
    "    actions \n",
    "    return vals #opcional\n",
    "```\n",
    "Donde se ```kwargs``` hace referencia a *keyword arguments*. En este caso, ```kwargs``` pasa a ser un diccionario dentro del scope de ```func```. \n",
    "\n",
    "**Ejemplo**\n",
    "\n",
    "Se define una función que toma argumentos etiquetados e imprime en pantalla el diccionario que se genera."
   ]
  },
  {
   "cell_type": "code",
   "execution_count": 4,
   "metadata": {},
   "outputs": [
    {
     "name": "stdout",
     "output_type": "stream",
     "text": [
      "dict_items([('a', 1), ('b', 2), ('c', 3)])\n"
     ]
    }
   ],
   "source": [
    "def func(**kwargs):\n",
    "    print(kwargs.items())\n",
    "\n",
    "func(a=1,b=2,c=3)"
   ]
  },
  {
   "cell_type": "markdown",
   "metadata": {},
   "source": [
    "**Ejercicio**\n",
    "\n",
    "En general, se pueden definir funciones usando la sintaxis:\n",
    "\n",
    "```python\n",
    "def example(arg_1, arg_2, *args, kw_1=val_1,...\n",
    "    kw_2=val_2,**kwargs):\n",
    "    ...\n",
    "    return res\n",
    "```\n",
    "\n",
    "Es decir, los parámetros con posición \"formales\" son los primeros en la definición, posteriormente se definen los parámetros con largo arbitrario, en tercera instancia se definen los argumentos con valores por defecto y finalmente los argumentos etiquetados de largo arbitrario.\n",
    "\n",
    "1. Defina una función que haga uso de todos los tipos de argumentos."
   ]
  },
  {
   "cell_type": "markdown",
   "metadata": {},
   "source": [
    "##### Funciones lambda\n",
    "\n",
    "Cuando se trabaja con funciones simples, la notación ```def``` puede ser \n",
    "lenta e innecesaria. En este contexto, Python posee las funciones **lambda**. Estas se pueden considerar como un análogo de las funciones, como la comprensión de listas en relación a los ciclos. \n",
    "\n",
    "La sintaxis es bastante sencilla y hace uso de **pattern matching**, así, si por ejemplo se quiere definir la función:\n",
    "\n",
    "```python\n",
    "def mult_5(x):\n",
    "    return x*5\n",
    "```\n",
    "\n",
    "Esta se puede reemplazar por\n",
    "\n",
    "```python\n",
    "mult_5 = lambda x: x*5\n",
    "```\n",
    "\n",
    "Es decir, se sigue la sintaxis:\n",
    "\n",
    "```python\n",
    "func_name = lambda arg_1, arg_2: action\n",
    "```\n",
    "En ciencia de datos, la utilidad de las funciones ```lambda``` generalmente se asocia a las operaciones ```map()```, ```filter()``` (y ```reduce()``` usando usando el modulo functools). Estás operaciones se denotan como **funciones de orden superior** pues reciben otra función como argumento. \n",
    "\n",
    "* ```map()``` permite aplicar la función objetivo sobre un contenedor (como una lista) elemento por elemento, el resultado es un objeto tipo ```map``` que entre sus características es un iterable. (ejemplo: elevar al cuadrado cada elemento de una lista)\n",
    "\n",
    "* ```filter()``` permite mantener elementos de un arreglo según el valor de verdad asociado a cada uno por la función objetivo. (ejemplo: mantener en una lista solo números pares)\n",
    "\n",
    "La sintaxis en cada uno de los casos anteriores es:\n",
    "\n",
    "```python\n",
    "map(función,arreglo)\n",
    "```\n",
    "\n",
    "```python\n",
    "filter(función,arreglo)\n",
    "```\n",
    "\n",
    "Para este tipo de funciones es una práctica común, definir funciones anónimas por medió de la orden ```lambda``` según la sintaxis:\n",
    "\n",
    "```python\n",
    "map(lambda var: acción,arreglo)\n",
    "```\n",
    "\n",
    "Análogo para filter."
   ]
  },
  {
   "cell_type": "markdown",
   "metadata": {},
   "source": [
    "**Ejercicios**\n",
    "\n",
    "En strings el método ```.upper()``` transformar el contenido en mayúsculas. \n",
    "\n",
    "1. Cree la función ```to_upper()``` que toma un string y retorna una versión en mayúsculas. Utilice una linea de código.\n",
    "\n",
    "El método ```.split()```permite obtener todas las palabras de un string. Por otra parte, la función ```len()``` permite obtener el largo de un arreglo o cantidad de letras en una palabra.\n",
    "\n",
    "2. Quite de la variable ```w```, todas aquellas palabras de tamaño 3 o menos. Transforme el resultado en una lista. Utilice una linea de código actualice el valor de ```w```. **No** utilice comprensión de listas. (*hint: filter + conversión de datos*)\n",
    "\n",
    "3. Transforme a mayúsculas todas las palabras que terminen en 'r'. (**Si**) Utilice comprensión de listas. Considere  además cada palabra como una lista y acceda la última letra con el slice correspondiente. Utilice ```map()``` transformando el resultado en una lista y actualizando el valor de ```w```."
   ]
  },
  {
   "cell_type": "code",
   "execution_count": 164,
   "metadata": {},
   "outputs": [
    {
     "data": {
      "text/plain": [
       "'All that is gold does not glitter, Not all those who wander are lost; The old that is strong does not wither, Deep roots are not reached by the frost.'"
      ]
     },
     "execution_count": 164,
     "metadata": {},
     "output_type": "execute_result"
    }
   ],
   "source": [
    "w = \"All that is gold does not glitter, Not all those who wander are lost; The old that is strong does not wither, Deep roots are not reached by the frost.\"\n",
    "w"
   ]
  },
  {
   "cell_type": "code",
   "execution_count": 159,
   "metadata": {},
   "outputs": [],
   "source": [
    "def to_upper(string): return string.upper()"
   ]
  },
  {
   "cell_type": "code",
   "execution_count": 160,
   "metadata": {},
   "outputs": [
    {
     "data": {
      "text/plain": [
       "'ABC'"
      ]
     },
     "execution_count": 160,
     "metadata": {},
     "output_type": "execute_result"
    }
   ],
   "source": [
    "to_upper(\"abc\")"
   ]
  },
  {
   "cell_type": "code",
   "execution_count": 173,
   "metadata": {},
   "outputs": [],
   "source": [
    "a = lambda c: c if len(c) > 3 else ''"
   ]
  },
  {
   "cell_type": "code",
   "execution_count": 175,
   "metadata": {},
   "outputs": [
    {
     "data": {
      "text/plain": [
       "['that',\n",
       " 'gold',\n",
       " 'does',\n",
       " 'glitter',\n",
       " 'those',\n",
       " 'wander',\n",
       " 'lost',\n",
       " 'that',\n",
       " 'strong',\n",
       " 'does',\n",
       " 'wither',\n",
       " 'Deep',\n",
       " 'roots',\n",
       " 'reached',\n",
       " 'frost']"
      ]
     },
     "execution_count": 175,
     "metadata": {},
     "output_type": "execute_result"
    }
   ],
   "source": [
    "list(filter( lambda c: c if len(c) > 3 else '', w.replace('.', '').replace(';', '').replace(',', '').split(' ')))"
   ]
  },
  {
   "cell_type": "markdown",
   "metadata": {},
   "source": [
    "### Docstrings\n",
    "\n",
    "\n",
    "Cuando creamos funciones, lo hacemos principalmente por su funcionalidad, si trabajamos con otros desarrolladores, hacemos uso de comentarios por medio de la sintaxis ```# Comentario``` para comentarios de una linea o\n",
    "\n",
    "```python\n",
    "\"\"\"\n",
    "Para \n",
    "     comentarios \n",
    "                 multilinea\n",
    "\"\"\"\n",
    "```\n",
    "\n",
    "Sin embargo, hay que tener en cuenta, que en general, se leerá el código más durante más tiempo (por uno mismo o los desarrolladores) del que pasará escribiéndolo. \n",
    "\n",
    "El sistema de comentarios puede funcionar de manera perfecta al trabajar con desarrolladores con acceso al código fuente, pero al momento de que un usuario desee entender el significado de una función o trozo de código, no podrá necesariamente acceder al código de fuente cada vez que necesite utilizar sus funciones. \n",
    "\n",
    "El término *Docstring* en Python se refiere a la documentación de tipo string asociada a una función, clase, modulo o método. Esta documentación se accede por medio del atributo ```.__doc__``` sobre el objeto que se desea consultar. \n",
    "\n",
    "Este atributo permite comprender la funcionalidad de trozos de código a un nivel general y transversal (tanto para desarrolladores como para usuarios). Debido a que un *Docstring* es en esencia un texto producido por el programador para ser entendido por el público general (en especial el programador mismo), es que aparecen distintos tipos de estándar para generar estas documentaciones. \n",
    "\n",
    "A continuación se revisan algunos lineamientos a la hora de construir docstrings:\n",
    "\n",
    "Para Docstrings de una linea:\n",
    "\n",
    "* Se usa ```\"\"\" \"\"\"``` inclusive si se puede escribir todo en una linea.\n",
    "* Las comillas que inicial la documentación están en la misma linea que aquellas que la cierran.\n",
    "* El docstring es una frase que termina en punto, describe el objeto al cual se hace referencia y su efecto en la forma (accion,resultado).\n",
    "* La documentación no debe tener la \"firma\" (signature) del objeto subyacente: \n",
    "\n",
    "```python\n",
    "# Mala practica:\n",
    "def funcion_suma(a,b):\n",
    "    \"\"\" funcion(a,b) -> int \"\"\"\n",
    "    return a+b\n",
    "    \n",
    "# Buena práctica:\n",
    "def funcion_suma(a,b):\n",
    "    \"\"\"Suma (a+b) retorna un entero \"\"\"\n",
    "    return a+b\n",
    "```\n",
    "\n",
    "Docstrings multilinea:\n",
    "\n",
    "* La documentación debe estar indentada completamente.\n",
    "\n",
    "* La primera linea debe ser siempre un resumen corto y conciso de el propósito del objeto que se documenta.\n",
    "\n",
    "* Debe haber una linea en blanco luego del resumen corto. Se puede agregar una explicación más profunda posterior al espacio.\n",
    "\n",
    "En general existen cualidades comunes al momento de crear un docstring, estas incluyen, argumentos, atributos y resultados (returns). Los distintos estándares de creación de documentos abordan esto, dentro de los estándares más comunes se encuentran:\n",
    "\n",
    "[Estándar google](https://github.com/google/styleguide/blob/gh-pages/pyguide.md#38-comments-and-docstrings)\n",
    "\n",
    "[Estándar Numpy/Scipy](https://numpydoc.readthedocs.io/en/latest/format.html)\n",
    "\n",
    "Una buena guia de manejo de docstrings se puede encontrar en la [documentación oficial](https://www.python.org/dev/peps/pep-0257/) de Python.\n"
   ]
  },
  {
   "cell_type": "markdown",
   "metadata": {},
   "source": [
    "**Ejercicios**\n",
    "\n",
    "El estándar a seguir en este curso será el de Numpy/Scipy.\n",
    "\n",
    "1. Estudie los lineamientos que tal estándar supone.\n",
    "2. Aplique tales lineamientos a todas las funciones definidas en este notebook.\n",
    "3. Elija una de las funciones, para una de las cuales confeccionó un docstring y acceda a tal documentación por medio del atributo ```función.__doc__```. (Desde un entorno jupyter notebook: ¿Qué ocurre se presiona las teclas ```shift+tab``` con el cursor dentro de la función? ejemplo: sum(|) ```shift+tab``` donde \"|\" es el cursor)"
   ]
  },
  {
   "cell_type": "markdown",
   "metadata": {},
   "source": [
    "Para construir código \"pythonico\" vale decir, de fácil lectura y no redundante, se recomienda seguir la guiá de estilo [PEP8](https://www.python.org/dev/peps/pep-0008/), su uso es transversal y se considera una buena práctica utilizarlo."
   ]
  },
  {
   "cell_type": "markdown",
   "metadata": {},
   "source": [
    "### Mutabilidad e Inmutabilidad Revisitada\n",
    "\n",
    "Como se ya se vio, se puede considerar que todo en python es un objeto. Por otra parte, estos objetos pueden ser **mutables** o **inmutables**. Se dijo que los objetos mutables son aquellos que pueden ser modificados luego de ser creados (o asignados), su contraparte son los objetos inmutables."
   ]
  },
  {
   "cell_type": "markdown",
   "metadata": {},
   "source": [
    "**Ejercicios**\n",
    "\n",
    "Una forma de identificar si un tipo de dato u objeto es mutable, es por medio de las funciones base ```id()``` y ```type()```. ```id()``` entrega un numero identificador asociado a la variable sobre la cual opera. ```type()```, como ya se vio, entrega el tipo de dato asociado a la variable sobre la cual opera.\n",
    "\n",
    "1. ¿Son mutables los objetos ```list```? para responder, declare una variable ```v1=[valores]``` tipo ```list``` e identifiquela según su *id*. Declare una nueva variable ```v2 = v1```. Compare el *id* de ```v1``` y ```v2``` por medio de alguna sentencia lógica. Cambie la entrada correspondiente al primer indice de ```v1```, luego imprima en pantalla ```v2```. Concluya.\n",
    "\n",
    "2. ¿Como se comporta la asignación de *id* en objetos mutables? para responder, declare una variable tipo ```dict``` (mutable) ```v3 = {llaves:valores}```, obtenga su *id*. Declare la variable ```v4 = {llaves:valores}``` (**obs:** las variables  ```v3``` y ```v4``` están definidas por las **mismas** llaves y valores). ¿Se espera que los *id* sean iguales?\n",
    "\n",
    "4. Deduzca que los objetos ```string``` son inmutables en función del comportamiento de sus *id*.\n",
    "\n",
    "4. Identifique por lo menos tres tipos de datos mutables."
   ]
  },
  {
   "cell_type": "markdown",
   "metadata": {},
   "source": [
    "Se puede deducir que Python maneja objetos mutables e inmutables de manera distinta. En este aspecto, los objetos inmutables son accesibles de manera más eficiente. Sin embargo, son estáticos, esto se evidencia al querer modificar un valor, proceso que conlleva la creación de una copia del inmutable original. \n",
    "\n",
    "En general, se utilizan objetos mutables cuando se desea cambiar el tamaño o atributos de un objeto a medida que es procesado por un código. Por su parte, se utilizan objetos inmutables si se desea acceder e iterar de manera eficiente en estructuras que no cambian frecuentemente en el código."
   ]
  },
  {
   "cell_type": "markdown",
   "metadata": {},
   "source": [
    "**Ejercicio**\n",
    "\n",
    "¿Inmutables que mutan?\n",
    "\n",
    "1. Las tuplas son inmutables. Declare una tupla que contenga un objeto inmutable y una variable asignada a un objeto mutable. **Ejemplo:** ```tupla = ('texto', v1)]``` donde ```v1 = [0,1]```. Imprima el valor de la tupla, modifique la variable mutable, vuelva a imprimir el valor de la tupla. Compruebe que ningún *id* cambia. Concluya que un objeto inmutable no cambia sus *referencias* (enlaces a los *id* de sus atributos) pero que sus atributos si pueden cambiar. \n",
    "\n",
    "**Obs:** Puede ser conveniente imaginar los *id* de Python como *direcciones de memoria*. En tal sentido, lo objetos mutables se comportan como punteros a un espacio de memoria. Si el espacio de memoria se modifica, las variables que apuntan a tal espacio reflejan su cambio. En este sentido, un objeto inmutable permite tener solo un puntero por espacio memoria."
   ]
  },
  {
   "cell_type": "markdown",
   "metadata": {},
   "source": [
    "Los objetos mutables e inmutables tienen cabida en la **evaluación de funciones**, pensemos por ejemplo en la siguiente función:"
   ]
  },
  {
   "cell_type": "code",
   "execution_count": 6,
   "metadata": {},
   "outputs": [],
   "source": [
    "def cambia_0(x):\n",
    "    ''' Cambia el primer indice de una lista. '''\n",
    "    x[0] = 'cambiado'"
   ]
  },
  {
   "cell_type": "markdown",
   "metadata": {},
   "source": [
    "Si se define la lista:"
   ]
  },
  {
   "cell_type": "code",
   "execution_count": 7,
   "metadata": {},
   "outputs": [],
   "source": [
    "lista = ['no_cambiar', 2, 3]"
   ]
  },
  {
   "cell_type": "markdown",
   "metadata": {},
   "source": [
    "y se llama la función ```cambia_0(lista)```, entonces, al ser ```list``` un objeto mutable, el valor original de lista pasa a ser\n",
    "```lista = ['cambiado', 2, 3]``` aún cuando se accedió desde un scope local y ```lista``` fue definido en el scope global. "
   ]
  },
  {
   "cell_type": "markdown",
   "metadata": {},
   "source": [
    "**Ejercicio**\n",
    "\n",
    "1. ¿Qué resultado espera impreso luego del siguiente código? ¿se diferencia del ejemplo revisado con listas?\n",
    "\n",
    "```python\n",
    "n = 1\n",
    "def suma_7(x):\n",
    "    ''' Toma un entero y le suma 7.'''\n",
    "    x += 7\n",
    "\n",
    "suma_7(n)\n",
    "print(n)\n",
    "``` "
   ]
  },
  {
   "cell_type": "markdown",
   "metadata": {},
   "source": [
    "Dado lo anterior, vale la pena considerar el tratamiento de objetos mutables a la hora de trabajar con funciones. Una buena práctica es evitar objetos mutables como valores por defecto."
   ]
  },
  {
   "cell_type": "markdown",
   "metadata": {},
   "source": [
    "**Ejercicio** \n",
    "\n",
    "Se define la iguiente función:\n",
    "```python\n",
    "def add_key(value, d = dict()):\n",
    "    \"\"\"Agrega una llave al diccionario `d`.\n",
    "  \n",
    "    La llave se denota por \"key_<n>\" donde \"n\" es\n",
    "    un indice numerico dado por el total de llaves.\n",
    "    \n",
    "    Args:\n",
    "        value: Valor a agregar en la nueva llave.\n",
    "        d: Diccionario a actualizar (opcional), si no se \n",
    "           entrega, se asume un diccionario vacio.\n",
    "           \n",
    "    Returns:\n",
    "        dict\n",
    "    \"\"\"\n",
    "    llave = 'col_'+str(len(d.keys()))\n",
    "    d[llave] = value\n",
    "    return d\n",
    "```\n",
    "1. Compruebe que en efecto es una mala práctica definir mutables como parámetros default. Para ello ejecute ```print(add_key(1))``` y luego ```print(add_key(2))``` ¿qué resultado espera en la segunda impresión?\n",
    "\n",
    "2. Arregle el error de la función, para ello haga uso del tipo de datos ```None``` y un control de flujo ```if```.\n"
   ]
  },
  {
   "cell_type": "markdown",
   "metadata": {},
   "source": [
    "### Manejo de Errores\n",
    "\n",
    "El manejo de excepciones en Python sigue una estructura similar a la de otros lenguajes de programación. Aquí, se hace uso de bloques```try``` seguidos de uno o más bloques ```except```. El contenido del bloque ```try``` se ejecuta en primera instancia y con normalidad, hasta que aparece un error o excepción de cierto tipo (```KeyError``` por ejemplo). En tal punto, se pasa al bloque except identificado con el tipo de excepción que se presente. "
   ]
  },
  {
   "cell_type": "markdown",
   "metadata": {},
   "source": [
    "**Ejemplo**\n",
    "\n",
    "Se desea acceder a la llave ```19``` del diccionario ```D```. Esto no es posible, pues tal llave no existe en ```D```. Sin embargo, se crea un bloque ```try```-```except``` que evita que el programa se detenga."
   ]
  },
  {
   "cell_type": "code",
   "execution_count": 8,
   "metadata": {},
   "outputs": [
    {
     "name": "stdout",
     "output_type": "stream",
     "text": [
      "Intentaremos acceder a la llave, 19 \n",
      "\n",
      "Error!, llave no valida \n",
      "\n",
      "El programa continua\n"
     ]
    }
   ],
   "source": [
    "data = [\n",
    "    'The Zen of Python, by Tim Peters', 'Beautiful is better than ugly.',\n",
    "    \"Explic'it is better than implicit.\"\n",
    "    'Simple is better than complex.', 'Complex is better than complicated.',\n",
    "    'Flat is better than nested.', 'Sparse is better than dense.',\n",
    "    'Readability counts.',\n",
    "    \"Special cases aren't special enough to break the rules.\",\n",
    "    'Although practicality beats purity.',\n",
    "    'Errors should never pass silently.', 'Unless explicitly silenced.',\n",
    "    'In the face of ambiguity, refuse the temptation to guess.',\n",
    "    'There should be one-- and preferably only one --obvious way to do it.',\n",
    "    \"Although that way may not be obvious at first unless you're Dutch.\",\n",
    "    'Now is better than never.',\n",
    "    'Although never is often better than *right* now.',\n",
    "    \"If the implementation is hard to explain, it's a bad idea.\",\n",
    "    'If the implementation is easy to explain, it may be a good idea.',\n",
    "    \"Namespaces are one honking great idea -- let's do more of those!\"\n",
    "]\n",
    "\n",
    "key = len(data)\n",
    "D = dict(enumerate(data))\n",
    "print('Intentaremos acceder a la llave,', key, '\\n')\n",
    "\n",
    "# Accedemos dentro de un bloque try-except.\n",
    "try:\n",
    "    print(D[key])\n",
    "except:\n",
    "    print('Error!, llave no valida \\n')\n",
    "\n",
    "print('El programa continua')"
   ]
  },
  {
   "cell_type": "markdown",
   "metadata": {},
   "source": [
    "En vez de mostrar un mensaje de error genérico, Python muestra el tipo de error que causa una excepción en el programa si se ejecuta el programa anterior sin un bloque ```try```-```except``` se obtiene el error:\n",
    "\n",
    "```python\n",
    "KeyError: 19\n",
    "```\n",
    "\n",
    "Pues se desea acceder a tal llave."
   ]
  },
  {
   "cell_type": "markdown",
   "metadata": {},
   "source": [
    "**Ejercicios**\n",
    "\n",
    "1. Nombre al menos 6 tipos de excepciones en Python. (*hint:https://docs.python.org/3/library/exceptions.html#bltin-exceptions* )\n",
    "2. Genere un código que produzca exepciones del tipo: ```NameError```,```ZeroDivisionError``` y ```TypeError```."
   ]
  },
  {
   "cell_type": "markdown",
   "metadata": {},
   "source": [
    "Un bloque ```try``` puede tener más de un bloque ```except``` asociado, cada ```except``` explicita acciones a realizarse según el tipo de excepción aparecida en el código. A lo más, se podrá ejecutar un ```except``` (de los posiblemente múltiples). El código que maneja la excepción, asociada a un bloque ```except``` se le denomina *handler*. \n",
    "\n",
    "Las excepciones (del ejercicio anterior por ejemplo) pueden ser utilizadas para definir distintos handlers según la sintaxis: \n",
    "\n",
    "```python\n",
    "try:\n",
    "    # Acción que se desea ejecutar\n",
    "    code_to_try\n",
    "    \n",
    "# Ejemplos de handlers y su sintaxis\n",
    "except RuntimeError:\n",
    "    handler_RuntimeError\n",
    "\n",
    "except ZeroDivisionError:\n",
    "    handler_ZeroDivisionError\n",
    "    \n",
    "except TypeError:\n",
    "     handler_TypeError\n",
    "...\n",
    "```\n",
    "\n",
    "Una manera más compacta viene dada por el uso de tuplas:\n",
    "\n",
    "\n",
    "```python\n",
    "try:\n",
    "    # Acción que se desea ejecutar\n",
    "    code_to_try\n",
    "    \n",
    "# Ejempos de handlers y su sintaxis\n",
    "except (RuntimeError,ZeroDivisionError,TypeError):\n",
    "    handler_multi_exception\n",
    "...\n",
    "```\n",
    "\n",
    "Finalmente, es posible tratar una excepción como una variable dentro de la scope que genera, para ello se utiliza la orden ```in``` según la sintaxis:\n",
    "\n",
    "```python\n",
    "try:\n",
    "    # Acción que se desea ejecutar\n",
    "    code_to_try\n",
    "    \n",
    "# Ejemplo de handler usando la variable err\n",
    "except RuntimeError as err:\n",
    "    handler_RuntimeError(err) #el handler usa la variable err\n",
    "\n",
    "```"
   ]
  },
  {
   "cell_type": "markdown",
   "metadata": {},
   "source": [
    "**Ejemplo**\n",
    "\n",
    "Supongamos que se desea tener acceso a un archivo, pero no se escribe el nombre correcto, esto es equivalente a acceder a un archivo que para el sistema es inexistente. La excepción asociada es del tipo ```FileNotFoundError```, vale destacar que las excepción son objetos de la clase ```Expeption``` y que por lo tanto tienen métodos (funciones) y atributos asociados. En este caso la variable ```err``` \n",
    "tiene el atributo ```.filename``` que hace referencia al archivo que se desea acceder:"
   ]
  },
  {
   "cell_type": "code",
   "execution_count": 9,
   "metadata": {
    "scrolled": true
   },
   "outputs": [
    {
     "name": "stdout",
     "output_type": "stream",
     "text": [
      "Error! archivo no encontrado: archivo_inexistente.txt\n"
     ]
    }
   ],
   "source": [
    "try:\n",
    "    '''\n",
    "    La función open permite leer y excribir archivos de manera nativa\n",
    "    '''\n",
    "    f = open('archivo_inexistente.txt')\n",
    "    s = f.readline()\n",
    "    i = int(s.strip())\n",
    "\n",
    "except FileNotFoundError as err:\n",
    "    print(\"Error! archivo no encontrado:\", err.filename)"
   ]
  },
  {
   "cell_type": "markdown",
   "metadata": {},
   "source": [
    "**Ejercicio**\n",
    "\n",
    "1. Considere un conjunto de bloques ```try```-```except``` donde cada ```except``` tiene especificado su comportamiento según una excepción especifica. ¿Es posible declarar un último bloque ```except``` al final, sin tener este, ninguna excepción asociada?"
   ]
  },
  {
   "cell_type": "markdown",
   "metadata": {},
   "source": [
    "La estructura de los bloques ```try``` es similar a la de los bloques ```if```, estos, de hecho, comparten el uso de la orden ```else```. Cuando se utiliza esta última, el flujo comienza por la clausula ```try``` para luego pasar por cada bloque ```except```, si no se levanta ninguna excepción, se ejecuta el bloque ```else```.\n",
    "\n",
    "**Ejemplo**\n",
    "\n",
    "El siguiente ciclo, intenta acceder a los archivos ```files = [archivo_inexistente_1, archivo_inexistente_2, ejemplo_2.txt]```"
   ]
  },
  {
   "cell_type": "code",
   "execution_count": 10,
   "metadata": {},
   "outputs": [
    {
     "name": "stdout",
     "output_type": "stream",
     "text": [
      "No se encuentra: archivo_inexistente_1 \n",
      "\n",
      "No se encuentra: archivo_inexistente_2 \n",
      "\n",
      "Archivo: ejemplo_2.txt \n",
      "\n",
      " This sentence has five words. Here are five more words. Five-word sentences are fine. But several together become monotonous. Listen to what is happening. The writing is getting boring. The sound of it drones. It’s like a stuck record. The ear demands some variety. Now listen. I vary the sentence length, and I create music. Music. The writing sings. It has a pleasant rhythm, a lilt, a harmony. I use short sentences. And I use sentences of medium length. And sometimes, when I am certain the reader is rested, I will engage him with a sentence of considerable length, a sentence that burns with energy and builds with all the impetus of a crescendo, the roll of the drums, the crash of the cymbals–sounds that say listen to this, it is important.\n",
      "\n"
     ]
    }
   ],
   "source": [
    "files = ['archivo_inexistente_1', 'archivo_inexistente_2', 'ejemplo_2.txt']\n",
    "for fi in files:\n",
    "    try:\n",
    "        '''\n",
    "        Intenta abrir los archivos de la lista\n",
    "        '''\n",
    "        text = open(fi, 'r')\n",
    "    except FileNotFoundError:\n",
    "        '''\n",
    "        Si no se encuentra el archivo, lo imprime en pantalla\n",
    "        '''\n",
    "        print('No se encuentra:', fi, '\\n')\n",
    "    else:\n",
    "        '''\n",
    "        Si no aparecen excepciones, aplica el código siguiente\n",
    "        '''\n",
    "        print('Archivo:', text.name, '\\n')\n",
    "        print(text.read())\n",
    "        text.close()"
   ]
  },
  {
   "cell_type": "markdown",
   "metadata": {},
   "source": [
    "Como se puede ver, los archivos inexistentes 1 y 2 arrojan el mensaje de error correspondiente. Por su parte, dado que ejemplo_2.txt existe en entorno de trabajo, no levanta ninguna excepción y ejecuta el código correspondiente:\n",
    "\n",
    "1. Mostrar el nombre del archivo con el atributo ```.name```.\n",
    "2. Mostrar el contenido en pantalla con el método ```.read()```\n",
    "3. Finalmente, cerrar la conexión al archivo de texto por medio del método ```.close()```."
   ]
  },
  {
   "cell_type": "markdown",
   "metadata": {},
   "source": [
    "Por otra parte, la orden ```raise``` permite forzar la aparición de una excepción.\n",
    "\n",
    "**Ejemplo**\n",
    "\n",
    "A continuación se levanta el error ```ValueError```, sin algún contexto especifico."
   ]
  },
  {
   "cell_type": "code",
   "execution_count": 11,
   "metadata": {},
   "outputs": [
    {
     "ename": "ValueError",
     "evalue": "",
     "output_type": "error",
     "traceback": [
      "\u001b[0;31m---------------------------------------------------------------------------\u001b[0m",
      "\u001b[0;31mValueError\u001b[0m                                Traceback (most recent call last)",
      "\u001b[0;32m<ipython-input-11-f1de81a366dd>\u001b[0m in \u001b[0;36m<module>\u001b[0;34m\u001b[0m\n\u001b[0;32m----> 1\u001b[0;31m \u001b[0;32mraise\u001b[0m \u001b[0mValueError\u001b[0m\u001b[0;34m\u001b[0m\u001b[0;34m\u001b[0m\u001b[0m\n\u001b[0m",
      "\u001b[0;31mValueError\u001b[0m: "
     ]
    }
   ],
   "source": [
    "raise ValueError "
   ]
  },
  {
   "cell_type": "markdown",
   "metadata": {},
   "source": [
    "Esta herramienta permite mayor control sobre los errores y el comportamiento que puede manejar nuestro código. "
   ]
  },
  {
   "cell_type": "markdown",
   "metadata": {},
   "source": [
    "**Ejercicio**\n",
    "\n",
    "1. Levante una excepción del tipo ```OSError``` con el mensaje: ```msj = 'Esta excepción actuá sobre errores producidos en el sistema, se relaciona comúnmente a fallas de input - output como lo es \"disk full\"'```. Para ello, deberá llamar el objeto ```OSError(msj)``` en conjunto con una orden ```raise```.\n",
    "\n",
    "2. Supongamos que tenemos una porción del código que arroja una excepción del tipo ```OSError(msj)```, tal porción la manejamos por medio de bloques ```try```-```except``` según el siguiente código:"
   ]
  },
  {
   "cell_type": "code",
   "execution_count": 182,
   "metadata": {},
   "outputs": [],
   "source": [
    "msj  = 'Esta excepción actúa sobre errores producidos en el sistema, se ' \n",
    "msj += 'realciona comúnmente a fallas de input - output como lo es \"disk full\"'"
   ]
  },
  {
   "cell_type": "code",
   "execution_count": 227,
   "metadata": {},
   "outputs": [
    {
     "ename": "TypeError",
     "evalue": "catching classes that do not inherit from BaseException is not allowed",
     "output_type": "error",
     "traceback": [
      "\u001b[0;31m---------------------------------------------------------------------------\u001b[0m",
      "\u001b[0;31mOSError\u001b[0m                                   Traceback (most recent call last)",
      "\u001b[0;32m<ipython-input-227-fe7b8ffc4180>\u001b[0m in \u001b[0;36m<module>\u001b[0;34m\u001b[0m\n\u001b[1;32m      4\u001b[0m     \u001b[0;31m# Código simulado 1ue arroja un error OSError(msj)\u001b[0m\u001b[0;34m\u001b[0m\u001b[0;34m\u001b[0m\u001b[0;34m\u001b[0m\u001b[0m\n\u001b[0;32m----> 5\u001b[0;31m     \u001b[0mos\u001b[0m\u001b[0;34m.\u001b[0m\u001b[0mwrite\u001b[0m\u001b[0;34m(\u001b[0m\u001b[0;36m3\u001b[0m\u001b[0;34m,\u001b[0m \u001b[0;34m'asdasd'\u001b[0m\u001b[0;34m.\u001b[0m\u001b[0mencode\u001b[0m\u001b[0;34m(\u001b[0m\u001b[0;34m)\u001b[0m\u001b[0;34m)\u001b[0m \u001b[0;31m# Completar 1\u001b[0m\u001b[0;34m\u001b[0m\u001b[0;34m\u001b[0m\u001b[0m\n\u001b[0m\u001b[1;32m      6\u001b[0m \u001b[0;34m\u001b[0m\u001b[0m\n",
      "\u001b[0;31mOSError\u001b[0m: [Errno 9] Bad file descriptor",
      "\nDuring handling of the above exception, another exception occurred:\n",
      "\u001b[0;31mTypeError\u001b[0m                                 Traceback (most recent call last)",
      "\u001b[0;32m<ipython-input-227-fe7b8ffc4180>\u001b[0m in \u001b[0;36m<module>\u001b[0;34m\u001b[0m\n\u001b[1;32m      5\u001b[0m     \u001b[0mos\u001b[0m\u001b[0;34m.\u001b[0m\u001b[0mwrite\u001b[0m\u001b[0;34m(\u001b[0m\u001b[0;36m3\u001b[0m\u001b[0;34m,\u001b[0m \u001b[0;34m'asdasd'\u001b[0m\u001b[0;34m.\u001b[0m\u001b[0mencode\u001b[0m\u001b[0;34m(\u001b[0m\u001b[0;34m)\u001b[0m\u001b[0;34m)\u001b[0m \u001b[0;31m# Completar 1\u001b[0m\u001b[0;34m\u001b[0m\u001b[0;34m\u001b[0m\u001b[0m\n\u001b[1;32m      6\u001b[0m \u001b[0;34m\u001b[0m\u001b[0m\n\u001b[0;32m----> 7\u001b[0;31m \u001b[0;32mexcept\u001b[0m \u001b[0mOSError\u001b[0m\u001b[0;34m(\u001b[0m\u001b[0;36m9\u001b[0m\u001b[0;34m,\u001b[0m \u001b[0mmsj\u001b[0m\u001b[0;34m)\u001b[0m \u001b[0;32mas\u001b[0m \u001b[0mos\u001b[0m\u001b[0;34m:\u001b[0m \u001b[0;31m# Completar 2\u001b[0m\u001b[0;34m\u001b[0m\u001b[0;34m\u001b[0m\u001b[0m\n\u001b[0m\u001b[1;32m      8\u001b[0m \u001b[0;34m\u001b[0m\u001b[0m\n\u001b[1;32m      9\u001b[0m     \u001b[0mprint\u001b[0m\u001b[0;34m(\u001b[0m\u001b[0;34m'Texto 1'\u001b[0m\u001b[0;34m)\u001b[0m\u001b[0;34m\u001b[0m\u001b[0;34m\u001b[0m\u001b[0m\n",
      "\u001b[0;31mTypeError\u001b[0m: catching classes that do not inherit from BaseException is not allowed"
     ]
    }
   ],
   "source": [
    "import os\n",
    "\n",
    "try:\n",
    "    # Código simulado 1ue arroja un error OSError(msj)\n",
    "    os.write(3, 'asdasd'.encode()) # Completar 1\n",
    "    \n",
    "except OSError(9, msj) as os: # Completar 2\n",
    "    \n",
    "    print('Texto 1')\n",
    "    \n",
    "    raise os  # Completar 3\n",
    "else: \n",
    "    print('Texto 2')"
   ]
  },
  {
   "cell_type": "markdown",
   "metadata": {},
   "source": [
    "    Complete el código de manera tal que imprima en pantalla:\n",
    "   + ```Texto 1```.\n",
    "   + ```Texto 2```.\n",
    "   + ```OSError: Esta excepción actúa sobre errores producidos en el sistema, se relaciona comúnmente a fallas de input - output como lo es \"disk full\"```\n",
    "\n",
    "    Finalmente, complete el código anterior, de manera tal que se imprima en pantalla ```Texto 1``` y ```OSError: Esta excepción actúa sobre errores producidos en el sistema, se relaciona comúnmente a fallas de input - output como lo es \"disk full\"```simultáneamente. \n",
    "\n",
    "    Para este ejercicio, sólo podrá modificar las lineas de la forma ```_ _ _ _ # Completar N```, puede elegir no escribir en aquellas lineas si lo amerita. \n",
    "\n",
    "    (*hint:* Al imprimir  ```Texto 1``` y ```OSError: Esta ex ...``` en la última parte del ejercicio, debe además esperar un texto de la forma ```  Traceback (most recent call last) ```)\n",
    "\n",
    "3. Otra manera de manejar excepciones es por medio de ```assert()```, esta función es similar a un bloque ```try```-```except``` pero se ejecuta en una linea. Sigue la sintaxis ```assert(accion_logica)``` donde si ```accion_logica``` tiene valor de verdad ```True```, se continua con la ejecución normal del código. En caso contrario se muestra en pantalla una excepción del tipo ```AssertionError```. Verifique si en la variable ```msj``` del ejercicio 1 se encuentra la oración ```'file not found'```, en caso contrario imprima en pantalla el mensaje ```'Se debe agregar el tipo de error!'```. Utilice ```try```, ```except``` y ```assert```. (*Hint:* se puede hacer en 4 lineas)"
   ]
  },
  {
   "cell_type": "markdown",
   "metadata": {},
   "source": [
    "Por último, se puede agrear una orden de *limpieza* a un bloque ```try```, para ello se utiliza el comando ```finally```, este tipo de código se ejecuta sin importar la aparición de errores, su uso más común conlleva cerrar archivos antes abiertos, cerrar conexiones, borrar objetos de la memoria, etc...\n",
    "\n",
    "La sintaxis para este tipo de orden es:\n",
    "\n",
    "```python\n",
    "try:\n",
    "    accion\n",
    "except: \n",
    "    manejo_de_excepcion\n",
    "else: \n",
    "    accion_alternativa_sin_error\n",
    "finally:\n",
    "    accion_limpieza\n",
    "```\n",
    "\n",
    "**Ejemplo** \n",
    "\n",
    "A continuación se muestra un bloque en el que aparece un error y se realiza un acción de limpieza."
   ]
  },
  {
   "cell_type": "code",
   "execution_count": 181,
   "metadata": {},
   "outputs": [
    {
     "name": "stdout",
     "output_type": "stream",
     "text": [
      "Con errores \n",
      "\n",
      "Limpieza \n",
      "\n"
     ]
    }
   ],
   "source": [
    "try:\n",
    "    b = 5\n",
    "    a = 0/0\n",
    "    b += a\n",
    "except:\n",
    "    print('Con errores \\n')\n",
    "else: \n",
    "    print('Sin errores \\n')\n",
    "finally:\n",
    "    print('Limpieza \\n')\n",
    "    del b"
   ]
  },
  {
   "cell_type": "markdown",
   "metadata": {},
   "source": [
    "**Ejercicio**\n",
    "\n",
    "1. ¿Qué tipo de excepción aparece en el ejemplo anterior?¿qué diferencia hay entre ```else``` y ```finally```?"
   ]
  },
  {
   "cell_type": "markdown",
   "metadata": {},
   "source": [
    "## Decoradores"
   ]
  },
  {
   "cell_type": "markdown",
   "metadata": {},
   "source": [
    "En Python las funciones son objetos de *primera clase* esto significa que pueden ser usadas como argumentos (por objetos o funciones de orden superior) y a la vez tener otros objetos como argumentos. Como se estudió con los scopes, es posible definir funciones anidadas, otra posibilidad es definir funciones que retornan otras funciones como resultado.\n",
    "\n",
    "**Ejemplo**\n",
    "\n",
    "Se define una función que entrega como resultado otra función."
   ]
  },
  {
   "cell_type": "code",
   "execution_count": 14,
   "metadata": {},
   "outputs": [],
   "source": [
    "def retorna_funciones(n):\n",
    "    '''Recibe un entero y retorna una funcion dependiendo de este.\n",
    "\n",
    "    Se genera una funcion de la forma F_n() donde F_n(f) = f(x), es\n",
    "    decir, un funcional de evaluacion.\n",
    "    \n",
    "    Args:\n",
    "        n: numero a evaluar.\n",
    "    Returns\n",
    "        Function\n",
    "    '''\n",
    "    def F_n(f):\n",
    "        return(f(n))\n",
    "    \n",
    "    return F_n"
   ]
  },
  {
   "cell_type": "markdown",
   "metadata": {},
   "source": [
    "Se observa que en efecto el resultado es una función"
   ]
  },
  {
   "cell_type": "code",
   "execution_count": 15,
   "metadata": {},
   "outputs": [
    {
     "name": "stdout",
     "output_type": "stream",
     "text": [
      "<class 'function'>\n"
     ]
    }
   ],
   "source": [
    "F = retorna_funciones(2)\n",
    "print(type(F))"
   ]
  },
  {
   "cell_type": "markdown",
   "metadata": {},
   "source": [
    "finalmente se confirma el funcionamiento esperado:"
   ]
  },
  {
   "cell_type": "code",
   "execution_count": 16,
   "metadata": {},
   "outputs": [
    {
     "name": "stdout",
     "output_type": "stream",
     "text": [
      "Resultado de F_2 aplicado a f(x) = x+2:  4\n"
     ]
    }
   ],
   "source": [
    "print('Resultado de F_2 aplicado a f(x) = x+2: ',F(lambda x : x + 2))"
   ]
  },
  {
   "cell_type": "markdown",
   "metadata": {},
   "source": [
    "**Ejercicio**\n",
    "\n",
    "1. Si  ```f(x,arg_1 = 1)``` es una función en Python ¿qué diferencia hay entre asignar ```y=f``` e ```y = f()```? ¿son ambas formas de asignar correctas? explique."
   ]
  },
  {
   "cell_type": "markdown",
   "metadata": {},
   "source": [
    "Al trabajar con funciones anidadas, aparece de manera natural el scope ```nonlocal```. Un termino muy relacionado es el de **clausura**, estudiemos la siguiente función para comprender su significado:"
   ]
  },
  {
   "cell_type": "code",
   "execution_count": 17,
   "metadata": {},
   "outputs": [],
   "source": [
    "def F_msg(msg):\n",
    "    '''Genera una función que imprime el string msg.'''\n",
    "    \n",
    "    mensaje = 'Generando ... \\n'\n",
    "    \n",
    "    def msg_print():\n",
    "        '''Función anidada que imprime el mensaje'''\n",
    "        print(mensaje)\n",
    "        print(msg,'\\n')\n",
    "\n",
    "    return msg_print # entrega una función como resultado"
   ]
  },
  {
   "cell_type": "markdown",
   "metadata": {},
   "source": [
    "Definamos un mensaje test:"
   ]
  },
  {
   "cell_type": "code",
   "execution_count": 18,
   "metadata": {},
   "outputs": [],
   "source": [
    "mensaje_test = 'Mensaje generado'\n",
    "func = F_msg(mensaje_test)"
   ]
  },
  {
   "cell_type": "markdown",
   "metadata": {},
   "source": [
    "El resultado es una función, esta función interactuá con el scope no local definido por la función ```F_msg```. Considerando que la variable ```mensaje``` está definida en ```F_msg``` y que luego se asignó ```func = F_msg(mensaje_test)``` ¿Qué comportamiento se espera al ejecutar ```func()```? ¿tiene ```func()``` acceso al scope de ```F_msg```?\n",
    "\n",
    "Primero se ejecuta ```func()```:"
   ]
  },
  {
   "cell_type": "code",
   "execution_count": 19,
   "metadata": {},
   "outputs": [
    {
     "name": "stdout",
     "output_type": "stream",
     "text": [
      "Generando ... \n",
      "\n",
      "Mensaje generado \n",
      "\n"
     ]
    }
   ],
   "source": [
    "func()"
   ]
  },
  {
   "cell_type": "markdown",
   "metadata": {},
   "source": [
    "En efecto, se vé que la ```func()``` si puede imprimir el valor de ```mensaje```, más aún, es capaz de imprimir el valor de ```mensaje_test```. Al eliminar ```mensaje_test``` del entorno (memoria) ¿Qué resultado se espera al ejecutar ```func()```?\n",
    "\n",
    "veamos"
   ]
  },
  {
   "cell_type": "code",
   "execution_count": 20,
   "metadata": {},
   "outputs": [
    {
     "name": "stdout",
     "output_type": "stream",
     "text": [
      "Generando ... \n",
      "\n",
      "Mensaje generado \n",
      "\n"
     ]
    }
   ],
   "source": [
    "del mensaje_test\n",
    "func()"
   ]
  },
  {
   "cell_type": "markdown",
   "metadata": {},
   "source": [
    "Aunque la variable ```mensaje_test``` ya no existe y no se tiene acceso a ```mensaje``` la función sigue imprimiendo en pantalla sus valores. \n",
    "\n",
    "Esto se explica con el término de **clausura** de funciones: Cuando una función anidada hace referencia a un objeto en su scope no local asociado, Python guarda los valores de tales objetos en el atributo ```.__closure__``` en este caso se tiene, ```func()``` posee dos elementos en su clausura:"
   ]
  },
  {
   "cell_type": "code",
   "execution_count": 21,
   "metadata": {},
   "outputs": [
    {
     "data": {
      "text/plain": [
       "2"
      ]
     },
     "execution_count": 21,
     "metadata": {},
     "output_type": "execute_result"
    }
   ],
   "source": [
    "len(func.__closure__)"
   ]
  },
  {
   "cell_type": "markdown",
   "metadata": {},
   "source": [
    "los elementos de la clausura se acceden por medio del atributo ```.cell_contents``` asociado a cada elemento de la tupla ```.__closure__```. En este caso se tiene:"
   ]
  },
  {
   "cell_type": "code",
   "execution_count": 22,
   "metadata": {},
   "outputs": [
    {
     "name": "stdout",
     "output_type": "stream",
     "text": [
      "Primer elemento clausura : Generando ... \n",
      "\n",
      "Segundo elemento clausura : Mensaje generado\n"
     ]
    }
   ],
   "source": [
    "print('Primer elemento clausura :', func.__closure__[0].cell_contents)\n",
    "print('Segundo elemento clausura :', func.__closure__[1].cell_contents)"
   ]
  },
  {
   "cell_type": "markdown",
   "metadata": {},
   "source": [
    "**Ejercicio**\n",
    "\n",
    "1. Programe una función de 2 argumentos, anidada a esta, implemente otra función que imprima en pantalla en valor de estos argumentos, la función padre debe retornar la función anidada como resultado. (**Obs:** ```return funcion_anidada``` **no** ```return funcion_anidada()```)\n",
    "\n",
    "2. Asigne la función antes implementada a una variable eligiendo los 2 argumentos. Verifique que la clausura de la función resultante concuerda con los 2 argumentos que escogió, para ello utilice los atributod ```.__closure__``` y ```.cell_contents``` de manera apropiada."
   ]
  },
  {
   "cell_type": "markdown",
   "metadata": {},
   "source": [
    "En general, la clausura permite evitar el uso de variables globales, lo que implica cierto grado de protección de los datos que nuestro programa trabaja.\n",
    "\n",
    "Con los conceptos anteriores es posible comprender el concepto de **decorator** (o decorador). Un decorado es una función de orden superior, que por tanto, permite modificar el comportamiento de otras funciones. Para un decorator, una función es un objeto que trata como un argumento. Para hacer uso de decoradores, es posible utilizar la sintaxis: \n",
    "\n",
    "\n",
    "```python\n",
    "@decorator\n",
    "def func(args):\n",
    "    accion\n",
    "    return res\n",
    "```\n",
    "En este caso ```@decorator``` hace referencia a una función de orden superior previamente definida y que opera sobre ```func```. Veamos el siguiente ejemplo:\n",
    "\n",
    "**Ejemplo**\n",
    "\n",
    "Se define la función ```amp_n``` que amplica el resultado de una fucnión $n$ veces."
   ]
  },
  {
   "cell_type": "code",
   "execution_count": 23,
   "metadata": {},
   "outputs": [],
   "source": [
    "def amp_n(f,n=2):\n",
    "    '''Amplica el resultado de un función n veces.\n",
    "    \n",
    "    Toma una función f y un numero n opcional, aplifica las evaluaciones \n",
    "    de la función f(x) segun f(x)*n,\n",
    "    Args:\n",
    "        f: Función.\n",
    "        n: (opcional )Valor númerico con el cual amplicar la \n",
    "        evaluación de f, su valor por defecto es n=2.\n",
    "    \n",
    "    Returns:\n",
    "        Function\n",
    "    '''\n",
    "    def funcion_modificadora(*args,**kwargs):\n",
    "        '''Permite cambiar el comportamiento de f.'''\n",
    "        return f(*args,**kwargs)*n\n",
    "    \n",
    "    return funcion_modificadora"
   ]
  },
  {
   "cell_type": "markdown",
   "metadata": {},
   "source": [
    "Se define la función identidad como ```función_inicial``` para testear el correcto funcionamiento de ```amp_n```."
   ]
  },
  {
   "cell_type": "code",
   "execution_count": 24,
   "metadata": {},
   "outputs": [
    {
     "data": {
      "text/plain": [
       "2"
      ]
     },
     "execution_count": 24,
     "metadata": {},
     "output_type": "execute_result"
    }
   ],
   "source": [
    "def funcion_inicial(x):\n",
    "    '''Función identidad.'''\n",
    "    return x\n",
    "    \n",
    "funcion_amplificada = amp_n(funcion_inicial)\n",
    "funcion_amplificada(1)"
   ]
  },
  {
   "cell_type": "markdown",
   "metadata": {},
   "source": [
    "El comportamiento de un decorador pasa a ser equivalente a reasignar el valor de la función inicial al nuevo valor modificado por la función de orden superior. En este caso es:"
   ]
  },
  {
   "cell_type": "code",
   "execution_count": 25,
   "metadata": {},
   "outputs": [
    {
     "data": {
      "text/plain": [
       "2"
      ]
     },
     "execution_count": 25,
     "metadata": {},
     "output_type": "execute_result"
    }
   ],
   "source": [
    "'''\n",
    "Obs: ejecutar esta celda m veces lleva a amplicar el \n",
    "comportamiento de funcion_inical por un factor de 2^m.\n",
    "'''\n",
    "\n",
    "funcion_inicial = amp_n(funcion_inicial)\n",
    "funcion_inicial(1)"
   ]
  },
  {
   "cell_type": "markdown",
   "metadata": {},
   "source": [
    "Tal resultado se confirma usando la sintaxis pythonica ```@amp_n```."
   ]
  },
  {
   "cell_type": "code",
   "execution_count": 26,
   "metadata": {},
   "outputs": [
    {
     "data": {
      "text/plain": [
       "2"
      ]
     },
     "execution_count": 26,
     "metadata": {},
     "output_type": "execute_result"
    }
   ],
   "source": [
    "@amp_n\n",
    "def funcion_inicial(x):\n",
    "    '''Función identidad.'''\n",
    "    return x\n",
    "\n",
    "#Se llama la función\n",
    "funcion_inicial(1)"
   ]
  },
  {
   "cell_type": "markdown",
   "metadata": {},
   "source": [
    "**Ejercicios**\n",
    "\n",
    "En este ejercicio definirá un decorador que imprime el tipo de dato que retorna la función objetivo. \n",
    "\n",
    "1. Defina una función de orden superior ```return_type()```.\n",
    "2. Defina una función auxiliar que juega el papel de la función a decorar, esta debe además imprimir el tipo de resultado asociado a operar por la función decorada. (*hint:* recuerde los operadores ```*``` y ```**``` al definir funciones. Recuerde que este decorador debe operar sobre funciones de inputs arbitrarios. Use ```type```).\n",
    "3. Retorne la función auxiliar.\n",
    "4. Pruebe con funciones de control creadas por usted."
   ]
  },
  {
   "cell_type": "markdown",
   "metadata": {},
   "source": [
    "Observe que al ejecutar:\n",
    "\n",
    "```python\n",
    "@amp_n(5)\n",
    "def funcion_inicial(x):\n",
    "    '''Función identidad.'''\n",
    "    return x\n",
    "\n",
    "#Se llama la función\n",
    "funcion_inicial(1)\n",
    "```\n",
    "\n",
    "Se obtiene un excepción del tipo ```TypeError```. Esto, pues aunque ```amp_n``` está definida para recibir una función y un entero, que por defecto es ```n = 2```, la notación de decorador ```@decorator```, no permite pasar el segundo argumento. "
   ]
  },
  {
   "cell_type": "markdown",
   "metadata": {},
   "source": [
    "**Ejercicio**\n",
    "\n",
    "1. Use una función ```lambda``` definida sobre sobre ```amp_n``` para definir el decorador ```amp_7``` que aplifica 7 veces el resultado de una función arbitraria."
   ]
  },
  {
   "cell_type": "markdown",
   "metadata": {},
   "source": [
    "El ejercicio anterior permite definir un decorador haciendo uso de funciones ```lambda```, sin embargo, este proceso puede no ser una buena práctica en todos los casos: por ejemplo, si deseamos amplificar 8,9 o cualquier numero de veces el resultado de una función, tendríamos que crear sub funciones del tipo ```amp_8```,```amp_9```, etc.., si bien esto se puede hacer utilizando ciclos de iteración, no es eficiente desde el punto de vista computacional.\n",
    "\n",
    "Recordemos de la sintaxis ```@decorator``` no es más que una función de orden superior que imita la asignación:\n",
    "\n",
    "```python\n",
    "func = decorator(func)\n",
    "```\n",
    "\n",
    "Así, haciendo uso extensivo de la clausura de funciones, podemos definir una función de orden superior que opera sobre decoradores y retorne un decorador. "
   ]
  },
  {
   "cell_type": "markdown",
   "metadata": {},
   "source": [
    "**Ejemplo**\n",
    "\n",
    "Se desea crear un decorador que si pueda recibir argumentos, esto implica implementar una función que opera sobre tales argumentos y entrega como resultado un decorador. En el caso de ```amp_n```, creamos el la función ```amp_n_gen``` que recibe un número ```n``` y retorna un decorador, de esta forma es posible llamar, si queremos amplificar un resultado 7 veces esto se debería implementar según:\n",
    "\n",
    "```python\n",
    "@amp_n_gen(7)\n",
    "def func(*args,**kwargs):\n",
    "    res = do_stuff()\n",
    "    return res\n",
    "```\n",
    "En este caso no es problema acceder a ```@amp_n_gen(7)``` pues este objeto pasa a ser un decorador como tal. Se pasa a implementar tal decorador:\n",
    "\n",
    "Primero se define ```amp_n_gen``` de manera que reciba valores numéricos y retorne un decorador:"
   ]
  },
  {
   "cell_type": "code",
   "execution_count": 27,
   "metadata": {},
   "outputs": [],
   "source": [
    "def amp_n_gen(n):\n",
    "    '''Recibe un entero n y entrega el decorador asociado a amplicar n'''\n",
    "    \n",
    "    return decorator"
   ]
  },
  {
   "cell_type": "markdown",
   "metadata": {},
   "source": [
    "Luego se define el decorador que se desea modificar, este segundo objeto hace uso de la clausura de ```amp_n_gen```:"
   ]
  },
  {
   "cell_type": "code",
   "execution_count": 28,
   "metadata": {},
   "outputs": [],
   "source": [
    "def amp_n_gen(m):\n",
    "    '''Recibe un entero n y entrega el decorador asociado a amplicar n'''\n",
    "    def amp_n(f):\n",
    "        \n",
    "        return funcion_modificadora\n",
    "    \n",
    "    return decorator"
   ]
  },
  {
   "cell_type": "markdown",
   "metadata": {},
   "source": [
    "Dentro del decorador ```amp_n```, definimos su acción sobre las funciones que opera."
   ]
  },
  {
   "cell_type": "code",
   "execution_count": 29,
   "metadata": {},
   "outputs": [],
   "source": [
    "def amp_n_gen(m):\n",
    "    '''Recibe un entero m y entrega el decorador asociado a amplicar n'''\n",
    "    \n",
    "    def amp_n(f):\n",
    "        '''Amplica el resultado de un función n veces.\n",
    "\n",
    "        Toma una función f y un numero n opcional, aplifica las evaluaciones \n",
    "        de la función f(x) segun f(x)*n,\n",
    "        Args:\n",
    "            f: Función.\n",
    "            n: (opcional )Valor númerico con el cual amplicar la \n",
    "            evaluación de f, su valor por defecto es n=2.\n",
    "\n",
    "        Returns:\n",
    "            Function\n",
    "        '''\n",
    "        def funcion_modificadora(*args,**kwargs):\n",
    "            '''Permite cambiar el comportamiento de f.'''\n",
    "            return f(*args,**kwargs)*m\n",
    "        \n",
    "        return funcion_modificadora\n",
    "\n",
    "    return amp_n"
   ]
  },
  {
   "cell_type": "markdown",
   "metadata": {},
   "source": [
    "Hay que observar detenidamente, que ```funcion_modificadora``` hace uso de la clausura de ```amp_n_gen``` que se hace accesible al definir ```amp_n``` en su scope. Esto se observa en la linea ``` return f(*args,**kwargs)*m```. Finalmente comprobamos el resultado:"
   ]
  },
  {
   "cell_type": "code",
   "execution_count": 30,
   "metadata": {},
   "outputs": [
    {
     "data": {
      "text/plain": [
       "7"
      ]
     },
     "execution_count": 30,
     "metadata": {},
     "output_type": "execute_result"
    }
   ],
   "source": [
    "@amp_n_gen(7)\n",
    "def funcion_inicial(x):\n",
    "    '''Función identidad.'''\n",
    "    return x\n",
    "\n",
    "funcion_inicial(1)"
   ]
  },
  {
   "cell_type": "markdown",
   "metadata": {},
   "source": [
    "**Ejercicio**\n",
    "\n",
    "1. Defina el decorador ```run_n``` que recibe un argumento ```n```. Este decorador opera sobre funciones de cualquier tipo de input y su propósito es ejecutar tales funciones ```n``` veces, imprimiendo en pantalla en que número de ejeción se encuentra el interprete de ordenes."
   ]
  }
 ],
 "metadata": {
  "kernelspec": {
   "display_name": "Python 3",
   "language": "python",
   "name": "python3"
  },
  "language_info": {
   "codemirror_mode": {
    "name": "ipython",
    "version": 3
   },
   "file_extension": ".py",
   "mimetype": "text/x-python",
   "name": "python",
   "nbconvert_exporter": "python",
   "pygments_lexer": "ipython3",
   "version": "3.8.1"
  }
 },
 "nbformat": 4,
 "nbformat_minor": 4
}
