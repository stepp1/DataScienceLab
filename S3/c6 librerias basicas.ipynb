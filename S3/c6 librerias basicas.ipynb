{
 "cells": [
  {
   "cell_type": "markdown",
   "metadata": {},
   "source": [
    "# MA6202: Laboratorio de Ciencia de Datos\n",
    "\n",
    "**Profesor: Nicolás Caro**\n",
    "\n",
    "**13/04/2020 - C6 S3**"
   ]
  },
  {
   "cell_type": "markdown",
   "metadata": {},
   "source": [
    "## Librerías Básicas \n",
    "\n",
    "Una vez comprendiendo el funcionamiento de clases, funciones y las propiedades básicas de manejo de tipos de datos y módulos, se  pasan a estudiar ciertas funcionalidades extras del *stack* nativo de Python. Aquí se incluye el manejo de archivos, funciones e iterables. \n",
    "\n",
    "Finalmente, se repasan ciertos métodos del *stack* científico que escapan a las librerías proporcionadas nativamente por Python pero que forman parte del estándar de computación en ciencia de datos.\n",
    "\n",
    "*Nota*: Python se considera un lenguaje con *baterías incluidas* esta referencia se hace por la gran cantidad de librerías nativas a las que se tiene acceso únicamente con instalar el interprete."
   ]
  },
  {
   "cell_type": "markdown",
   "metadata": {},
   "source": [
    "### Manejo de archivos\n",
    "\n",
    "Un archivo consiste en un conjunto de datos (o información si se prefiere) relacionados de manera lógica e interpretable mediante algún programa. En sus funcionalidades básicas, Python permite el manejo de archivos mediante la función ```open()```. La sintaxis de lectura de archivos es:\n",
    "\n",
    "```python\n",
    "obj = open('ruta/al/archivo', 'r')\n",
    "```\n",
    "Donde el parámetro 'r' indica que el archivo a operar será abierto en modo lectura. \n",
    "\n",
    "**Ejemplo**\n",
    "\n",
    "El módulo ```wiki_getter``` posee la función ```wiki_intro_getter()```, esta recibe una pagina de wikipedia y entrega su introducción."
   ]
  },
  {
   "cell_type": "code",
   "execution_count": null,
   "metadata": {},
   "outputs": [],
   "source": [
    "from wiki_getter import wiki_intro_getter\n",
    "\n",
    "'''\n",
    "esta funcion carga por defecto la pagina de wikipedia que define un \n",
    "archivo de computador\n",
    "'''\n",
    "\n",
    "intro_file = wiki_intro_getter()"
   ]
  },
  {
   "cell_type": "markdown",
   "metadata": {},
   "source": [
    "Por otra parte, tal módulo posee la función ```to_txt()``` que permite guardar un string de Python en un archivo de texto en la carpeta actual de trabajo. Se guarda el texto ```intro_file```"
   ]
  },
  {
   "cell_type": "code",
   "execution_count": null,
   "metadata": {},
   "outputs": [],
   "source": [
    "from wiki_getter import to_txt\n",
    "to_txt(intro_file, 'intro_file')"
   ]
  },
  {
   "cell_type": "markdown",
   "metadata": {},
   "source": [
    "Se utiliza la función ```open()``` para leer el contenido del archivo recién generado."
   ]
  },
  {
   "cell_type": "code",
   "execution_count": null,
   "metadata": {},
   "outputs": [],
   "source": [
    "file = open('intro_file.txt','r')\n",
    "\n",
    "# Se lee el archivo linea por linea, el objeto file es un iterable!\n",
    "for line in file: \n",
    "    # entrega un string removiendo el ultimo espacio en blanco\n",
    "    print(line.rstrip())\n",
    "    \n",
    "# Posteriormente se debe cerrar el objeto file\n",
    "file.close()"
   ]
  },
  {
   "cell_type": "markdown",
   "metadata": {},
   "source": [
    "La función ```open()``` se puede utilizar para escribir archivos. Para ello se le entrega el argumento 'w'. \n",
    "\n",
    "**Ejemplo**\n",
    "\n",
    "Se toma el text ```intro_file.txt``` del ejemplo anterior y se utiliza para agregar un titulo al texto. Para esto es necesario abrir un nuevo archivo ```'intro_file_0.txt'``` en modo escritura."
   ]
  },
  {
   "cell_type": "code",
   "execution_count": null,
   "metadata": {},
   "outputs": [],
   "source": [
    "# Se abre el archivo incial\n",
    "file = open('intro_file.txt','r')\n",
    "\n",
    "# Se abre un archivo proxy\n",
    "file_to_write = open('intro_file_0.txt','w')\n",
    "\n",
    "# Se define el titulo a agregar\n",
    "title = 'Archivos: Introducción'\n",
    "\n",
    "# Se agrega el titulo al texto del archivo inicial\n",
    "text_to_write = title + '\\n' + file.readlines()[0]\n",
    "\n",
    "# Se escribe el nuevo texto en el archivo proxy\n",
    "file_to_write.write(text_to_write)\n",
    "\n",
    "# Se cierra la conexion a los archivos\n",
    "file.close()\n",
    "file_to_write.close()"
   ]
  },
  {
   "cell_type": "markdown",
   "metadata": {},
   "source": [
    "Se comprueba el resultado"
   ]
  },
  {
   "cell_type": "code",
   "execution_count": null,
   "metadata": {},
   "outputs": [],
   "source": [
    "# Se imprime en pantalla cada linea del archivo\n",
    "for line in open('intro_file_0.txt','r'):\n",
    "    print(line.rstrip())"
   ]
  },
  {
   "cell_type": "markdown",
   "metadata": {},
   "source": [
    "Para leer y escribir de manera simultanea en un mismo archivo existen las opciones:\n",
    "\n",
    "* ```'r+'```: abre un archivo existente con permisos de escritura.\n",
    "* ```'w+'```: crea un archivo vacío y permite leerlo.\n",
    "\n",
    "En los objetos obtenidos a partir de ```open()```, existe la noción de *posición*. Se accede a esta por medio de los métodos ```.seek()``` and ```.tell()```. \n",
    "\n",
    "**Ejemplo**\n",
    "\n",
    "Para comprender la noción de posición, es útil pensar en ```.tell()``` como un método que entrega la posición del *cursor* en un editor de archivos de texto. Por su parte ```.seek(n)``` sitúa tal cursor en la posición ```n```. \n",
    "\n",
    "En el siguiente código, se abre el archivo ```'intro_file_0.txt'```. Se establece la posición ```1``` por medio de  ```.seek(1)```, luego se imprime en pantalla el caracter asociado a la posición 1."
   ]
  },
  {
   "cell_type": "code",
   "execution_count": null,
   "metadata": {},
   "outputs": [],
   "source": [
    "file_0 = open('intro_file_0.txt','r')\n",
    "file_0.read(1)"
   ]
  },
  {
   "cell_type": "markdown",
   "metadata": {},
   "source": [
    "**Obs**: El método ```.read(n)``` imprime en pantalla hasta el caracter n partiendo **desde** la posición actual dada por ```.tell()```."
   ]
  },
  {
   "cell_type": "markdown",
   "metadata": {},
   "source": [
    "Posteriormente, se establece la posición ```10``` y se confirma por medio de ```.tell()```"
   ]
  },
  {
   "cell_type": "code",
   "execution_count": null,
   "metadata": {},
   "outputs": [],
   "source": [
    "file_0.seek(10)\n",
    "pos_0 = file_0.tell()\n",
    "pos_0"
   ]
  },
  {
   "cell_type": "markdown",
   "metadata": {},
   "source": [
    "Lo anterior sitúa el *cursor* en la posición ```10```. Por lo tanto, si se ejecuta el método ```.read(12)```. ¿Qué debería imprimirse en pantalla?"
   ]
  },
  {
   "cell_type": "code",
   "execution_count": null,
   "metadata": {},
   "outputs": [],
   "source": [
    "file_0.read(12)"
   ]
  },
  {
   "cell_type": "markdown",
   "metadata": {},
   "source": [
    "Considerando ```.read(12)``` avanza 12 posiciones luego de la inicial, se espera que la posición actual sea  ```pos_0 + 12 + 1 = 23```:"
   ]
  },
  {
   "cell_type": "code",
   "execution_count": null,
   "metadata": {},
   "outputs": [],
   "source": [
    "print(file_0.tell())\n",
    "file_0.close()"
   ]
  },
  {
   "cell_type": "markdown",
   "metadata": {},
   "source": [
    "Que comprueba lo anterior."
   ]
  },
  {
   "cell_type": "markdown",
   "metadata": {},
   "source": [
    "**Ejercicio**\n",
    "\n",
    "El objetivo de este ejercicio es leer y escribir un archivo simultáneamente, haciendo uso de ```.seek()```.\n",
    "\n",
    "1. Cargue el archivo ```ejercicio_1``` en la carpeta de trabajo actual, en modo de lectura y escritura.\n",
    "2. Añada el titulo dado por la variable ```title```, en la primera linea. Para ello:\n",
    "    1. Genere una variable auxiliar que permita añadir el texto ```title``` al comienzo del texto asociado al archivo ```ejercicio_1```.\n",
    "    2. Vaya a la posición adecuada del archivo por medio de ```.seek()``` y escriba el valor de la variable auxiliar. ¿Qué ocurre si no utiliza ```.seek()```?\n",
    "    3. Cierre la conexión al archivo ```ejercicio_1```.\n",
    "3. El parámetro 'a+' permite abrir un archivo para agregar contenido al final de este (append) por medio del método ```.write()```. Abra una conexión al archivo ```ejercicio_1``` recientemente modificado. Añada al final de este archivo, el contenido de la variable ```obs```. ¿En qué se diferencia con abrir el archivo en modo escritura e insertar texto utilizando ```.seek()```?"
   ]
  },
  {
   "cell_type": "code",
   "execution_count": null,
   "metadata": {},
   "outputs": [],
   "source": [
    "title = \"PROYECTO DE TREN INSTANTANEO\"\n",
    "\n",
    "obs = \"\\n Observacion: este tipo de tren (directo) \\n \"\n",
    "obs += \"sirve solo para viajes de ida\"  "
   ]
  },
  {
   "cell_type": "markdown",
   "metadata": {},
   "source": [
    "### Context managers\n",
    "\n",
    "Cuando un programa de Python accede a un recurso o archivo de la máquina, procede comunicándose con el sistema operativo correspondiente. Este, proporciona un puntero (o conexión) al recurso, el acceso a tales recursos es limitado y por tanto es necesario cerrar tales conexiones cuando ya no son necesarias. Una manera de hacerlo es por medio de ```file.close()``` cuando file es un objeto obtenido por medio ```open()```. En el primer ejemplo se estudió el siguiente código:\n",
    "\n",
    "```python\n",
    "file = open('intro_file.txt','r')\n",
    "\n",
    "# ----- Ciclo ------\n",
    "for line in file: \n",
    "    print(line.rstrip())\n",
    "    \n",
    "# Se cierra la conexion\n",
    "file.close()\n",
    "```\n",
    "Si el ciclo ```for``` posterior a la apertura de conexión falla por algún motivo, se tiene que la orden ```file.close()``` no llega a ejecutarse, y por tanto la conexión al recurso ```'intro_file.txt'``` no se cierra. Esto grafica que la dinámica ```open()``` - ```.close()``` no es lo suficientemente robusta para manejar conexiones a recursos de la máquina. \n",
    "\n",
    "Con las herramientas vistas hasta este punto, se puede reformular el código anterior utilizando bloques ```try```-```except``` en conjunción con ```finally```, esto da lugar al código:\n",
    "\n",
    "```python\n",
    "try:\n",
    "    file = open('intro_file.txt','r')\n",
    "\n",
    "    # ----- Ciclo ------\n",
    "    for line in file: \n",
    "        print(line.rstrip())\n",
    "except:\n",
    "    print('El ciclo falla')\n",
    "    \n",
    "finally:    \n",
    "    # Se cierra la conexion\n",
    "    file.close()\n",
    "\n",
    "```\n",
    "\n",
    "El código anterior se puede resumir como en un bloque de ejecución (try), uno de manejo de errores opcional (except) y uno de limpieza (finally). Python automatiza este proceso por medio de **context managers**, siendo estos, la manera pythonica de trabajar con acceso a recursos. \n",
    "\n",
    "**Ejemplo**\n",
    "\n",
    "Con el fin de comprender la lógica de un context manager, se implementa una clase ```FileReader``` que automatiza el acceso a lectura de archivos. En primer lugar se crea un constructor para el nombre del archivo:\n",
    "\n",
    "```python\n",
    "class FileReader:\n",
    "    def __init__(self,name):\n",
    "        self.name = name\n",
    "```\n",
    "\n",
    "En segunda instancia se sobrecarga el método ```.__enter__()```. Este método modela el acceso a un recurso que posteriormente debe cerrarse por medio del método ```.__exit__()```. Los objetos obtenidos por medio de ```open()``` poseen definiciones para ambos operadores. Se pasa sobrecargar el operador de conexión ```.__enter__()```\n",
    "\n",
    "```python\n",
    "class FileReader:\n",
    "    # Constructor\n",
    "    def __init__(self,name):\n",
    "        self.name = name\n",
    "    \n",
    "    # Conexión de entrada\n",
    "    def __enter__(self):\n",
    "        self.file = open(self.name, 'r')\n",
    "        return self.file\n",
    "```\n",
    "\n",
    "Hasta ahora se ha codificado el comportamiento de un bloque ```try``` donde se accede a un recurso. Para cerrar el acceso, se sigue la lógica de un bloque ```finally```, lo que se lleva a cabo sobrecargando el método ```.__exit__()```:\n",
    "\n",
    "```python\n",
    "class FileReader:\n",
    "    '''Equivalente a un bloque try'''\n",
    "    \n",
    "    # Constructor\n",
    "    def __init__(self,name):\n",
    "        self.name = name\n",
    "    \n",
    "    # Conexión de entrada\n",
    "    def __enter__(self):\n",
    "        self.file = open(self.name, 'r')\n",
    "        return self.file\n",
    "    \n",
    "    '''Equivalente a un bloque finally (sin manejo de excepciones)'''\n",
    "    # Proceso de cerraro o cleanup\n",
    "    def __exit__(self):\n",
    "        self.file.close()\n",
    "```\n",
    "\n",
    "Un bloque ```with``` es capaz de ejecutar de manera nativa las ordenes \n",
    "```__enter__``` y ```__exit__```, automatizando el proceso ```try``` - ```except``` - ```finally``` antes deducido. Solo es necesario proporcionarle el objeto de Python enlazado a la conexión que se desea abrir, en el ejemplo trabajado, este objeto es la variable ```file```. Por tanto, si se desea ejecutar:\n",
    "\n",
    "```python\n",
    "try:\n",
    "    file = open('intro_file.txt','r')\n",
    "\n",
    "    # ----- Ciclo ------\n",
    "    for line in file: \n",
    "        print(line.rstrip())\n",
    "        \n",
    "except:\n",
    "    print('El ciclo falla')\n",
    "    \n",
    "finally:    \n",
    "    # Se cierra la conexion\n",
    "    file.close()\n",
    "\n",
    "\n",
    "```\n",
    "\n",
    "En la notación dada por la clase ```FileReader```, esto es equivalente a ```file = FileReader('intro_file.txt')```. Queda solamente que el bloque ```with``` pueda ejecutar las ordenes de entrada y salida de conexión sobre el objeto ```file```, para ello, se usa la notación:\n",
    "\n",
    "```python\n",
    "with FileReader('intro_file.txt') as file:\n",
    "    ...\n",
    "```\n",
    "Aqui, se genera un nuevo scope local, donde la variable ```file``` entra con el valor ```file = FileReader('intro_file.txt')```. Luego, se ejecuta el constructor de la clase ```FileReader``` y el método ```.__enter__()```. finalmente, cuando todas las ordenes dentro del bloque se ejecutan, se llama el método de limpieza ```.__exit__()```."
   ]
  },
  {
   "cell_type": "code",
   "execution_count": null,
   "metadata": {},
   "outputs": [],
   "source": [
    "# Clase tipo context manager planificada\n",
    "class FileReader:\n",
    "    '''Equivalente al bloque try\n",
    "    -----------------------------------\n",
    "    ''' \n",
    "    # Constructor\n",
    "    def __init__(self,name):\n",
    "        self.name = name\n",
    "    \n",
    "    # Conexión de entrada\n",
    "    def __enter__(self):\n",
    "        self.file = open(self.name, 'r')\n",
    "        return self.file\n",
    "    \n",
    "    '''Equivalante a un bloque finally (sin manejo de excepciones)\n",
    "    ------------------------------------\n",
    "    '''\n",
    "    # Proceso de cerraro o cleanup\n",
    "    def __exit__(self,*exc):\n",
    "        self.file.close()"
   ]
  },
  {
   "cell_type": "markdown",
   "metadata": {},
   "source": [
    "Se lee el archivo ```intro_file.txt``` para probar los resultados"
   ]
  },
  {
   "cell_type": "code",
   "execution_count": null,
   "metadata": {},
   "outputs": [],
   "source": [
    "with FileReader('intro_file.txt') as file:\n",
    "    for line in file: \n",
    "        print(line.rstrip())"
   ]
  },
  {
   "cell_type": "markdown",
   "metadata": {},
   "source": [
    "Se agregan prints de pantalla para corroborar el proceso de ejecución ```__enter__``` - ```__exit__```"
   ]
  },
  {
   "cell_type": "code",
   "execution_count": null,
   "metadata": {},
   "outputs": [],
   "source": [
    "class FileReader:\n",
    "    '''Equivalente al bloque try\n",
    "    -----------------------------------\n",
    "    ''' \n",
    "    # Constructor\n",
    "    def __init__(self,name):\n",
    "        print('[Construyendo objeto ... ]\\n')\n",
    "        self.name = name\n",
    "    \n",
    "    # Conexión de entrada\n",
    "    def __enter__(self):\n",
    "        print('[Estableciendo conexion al archivo ...] \\n')\n",
    "        self.file = open(self.name, 'r')\n",
    "        return self.file\n",
    "    \n",
    "    '''Equivalante a un bloque finally (sin manejo de excepciones)\n",
    "    ------------------------------------\n",
    "    '''\n",
    "    # Proceso de cerraro o cleanup\n",
    "    def __exit__(self,*exc):\n",
    "        print('[Limpiando conexion ...] \\n')\n",
    "        self.file.close()"
   ]
  },
  {
   "cell_type": "markdown",
   "metadata": {},
   "source": [
    "Se corrobora con el archivo ```ejercicio_1```"
   ]
  },
  {
   "cell_type": "code",
   "execution_count": null,
   "metadata": {},
   "outputs": [],
   "source": [
    "with FileReader('ejercicio_1') as file:\n",
    "    \n",
    "    print('[Procesando archivo ... ]')\n",
    "    for line in file: \n",
    "        print(line.rstrip())"
   ]
  },
  {
   "cell_type": "markdown",
   "metadata": {},
   "source": [
    "Lo que comprueba el esquema presentado. "
   ]
  },
  {
   "cell_type": "markdown",
   "metadata": {},
   "source": [
    "**Ejercicios**\n",
    "\n",
    "1. En el módulo ```wiki_getter```, dentro de la función ```to_txt()```, se encuentra el siguiente código.\n",
    "\n",
    "```python \n",
    "# Define la funcion que guarda el archivo\n",
    "def write_file(name, text):\n",
    "    print('Guardando archivo ...')\n",
    "    file = open(name + '.txt', 'w')\n",
    "    file.write(text)\n",
    "    file.close()\n",
    "    print('Archivo guardado con el nombre: ', name +'.txt')\n",
    "```\n",
    "Este cumple con la misión de crear un archivo nuevo, con el nombre ```name```, en cual almacena el contenido ```text```. Escriba un objeto context manager que permita ejecutar el cuerpo de la función ```write_file``` utilizando un bloque ```with```. El nuevo objeto debe tener el nombre ```WriteConn``` y se debe poder acceder desde el módulo ```wiki_getter```.\n",
    "\n",
    "2. En la construcción utilizada para introducir el concepto de context manager, aparece la noción de \"manejo de excepciones opcional\"(en el bloque ```except```). Al observar la estructura del método ```.__exit__()```, se observa el argumento opcional ```*exc```. La idea de tal argumento es justamente otorgar la funcionalidad de manejo de excepciones a un context manager. La finalidad de este ejercicio es que usted cree un context manager capaz de manejar errores. Para esto:\n",
    "    1. Defina la clase ```RetryRun```, esta clase tiene el atributo privado y estático ```__error = None```, un atributo estático y protegido ```_attemps = 1```. Tiene además, los atributos públicos```retries``` y ```func```. *hint*: los últimos atributos no son estáticos.\n",
    "    \n",
    "    2. Defina un getter para error por medio de una propiedad.\n",
    "    \n",
    "    3. Defina el método ```func_retry(self,*args,**kwargs)```. Al comienzo de este método inicialice el atributo estático ```__error = []```. Luego, ejecute ```retries``` veces la orden ```self.func(*args, **kwargs)```. Para cada una de esas veces, si la orden arroja una excepción, entonces debe apendarla a la lista ```__error``` y aumentar el atributo ```_attemps``` en uno, además debe imprimir ```'Hubo errores, re-intentando ...'```. Por último, si la lista ```__error``` posee elementos, se debe levantar la última excepción de tal lista.\n",
    "    \n",
    "    4. Implemente un método ```__enter__``` que retorne al objeto context manager.\n",
    "    \n",
    "    5. Implemente un método ```__exit___(self, exc_type, exec_val, trace)``` que imprima en pantalla ```'No se tuvo acceso al recurso'``` en caso de que ```exc_type``` sea no vacío. En caso contrario debe ejecutar ```print('Ejecución exitosa en ' + str(self._attemps) + ' intento/s')```.\n",
    "    6. Pruebe el context manager anterior en un bloque ```with``` para la función ```func = lambda x, y: x / y``` probando valores de ```x,y``` de manera tal que se aprecie el funcionamiento de todos los métodos implementados. *Hint*: Inicialice el bloque with con el comando ```with RetryRun(numero,func) as r_obj:```, luego, dentro del bloque ```with``` acceda al método ```r_obj.func_retry(x,y)```. Sólo esa orden debe estar dentro del bloque."
   ]
  },
  {
   "cell_type": "markdown",
   "metadata": {},
   "source": [
    "### Almacenamiento de Objetos con Pickle\n",
    "\n",
    "Una de las prácticas en el núcleo de la ciencia de datos, es la obtención de modelos. Por obtención de modelos, se entiende al acto de alcanzar estructuras optimas en base a datos para ciertas métricas de desempeño. Estas estructuras, vienen dadas por un conjunto de parámetros e hiperparámetros, que explican de manera teórica a un fenómeno. Por lo general estos valores se almacenan en estructuras simples como secuencias contenedoras o más complejas como objetos representando máquinas de kernel o redes neuronales. Cuando las estructuras son complejas, es necesario un método elaborado para guardarlas y restaurarlas. La librería ```pickle``` permite guardar en memoria estructuras complejas de Python para después recuperarlas en memoria de manera sencilla. \n",
    "\n",
    "Esta librería (o package) se importa por medio de\n",
    "\n",
    "```python\n",
    "import pickle\n",
    "```\n",
    "\n",
    "El método que permite guardar estructuras en memora es ```.dump()```, este recibe como argumentos un objeto ```obj```y la ruta donde se guardará tal objeto ```file```. La librería ```pickle``` opera de manera nativa con la función ```open()``` y por tanto, es una práctica común utilizarla con bloques ```with```. \n",
    "\n",
    "**Ejemplo**\n",
    "\n",
    "Supogamos que queremos guardar un objeto de la clase ```FileReader``` para usarlo posteriormente. Para ello, se abre un archivo 'data.pkl' en el directorio de trabajo actual, este se debe abrir en modo 'bw', esto significa 'modo escritura en bytes'. El código nos permite guardar la clase es:"
   ]
  },
  {
   "cell_type": "code",
   "execution_count": null,
   "metadata": {},
   "outputs": [],
   "source": [
    "import pickle \n",
    "file = FileReader('ejercicio_1')\n",
    "\n",
    "with open('data.pkl','bw') as handler:\n",
    "    pickle.dump(file, handler)"
   ]
  },
  {
   "cell_type": "markdown",
   "metadata": {},
   "source": [
    "Borramos el objeto ```file```."
   ]
  },
  {
   "cell_type": "code",
   "execution_count": null,
   "metadata": {},
   "outputs": [],
   "source": [
    "del file"
   ]
  },
  {
   "cell_type": "markdown",
   "metadata": {},
   "source": [
    "Para cargar el objeto nuevamente, hacemos uso de ```open()``` en modo `'rb'` o 'modo de lectura en binario' y usamos el método ```pickle.load()``` sobre el recurso levantado con ```open()```. El código es:"
   ]
  },
  {
   "cell_type": "code",
   "execution_count": null,
   "metadata": {},
   "outputs": [],
   "source": [
    "with open('data.pkl','br') as data:\n",
    "    file = pickle.load(data)"
   ]
  },
  {
   "cell_type": "markdown",
   "metadata": {},
   "source": [
    "Ejecutamos el contenido de file."
   ]
  },
  {
   "cell_type": "code",
   "execution_count": null,
   "metadata": {},
   "outputs": [],
   "source": [
    "texto = file.__enter__()\n",
    "print('[Procesando archivo ... ]')\n",
    "for line in texto: \n",
    "    print(line.rstrip())\n",
    "file.__exit__()"
   ]
  },
  {
   "cell_type": "markdown",
   "metadata": {},
   "source": [
    "Observe que el código anterior es una ejecución secuencial de un bloque ```with```. Por otra parte, si borramos la clase ```FileReader``` de la memoria e intentamos cargar el objeto ocurre los siguiente"
   ]
  },
  {
   "cell_type": "code",
   "execution_count": null,
   "metadata": {},
   "outputs": [],
   "source": [
    "try:\n",
    "    del FileReader\n",
    "except:\n",
    "    print('Clase FileReader ausente en la memoria')"
   ]
  },
  {
   "cell_type": "code",
   "execution_count": null,
   "metadata": {},
   "outputs": [],
   "source": [
    "with open('data.pkl','br') as data:\n",
    "    try:\n",
    "        file = pickle.load(data)\n",
    "    except Exception as ex:\n",
    "        print('No se puede reconstituir el objeto!')"
   ]
  },
  {
   "cell_type": "markdown",
   "metadata": {},
   "source": [
    "Esto ocurre, pues si bien, se tiene una representación del objeto deseado, no están cargadas las librerías o clases suficientes para reconstituirlo. Por eso siempre hay que tener en cuenta las dependencias y definiciones en memoria antes de guardar un objeto."
   ]
  },
  {
   "cell_type": "markdown",
   "metadata": {},
   "source": [
    "## Breve Tour por las Librerías Estándar\n",
    "\n",
    "Se analizan librerías estándar en la programación con Python. Para cada una de estás, se estudian métodos de interés y se proporciona la documentación como material complementario.\n",
    "\n",
    "Se debe tener en cuenta que todas estas librerías vienen incluidas al instalar Python.\n",
    "\n",
    "### functools\n",
    "\n",
    "`functools` es un módulo para funciones de orden superior, en términos prácticos, objectos que tengan la propiedad `callable`. Es decir que puede ser llamado de la forma ```objeto()```. Más documentación disponible [aqui](https://docs.python.org/3.7/library/functools.html).\n",
    "\n",
    "Está librería se importa de la manera usual."
   ]
  },
  {
   "cell_type": "code",
   "execution_count": null,
   "metadata": {},
   "outputs": [],
   "source": [
    "import functools"
   ]
  },
  {
   "cell_type": "markdown",
   "metadata": {},
   "source": [
    "#### 1.1 functools.reduce\n",
    "\n",
    "Como primer ejemplo usaremos `functools.reduce`, esta función recibe como argumentos una función de 2 argumentos y un iterable, y aplica esta función de forma acumulativa a los elementos del iterable de izquierda a derecha de forma de reducir la secuencia a un solo valor.\n",
    "\n",
    "El primer argumento de los 2 de la función a pasar es el valor acumulado y el segundo es el valor siguiente de la secuencia.\n",
    "\n",
    "Por ejemplo\n",
    "\n",
    "```python\n",
    "fun = lambda x, y: x + y\n",
    "functools.reduce(fun, [1, 2, ,3, 4, 5])\n",
    "```\n",
    "\n",
    "Al ejecutar esta línea se calcula:\n",
    "1. fun(1, 2)\n",
    "2. fun(fun(1, 2), 3) \n",
    "3. fun(fun(fun(1, 2), 3), 4)\n",
    "4. fun(fun(fun(fun(1, 2), 3), 4), 5)\n",
    "\n",
    "Lo que en total entrega,\n",
    "\n",
    "$$\\left(\\left(\\left(\\left(1+2\\right)+3\\right)+4\\right)+5 \\right) = 15$$\n",
    "\n",
    "\n",
    "`functools.reduce` también tiene un tercer (opcional) argumento, `initializer`, si este es entregado se utiliza como primer elemento en el calculo acumulativo, por lo que si en el caso anterior se tuviera\n",
    "\n",
    "`functools.reduce(fun, [1, 2, ,3, 4, 5], 8)`\n",
    "\n",
    "el resultado sería,\n",
    "\n",
    "$$8 + ((((1+2)+3)+4)+5) = 23$$"
   ]
  },
  {
   "cell_type": "markdown",
   "metadata": {},
   "source": [
    "**Ejercicios**\n",
    "\n",
    "1. Implemente ```sum([1, 2, 3, 4, 5])``` utilizando ```functools.reduce()``` y una función lambda.\n",
    "\n",
    "2. Generalice lo anterior usando ```range()```.\n",
    "\n",
    "3. El módulo ```operator``` incluye un conjunto de funciones relacionadas a operadores intrínsecos de Python, por ejemplo ```operator.add(x, y)``` es equivalente a ```x+y```. Importe el módulo  ```operator```, utilice ```operator.add``` sobre una lista de strings por medio de ```functools.reduce()```. Agregue un string como argumento *initializer*, deduzca su funcionamiento."
   ]
  },
  {
   "cell_type": "markdown",
   "metadata": {},
   "source": [
    "#### Decorador @functools.singledispatch\n",
    "\n",
    "Este decorador sirve para convertir una función en una función polimórfica.\n",
    "\n",
    "Una función polimórfica esta compuesta de múltiples funciones que realizan la misma operación dependiendo del tipo de datos, un ejemplo de esto es el operador suma (`+` o `operator.add`) que dependiendo si es un ```int```, ```float```, ```string```, etc realizar operaciones diferentes.\n",
    "\n",
    "```python\n",
    "1 + 3\n",
    ">>> 4\n",
    "\n",
    "'AA' + 'BB'\n",
    ">>> 'AABB'\n",
    "```\n",
    "\n",
    "Es importante notar que este decorador creara un registro (denotado como *dispatch*) hacia las diferentes funciones dependiendo del tipo del primero argumento que se reciba, cosa que se debe tener en cuenta al crear las funciones.\n",
    "\n",
    "Una creada esta función, para agregar las demás funciones que serán llamadas dependiendo del tipo se utiliza el decorador `@function_name.register(type)`\n",
    "\n",
    "**Ejemplo**\n",
    "\n",
    "Primero creemos una función que tome un primer argumento cualquiera e imprima este argumento."
   ]
  },
  {
   "cell_type": "code",
   "execution_count": null,
   "metadata": {},
   "outputs": [],
   "source": [
    "@functools.singledispatch\n",
    "def fun(arg, verbose=False):\n",
    "    if verbose:\n",
    "        print(\"Let me just say,\", end=\" \")\n",
    "    print(arg)"
   ]
  },
  {
   "cell_type": "markdown",
   "metadata": {},
   "source": [
    "Como aún no se define ninguna de las funciones que llamará dependiendo del tipo de variable, el output es el mismo independiente del tipo de variable."
   ]
  },
  {
   "cell_type": "code",
   "execution_count": null,
   "metadata": {},
   "outputs": [],
   "source": [
    "fun('bye!', False)\n",
    "fun('bye!', True)"
   ]
  },
  {
   "cell_type": "markdown",
   "metadata": {},
   "source": [
    "Ahora se crean funciones que serán llamadas cuando el argumento es de tipo `int` y cuando es de tipo `list`.\n",
    "Ambas funciones tendrán como nombre `_` porque este nombre no será usado para llamar a la función."
   ]
  },
  {
   "cell_type": "code",
   "execution_count": null,
   "metadata": {},
   "outputs": [],
   "source": [
    "@fun.register(int)\n",
    "def _(arg, verbose=False):\n",
    "    if verbose:\n",
    "        print(\"Strength in numbers, eh?\", end=\" \")\n",
    "    print(arg)\n",
    "\n",
    "@fun.register(list)\n",
    "def _(arg, verbose=False):\n",
    "    if verbose:\n",
    "        print(\"Enumerate this:\")\n",
    "    for i, elem in enumerate(arg):\n",
    "        print(i, elem)"
   ]
  },
  {
   "cell_type": "markdown",
   "metadata": {},
   "source": [
    "Como no se tiene una función definida para valores del tipo `string` evalúa la función original"
   ]
  },
  {
   "cell_type": "code",
   "execution_count": null,
   "metadata": {},
   "outputs": [],
   "source": [
    "fun('bye!', True)"
   ]
  },
  {
   "cell_type": "markdown",
   "metadata": {},
   "source": [
    "Ahora si se usa un tipo `int`, se puede ver que utiliza la función registrada"
   ]
  },
  {
   "cell_type": "code",
   "execution_count": null,
   "metadata": {},
   "outputs": [],
   "source": [
    "fun(3, True)"
   ]
  },
  {
   "cell_type": "markdown",
   "metadata": {},
   "source": [
    "Lo mismo ocurre para listas"
   ]
  },
  {
   "cell_type": "code",
   "execution_count": null,
   "metadata": {},
   "outputs": [],
   "source": [
    "fun([1,2,3], True)"
   ]
  },
  {
   "cell_type": "code",
   "execution_count": null,
   "metadata": {},
   "outputs": [],
   "source": [
    "fun(None, True)"
   ]
  },
  {
   "cell_type": "markdown",
   "metadata": {},
   "source": [
    "**Ejercicios**\n",
    "\n",
    "El método `register()` retorna una función sin decorar, esto permite acumular decoradores. \n",
    "\n",
    "1. Defina el comportamiento de `fun` para listas y tuplas. Utilice una función sin nombre. Para esto.\n",
    "    1. Utilice el decorador `@fun.register(list)`.\n",
    "    2. Bajo el decorador anterior, declare el decorador `@fun.register(tuple)`.\n",
    "    3. utilizando la notación `_` defina una función sin nombre que reciba `arg` como argumento y ```verbose = False``` como argumento predeterminado. Si `verbose` es verdadero, debe imprimir ```\"Enumerate this:\"```. Finalmente, debe imprimir cada elemento de la lista o tupla entregada, con una enumeración para cada elemento.\n",
    "  \n",
    "2. Registre un comportamiento para `fun` cuando opera en números `float`, si `verbose = True` se debe imprimir `\"Half of your number:\"`. Finalmente, se imprime la mitad del `float`. "
   ]
  },
  {
   "cell_type": "markdown",
   "metadata": {},
   "source": [
    "Para acceder a registradas funciones creadas a una función dispatch, se puede utilizar `functionname.dispatch(type)`, para el caso `float`, se tendría:\n",
    "\n",
    "```python\n",
    "fun.dispatch(float)\n",
    "```\n",
    "\n",
    "A la cual se puede acceder por medio de \n",
    "```python\n",
    "# Ejemplo de acceso\n",
    "fun.dispatch(float)(2.45, True)\n",
    "```\n",
    "\n",
    "**Ejercicio**\n",
    "\n",
    "1. ¿Qué debe retornar `fun.dispatch(data_type)` si `data_type` no está registrado para `fun`?"
   ]
  },
  {
   "cell_type": "markdown",
   "metadata": {},
   "source": [
    "Finalmente, se puede acceder a todos los registros de una función por medio de ```.registry.keys()```:"
   ]
  },
  {
   "cell_type": "code",
   "execution_count": null,
   "metadata": {},
   "outputs": [],
   "source": [
    "fun.registry.keys()"
   ]
  },
  {
   "cell_type": "markdown",
   "metadata": {},
   "source": [
    "#### functools.partial\n",
    "\n",
    "Este método sirve para hacer evaluaciones parciales de funciones, es decir, dada una función con un numero $N$ de argumentos, al aplicar el método `partial` entregándole la función y un número $M < N$ argumentos, nos retornará una una función que esta compuesta de la función original pero con los $M$ argumentos fijos al valor pasado, se puede ahora trabajar únicamente con los $N-M$ argumentos restantes.\n",
    "\n",
    "Esto permite \"congelar\" algunos argumentos de una función dada y no tener que estar pasando de forma reiterada los mismos argumentos.\n",
    "\n",
    "**Ejemplo**\n",
    "\n",
    "Si se tiene una función $f(a, b, c)$, es posible experimentar fijando $b$ y $c$ en un valor dado, mientras varía el valor de $a$."
   ]
  },
  {
   "cell_type": "code",
   "execution_count": null,
   "metadata": {},
   "outputs": [],
   "source": [
    "def fun(a, b, c):\n",
    "    print('First {}, then {} and finally {}'.format(a, b, c))\n",
    "    \n",
    "fun('1', '2', '3')"
   ]
  },
  {
   "cell_type": "markdown",
   "metadata": {},
   "source": [
    "Se aplica evaluación parcial"
   ]
  },
  {
   "cell_type": "code",
   "execution_count": null,
   "metadata": {},
   "outputs": [],
   "source": [
    "fun_partial = functools.partial(fun, 'we are born', c='we die')\n",
    "fun_partial('we live')"
   ]
  },
  {
   "cell_type": "markdown",
   "metadata": {},
   "source": [
    "**Ejercicio**\n",
    "\n",
    "1. Defina una función `lambda` para la multiplicación de 5 números. Utilice `functools.partial()` para fijar 3 de los factores.\n",
    "\n",
    "2. Estudie los atributos `func`, `args` y `keywords` de la función parcial antes definida."
   ]
  },
  {
   "cell_type": "markdown",
   "metadata": {},
   "source": [
    "#### functools.partialmethod\n",
    "\n",
    "Este método se comporta de forma similar a `partial` pero esta diseñado para crear nuevos métodos en clases.\n",
    "\n",
    "La función con la cual se utiliza puede ser un descriptor o un *callable*.\n",
    "\n",
    "**Ejemplo**\n",
    "\n",
    "Como ejemplo se crea una clase `Cell` la cual tendrá inicialmente un método para ser llamado, `set_state` el cual permite modificar el atributo `_alive` a `True` o `False`.\n",
    "\n",
    "Luego, se utiliza `partialmethod` para crear otros 2 métodos de clase `set_alive` y `set_dead` donde cada uno sera un llamado a `set_alive` con el argumento fijo a True o False respectivamente."
   ]
  },
  {
   "cell_type": "code",
   "execution_count": null,
   "metadata": {},
   "outputs": [],
   "source": [
    "class Cell(object):\n",
    "    def __init__(self):\n",
    "        # Al inicializar el objeto parte vivo\n",
    "        self._alive = True\n",
    "        \n",
    "    @property\n",
    "    def alive(self):\n",
    "        return self._alive\n",
    "    \n",
    "    def set_state(self, state):\n",
    "        self._alive = bool(state)\n",
    "    \n",
    "    # se definen resucite y kill utilizando partialmethod\n",
    "    resucite = functools.partialmethod(set_state, True)\n",
    "    kill = functools.partialmethod(set_state, False)"
   ]
  },
  {
   "cell_type": "code",
   "execution_count": null,
   "metadata": {},
   "outputs": [],
   "source": [
    "c = Cell()\n",
    "c.alive"
   ]
  },
  {
   "cell_type": "code",
   "execution_count": null,
   "metadata": {},
   "outputs": [],
   "source": [
    "c.kill()\n",
    "c.alive"
   ]
  },
  {
   "cell_type": "code",
   "execution_count": null,
   "metadata": {},
   "outputs": [],
   "source": [
    "c.resucite()\n",
    "c.alive"
   ]
  },
  {
   "cell_type": "markdown",
   "metadata": {},
   "source": [
    "### Itertools\n",
    "\n",
    "Permite crear iteradores para manejar de forma eficiente y simple ciclos. Una ventaja de usar iteradores es que no es necesario que se guarden todos los valores en memoria, sino que se generan al llamar el método `next()` esto permite que en un ciclo `for` de gran tamaño no se tenga que gastar en memoria para guardar los indices que se recorrerán.\n",
    "\n",
    "**Obs**:Cuando no queden más elementos la excepción `StopIteration` es levantada.\n",
    "\n",
    "La documentación completa la pueden encontrar [aqui](https://docs.python.org/3.7/library/itertools.html)\n",
    "\n",
    "Se importa utilizando la convención:"
   ]
  },
  {
   "cell_type": "code",
   "execution_count": null,
   "metadata": {},
   "outputs": [],
   "source": [
    "import itertools as it"
   ]
  },
  {
   "cell_type": "markdown",
   "metadata": {},
   "source": [
    "**Ejemplo**\n",
    "\n",
    "`itertools.count()`,  este recibe 2 argumentos `start`, `step` y genera números de la forma \n",
    "\n",
    "$$\n",
    "start + n * step, \\quad n=0, 1, 2, \\ldots\n",
    "$$"
   ]
  },
  {
   "cell_type": "code",
   "execution_count": null,
   "metadata": {},
   "outputs": [],
   "source": [
    "counter = it.count(3)"
   ]
  },
  {
   "cell_type": "markdown",
   "metadata": {},
   "source": [
    "se puede ejecutar el método `next()` sobre `counter`:"
   ]
  },
  {
   "cell_type": "code",
   "execution_count": null,
   "metadata": {},
   "outputs": [],
   "source": [
    "next(counter)"
   ]
  },
  {
   "cell_type": "markdown",
   "metadata": {},
   "source": [
    "**Ejercicios**\n",
    "\n",
    "1. Defina un *iterable* que comience en 10 y avance en pasos de a 2. ¿Qué ocurre si se ejecuta un `for` sobre tal objeto?\n",
    "\n",
    "2. `itertools.repeat(num,n)` permite repetir el mismo `num` valor `n` veces. ¿Qué ocurre si se llama `itertools.repeat(num)` y se ejecuta un `for` sobre el *iterable* resultante ?\n",
    "\n",
    "3. Utilice `map`, `pow` e`it.repeat` para definir una lista de las diez primeras potencias de 2."
   ]
  },
  {
   "cell_type": "markdown",
   "metadata": {},
   "source": [
    "`itertools.chain` permite encadenar iterables, este recibe un número arbitrario de iterables, y va tomando elementos del primer iterable hasta que se acaba, luego pasa con el segundo y así sucesivamente.\n",
    "\n",
    "**Ejemplo**\n",
    "\n",
    "Se encadenan 2 iterables, `a` y `b`:"
   ]
  },
  {
   "cell_type": "code",
   "execution_count": null,
   "metadata": {},
   "outputs": [],
   "source": [
    "a = range(10)\n",
    "b = it.repeat(3, 5)\n",
    "\n",
    "chained = it.chain(a, b, a)\n",
    "\n",
    "# Se itera sobre la cadena\n",
    "for i in chained:\n",
    "    print(i)"
   ]
  },
  {
   "cell_type": "markdown",
   "metadata": {},
   "source": [
    "`itertools.cycle` genera un iterador que entrega elementos de un iterable hasta que se acaba, para luego empezar a repetir nuevamente la secuencia indefinidamente\n",
    "\n",
    "**Ejemplo / Ejercicio**\n",
    "\n",
    "¿Qué ocurre se se ejecuta?\n",
    "```python\n",
    "\n",
    "for i in it.cycle('ABCDFG'):\n",
    "    print(i)\n",
    "\n",
    "```"
   ]
  },
  {
   "cell_type": "markdown",
   "metadata": {},
   "source": [
    "#### Itertools para control de flujo\n",
    "\n",
    "A continuación se estudian 4 funciones que permiten controlar el flujo mediante condiciones.\n",
    "\n",
    "*  `itertools.dropwhile` recibe un iterable y retorna un iterador que elimina elementos del iterable, siempre que se cumpla cierta condición, luego que se rompe tal condición, entrega todos los valores.\n",
    "\n",
    "*  `itertools.takewhile` inverso a `dropwhile`, entrega valores hasta que se quiebra la condición.\n",
    "\n",
    "*  `itertools.filterfalse` genera un iterator que retorna valores siempre que la condición sea falsa.\n",
    "\n",
    "**Ejemplos**\n",
    "\n",
    "Se estudian los métodos de manera simultanea"
   ]
  },
  {
   "cell_type": "code",
   "execution_count": null,
   "metadata": {},
   "outputs": [],
   "source": [
    "# condición de no ser divisible por 7\n",
    "condition = lambda x: not(x%7 == 0)\n",
    "    \n",
    "for i in it.filterfalse(condition, range(8, 30)):\n",
    "    print('{} es divisible por 7'.format(i))\n",
    "\n",
    "print()\n",
    "    \n",
    "for i in it.dropwhile(condition, range(8, 30)):\n",
    "    print('Valor:{}, luego del primer valor divisible por 7 entrego todo'.format(i))\n",
    "\n",
    "print()\n",
    "for i in it.takewhile(condition, range(8, 30)):\n",
    "    print('Valor:{}, aun no encuentro un número divisible por 7'.format(i))"
   ]
  },
  {
   "cell_type": "markdown",
   "metadata": {},
   "source": [
    "#### Itertools para combinatoria\n",
    "\n",
    "Itertools también tiene herramientas para generar combinatorias de elementos\n",
    "\n",
    "* `itertools.combinations`: Retorna subsecuencias de largo $r$ de elementos de un iterable (No importa el orden)\n",
    "\n",
    "Dado un iterable de largo $L$, el número de combinaciones esta dado por\n",
    "\n",
    "$$ \\binom{L}{r}$$\n",
    "\n",
    "* `itertools.combinations_with_replacement`: Retorna subsecuencias de largo $r$ de elementos de un iterable, permitiendo que se repitan elementos.\n",
    "\n",
    "El numero total de combinaciones con repetición esta dado por\n",
    "\n",
    "$$ L^r$$\n",
    "\n",
    "* `itertools.permutations`: Retorna sucesivas permutaciones de largo $r$ a partir de un iterable (importa el orden)\n",
    "\n",
    "El numero total de permutaciones esta dado por\n",
    "\n",
    "$$ \\binom{L}{r} r!$$\n",
    "\n",
    "**Ejemplo**\n",
    "\n",
    "Se prueban las combinaciones de 3 elementos sobre 'A','B' 'C' y 'D'."
   ]
  },
  {
   "cell_type": "code",
   "execution_count": null,
   "metadata": {},
   "outputs": [],
   "source": [
    "combi = it.combinations('ABCD', 3)\n",
    "for i in combi:\n",
    "    print(i)"
   ]
  },
  {
   "cell_type": "markdown",
   "metadata": {},
   "source": [
    "Se pasa a estudiar combinaciones con reemplazo"
   ]
  },
  {
   "cell_type": "code",
   "execution_count": null,
   "metadata": {},
   "outputs": [],
   "source": [
    "combi_wr = it.combinations_with_replacement('ABCD', 3)\n",
    "for i in combi_wr:\n",
    "    print(i)"
   ]
  },
  {
   "cell_type": "markdown",
   "metadata": {},
   "source": [
    "Finalmente se estudian permutaciones:"
   ]
  },
  {
   "cell_type": "code",
   "execution_count": null,
   "metadata": {},
   "outputs": [],
   "source": [
    "permu = it.permutations('ABCD', 3)\n",
    "for i in permu:\n",
    "    print(i)"
   ]
  },
  {
   "cell_type": "markdown",
   "metadata": {},
   "source": [
    "## NumPy y SciPy: Librerías Científicas \n",
    "\n",
    "Numpy y SciPy son módulos de código abierto para Python que proveen rutinas matemáticas precompiladas y de alto rendimiento. Ambos paquetes son estándar a la hora de trabajar con operaciones numéricas, siendo NumPy la base para el trabajo con vectores y matrices, mientras que SciPy extiende dichas rutinas al incorporar algoritmos de análisis numérico, optimización, transformadas de Fourier entre otras.\n",
    "\n",
    "### Numpy\n",
    "\n",
    "NumPy (Numerical Python) es el módulo fundamental para la computación científica en Python, según [Numpy](http://www.numpy.org/). Este módulo contiene operaciones de alto rendimiento en álgebra lineal, transformada de Fourier y cálculo de valores aleatorios. Permite el manejo eficiente de arreglos multi-dimensionales y se integra con C/C++ y Fortran.\n",
    "\n",
    "Su uso se ha vuelto un estándar en computación científica, en particular en ciencia de datos y machine learning, su uso es similar a otras herramientas matemáticas como MATLAB. Se puede encontrar documentación útil para este curso [aqui](https://numpy.org/devdocs/user/quickstart.html).\n",
    "\n",
    "Se importa usando la sintaxis:"
   ]
  },
  {
   "cell_type": "code",
   "execution_count": null,
   "metadata": {},
   "outputs": [],
   "source": [
    "# alias comun es np\n",
    "import numpy as np"
   ]
  },
  {
   "cell_type": "markdown",
   "metadata": {},
   "source": [
    "#### Creación de arrays\n",
    "\n",
    "Numpy permite entre otras cosas:\n",
    "\n",
    "* Crear _arrays_ llenos de ceros\n",
    "* Crear _arrays_ de 1\n",
    "* Convertir listas de python a ndarrays"
   ]
  },
  {
   "cell_type": "code",
   "execution_count": null,
   "metadata": {},
   "outputs": [],
   "source": [
    "# Arreglo de \"ceros\", de largo 10\n",
    "a = np.zeros(10)\n",
    "\n",
    "# Arreglo de \"unos\", de forma [5,5]\n",
    "b = np.ones([5,5])\n",
    "\n",
    "print(\"Arreglo de tamaño 10:\\n\",a,\"\\n\")\n",
    "print(\"Arreglo de tamaño [5,5]:\\n\",b,\"\\n\")"
   ]
  },
  {
   "cell_type": "markdown",
   "metadata": {},
   "source": [
    "Numpy soporta la conversión nativa de listas a arreglos"
   ]
  },
  {
   "cell_type": "code",
   "execution_count": null,
   "metadata": {},
   "outputs": [],
   "source": [
    "# Convertir de lista de python a numpy array\n",
    "c = [1, 10, 100, 1000]\n",
    "print('Antes de convertir', type(c)) # muestra el tipo de dato\n",
    "c = np.array(c)\n",
    "print('Despues de convertir', type(c)) # muestra el tipo de dato"
   ]
  },
  {
   "cell_type": "markdown",
   "metadata": {},
   "source": [
    "Posee rutinas de generación de arreglos con valores consecutivos ```.arange()``` y discretización de intervalos ```.linspace()```"
   ]
  },
  {
   "cell_type": "code",
   "execution_count": null,
   "metadata": {},
   "outputs": [],
   "source": [
    "# Crear arreglos de valores consecutivos o en un intervalo\n",
    "a = np.arange(10)\n",
    "print(a)\n",
    "\n",
    "b = np.linspace(1, 10, 4)\n",
    "print(b)"
   ]
  },
  {
   "cell_type": "markdown",
   "metadata": {},
   "source": [
    "Un objeto primordial de esta librería es son los de tipo `ndarray`. Este tipo de dato hace referencia a vectores a arreglos multidimensionales, dando origen a matrices o vectores simples.\n",
    "\n",
    "Un objeto tipo `ndarray` posee un largo que sobrecarga al operador `len()` y representa la dimensión de la primera coordenada del arreglo. Por otra parte, los arreglos `ndarray` poseen forma o `shape`, este atributo muestra las dimensiones en cada eje del arreglo."
   ]
  },
  {
   "cell_type": "code",
   "execution_count": null,
   "metadata": {},
   "outputs": [],
   "source": [
    "# Declaración de un array 3x4\n",
    "a = np.array([[1, 2, 3, 4], [5, 6, 7, 8], [9, 10, 11, 12]])\n",
    "\n",
    "# array de 10x2\n",
    "b = np.ones((10, 2))\n",
    "\n",
    "print('Len: {},  Shape:{}'.format(len(a), a.shape))\n",
    "print('Len: {},  Shape:{}'.format(len(b), b.shape))\n",
    "\n",
    "''' OBS:\n",
    "El metodo .format(*args) del tipo de dato string, a groso modo,\n",
    "reconoce los caracteres {} dentro del string. Por defecto asigna args[0] \n",
    "al primer par {} a la izquierda, luego arg[1] al segundo par {} \n",
    "a la izquierda, asi hasta llegar a arg[-1]. Dentro de {} se puede \n",
    "dar formato al tipo de dato que se desea insertar, por ejemplo {:b}, \n",
    "muestra el contenido de arg[n] en formato binario.\n",
    "''';"
   ]
  },
  {
   "cell_type": "markdown",
   "metadata": {},
   "source": [
    "Los arrays operan como vectores, es por esto, que su manejo se haga natural, de esta forma sumar 2 `ndarrays` se puede llevar a cabo por medio de:"
   ]
  },
  {
   "cell_type": "code",
   "execution_count": null,
   "metadata": {},
   "outputs": [],
   "source": [
    "# array de 3x5 lleno de 10's\n",
    "x = np.full((3, 5), 10)\n",
    "\n",
    "y = np.random.random((3, 5))\n",
    "\n",
    "print(x+y)"
   ]
  },
  {
   "cell_type": "markdown",
   "metadata": {},
   "source": [
    "En este caso, `full((3, 5), 10)` genera una matriz de 3x5 llena (_full_) de 10. Por otra parte, Numpy posee un submódulo dedicado a rutinas con número pseudo aleatorios. En este caso, se accede a tal submódulo por medio de `np.random`, luego se accede al método `.random()` (mismo nombre que el módulo) que recibe una tupla $(n,m)$ como argumento y genera una matriz de $n \\times m$ donde cada elemento es un número $ u_{ij} \\sim \\text{unif}([0,1])$. Se puede ver que la suma entre las dos matrices generadas, se comporta como es de esperar. \n",
    "\n",
    "Por otro lado, los arreglos NumPy permiten traslaciones y amplificaciones por medio de:"
   ]
  },
  {
   "cell_type": "code",
   "execution_count": null,
   "metadata": {},
   "outputs": [],
   "source": [
    "# Arreglo con la los numeros 0,1,...,9\n",
    "a = np.arange(10)\n",
    "a = a + 4 # Traslacion\n",
    "a"
   ]
  },
  {
   "cell_type": "code",
   "execution_count": null,
   "metadata": {},
   "outputs": [],
   "source": [
    "# Discretizacion del intervalo [0,10] en una particion de 4 puntos\n",
    "b = np.linspace(1, 10, 4)\n",
    "b = b * 2 # Amplificacion\n",
    "b"
   ]
  },
  {
   "cell_type": "markdown",
   "metadata": {},
   "source": [
    "La multiplicación de arreglos elemento por elemento se lleva a cabo con el operador `*`"
   ]
  },
  {
   "cell_type": "code",
   "execution_count": null,
   "metadata": {},
   "outputs": [],
   "source": [
    "# Arreglo de 1's con la forma del arreglo b\n",
    "c = np.ones_like(b) * 5 \n",
    "\n",
    "#Aplicar multiplicacion elemento a elemento entre los arreglos\n",
    "mult = b * c\n",
    "\n",
    "print(\"Arreglo b:\\n\",b,\"\\n\")\n",
    "print(\"Arreglo c:\\n\",c,\"\\n\")\n",
    "print(\"Resultado:\\n\",mult,\"\\n\")"
   ]
  },
  {
   "cell_type": "markdown",
   "metadata": {},
   "source": [
    "Por otra parte, se soporta la **multiplicación matricial**, para ello, existen los métodos:\n",
    "\n",
    "* `np.matmul(a, b)`\n",
    "* `np.dot(a, b)`\n",
    "* `a.dot(b)`\n",
    "* `a @ b`"
   ]
  },
  {
   "cell_type": "code",
   "execution_count": null,
   "metadata": {},
   "outputs": [],
   "source": [
    "# Multiplicación matricial\n",
    "# Declaración de un arreglo 3x4\n",
    "A = np.array([[1, 2, 3, 4], [5, 6, 7, 8], [9, 10, 11, 12]])\n",
    "\n",
    "# Declaración arreglo 4x2\n",
    "B = np.array([[1, 2], [3, 4], [5, 6], [7, 8]])\n",
    "\n",
    "# Multiplicacion a por b\n",
    "C = np.matmul(A, B)  # Multiplicación matricial\n",
    "\n",
    "print('Matriz A: \\n', A, '\\n')\n",
    "print('Matriz B: \\n', B, '\\n')\n",
    "\n",
    "print(\"Resultado de np.matmul(A, B): \\n\", C, \"\\n\")\n",
    "\n",
    "# Comandos alternativos para multiplicar matrices\n",
    "print(\"Alternativas: \\n\")\n",
    "print(\"np.dot(A,B):\\n\", np.dot(A, B), \"\\n\")\n",
    "print(\"A.dot(B):\\n\", A.dot(B), \"\\n\")\n",
    "print(\"A @ B: \\n\", A @ B, \"\\n\")"
   ]
  },
  {
   "cell_type": "markdown",
   "metadata": {},
   "source": [
    "Se verifican las dimensiones"
   ]
  },
  {
   "cell_type": "code",
   "execution_count": null,
   "metadata": {},
   "outputs": [],
   "source": [
    "# Verifiquemos que las dimensiones son correctas\n",
    "\n",
    "dim_a = A.shape\n",
    "dim_b = B.shape\n",
    "dim_c = C.shape\n",
    "\n",
    "print(\"Las dimensiones son respectivamente:\", dim_a, dim_b, dim_c)"
   ]
  },
  {
   "cell_type": "markdown",
   "metadata": {},
   "source": [
    "Una funcionalidad ampliamente utilizada la de apilar arreglos, esto se lleva a cabo por medio de las agrupaciones `np.vstack()` para aglomeración vertical y `np.hstack()` para su contraparte horizontal."
   ]
  },
  {
   "cell_type": "code",
   "execution_count": null,
   "metadata": {},
   "outputs": [],
   "source": [
    "X = np.array([1, 2, 3])\n",
    "Y = np.ones_like(X)\n",
    "'''\n",
    "Vertical stack: Se posiciona el arreglo de la izquierda por \n",
    "sobre el derecho. \n",
    "'''\n",
    "\n",
    "np.vstack([X, Y])"
   ]
  },
  {
   "cell_type": "markdown",
   "metadata": {},
   "source": [
    "Usando esto podemos acomodar nuevos valores para, por ejemplo, aplicar regresión lineal."
   ]
  },
  {
   "cell_type": "code",
   "execution_count": null,
   "metadata": {},
   "outputs": [],
   "source": [
    "Z = np.vstack([X,Y])\n",
    "Z.T"
   ]
  },
  {
   "cell_type": "markdown",
   "metadata": {},
   "source": [
    "por otra parte `.hstack()`, que opera de manera similar a `.vstack()` pero de manera horizontal."
   ]
  },
  {
   "cell_type": "code",
   "execution_count": null,
   "metadata": {},
   "outputs": [],
   "source": [
    "Z = np.hstack([X,Y])\n",
    "Z"
   ]
  },
  {
   "cell_type": "markdown",
   "metadata": {},
   "source": [
    "En cuanto a las **funcionalidades básicas de álgebra lineal**, se encuentra la inversa una matriz:"
   ]
  },
  {
   "cell_type": "code",
   "execution_count": null,
   "metadata": {},
   "outputs": [],
   "source": [
    "A = np.array([[1, -2, 2, 2],[0, 4, -2, 1], [1, -2, 4, 0],[1, -1, 2, 2]])\n",
    "A_inv = np.linalg.inv(A)\n",
    "\n",
    "print(\"A:\\n\",A,\"\\n\")\n",
    "print(\"Inversa de A:\\n\",A_inv)"
   ]
  },
  {
   "cell_type": "markdown",
   "metadata": {},
   "source": [
    "La matriz identidad"
   ]
  },
  {
   "cell_type": "code",
   "execution_count": null,
   "metadata": {},
   "outputs": [],
   "source": [
    "#Identidad matricial\n",
    "\n",
    "I1 = np.matmul(A,A_inv)\n",
    "I2 = np.eye(4) #Matriz identidad de dimension 4x4\n",
    "\n",
    "print(\"I1:\\n\", I1, \"\\n\")\n",
    "print(\"I2:\\n\", I2)"
   ]
  },
  {
   "cell_type": "markdown",
   "metadata": {},
   "source": [
    "El *slicing* de NumPy opera siguiendo la lógica de *slicing* en listas. "
   ]
  },
  {
   "cell_type": "code",
   "execution_count": null,
   "metadata": {},
   "outputs": [],
   "source": [
    "a = np.array([[1, 2, 3], [4, 5, 6], [7, 8, 9], [10, 11, 12]])\n",
    "\n",
    "print(\"A:\\n\", a, \"\\n\")\n",
    "print(\"Fila 2:\\n\", a[1], \"\\n\")\n",
    "\n",
    "# notaciion doble a[1][2] es equivalente\n",
    "print(\"Posicion 2,3:\\n\", a[1, 2], \"\\n\")\n",
    "print('Slicing tradicional con doble indice: \\n', a[0][:], '\\n')\n",
    "print('Ultimos 2 elementos fila 2: \\n', a[1, -2:], '\\n')"
   ]
  },
  {
   "cell_type": "markdown",
   "metadata": {},
   "source": [
    "A lo anterior se sumam *queries* o selección de datos por medio de consultas, en este caso lógicas."
   ]
  },
  {
   "cell_type": "code",
   "execution_count": null,
   "metadata": {},
   "outputs": [],
   "source": [
    "a = np.array([[1, 2, 3, 4], [5, 6, 7, 8], [9, 10, 11, 12]])\n",
    "\n",
    "pares = a[a % 2 == 0]\n",
    "mayor3 = a[a > 3]\n",
    "print(\"Elementos pares:\\n\", pares, \"\\n\")\n",
    "print(\"Mayores que 3:\\n\", mayor3, \"\\n\")"
   ]
  },
  {
   "cell_type": "markdown",
   "metadata": {},
   "source": [
    "### Scipy\n",
    "\n",
    "SciPy es una colección de algoritmos y funciones comunes implementadas de manera eficiente sobre NumPy. Agrega comandos de alto nivel y clases para la manipulación e incluso visualización de datos. Las herramientas aquí dispuestas son de software abierto y su transversal, abarcando areas de la matemática, ciencia e ingeniería. Es posible encontrar información relevante para el curso [aqui](https://docs.scipy.org/doc/scipy/reference/tutorial/index.html).\n",
    "\n",
    "A diferencia de las librerías ya trabajadas, se recomienda cargar las funcionalidades de SciPy a través de sus sub-módulos, estos son:\n",
    "\n",
    "* cluster: Algoritmos de aglomeración (clustering)\n",
    "* constants: Constantes matemáticas y físicas\n",
    "* fftpack: rutinas de transformada de Fourier rápida\n",
    "* integrate: Integración y solvers de EDO's\n",
    "* interpolate: Interpolación y splines\n",
    "* io: Input - output\n",
    "* linalg: Álgebra lineal\n",
    "* ndimage: Procesamiento de imágenes N-dimensionales\n",
    "* odr: Regresión de distancias ortogonal\n",
    "* optimize: Módulo de optimización \n",
    "* signal: Procesamiento de señales\n",
    "* sparse: Manejo de matrices sparse\n",
    "* spatial: Estructuras de datos espaciales\n",
    "* special: Funciones especiales\n",
    "* stats: Distribuciones y funciones estadísticas"
   ]
  },
  {
   "cell_type": "markdown",
   "metadata": {},
   "source": [
    "Se estudian los módulos dedicados a estadística, interpolación y optimización. En primer lugar, el modulo de distribuciones y funciones estadísticas se importa por medio de:"
   ]
  },
  {
   "cell_type": "code",
   "execution_count": null,
   "metadata": {},
   "outputs": [],
   "source": [
    "from scipy import stats"
   ]
  },
  {
   "cell_type": "markdown",
   "metadata": {},
   "source": [
    "En este módulo se pueden encontrar clases dedicadas a variables aleatorias tanto discretas como continuas. Cada variable aleatoria de SciPy esta provista de métodos públicos como `.rvs()` para la obtención de muestras aleatorias,  `.pdf()` que contiene su función de densidad de probabilidad asociada, `.cdf()` que contiene su función de distribución acumulada, `.stats()` que retorna estadísticos como la media y varianza, entre otros métodos.\n",
    "\n",
    "**Ejemplo**\n",
    "\n",
    "Se carga una variable aleatoria $\\mathcal{N}(0,1)$ y se accede a alguno de sus métodos:"
   ]
  },
  {
   "cell_type": "code",
   "execution_count": null,
   "metadata": {},
   "outputs": [],
   "source": [
    "normal = stats.norm()\n",
    "\n",
    "# Estadisticos \n",
    "print(\"('media','varianza'):\",normal.stats())\n",
    "\n",
    "# Algunas muestras\n",
    "print('3 muestras: ',normal.rvs(size = 4))\n",
    "\n",
    "# cdf de la distribución\n",
    "print('Masa hasta 1.5: ',normal.cdf(1.5))"
   ]
  },
  {
   "cell_type": "markdown",
   "metadata": {},
   "source": [
    "Para generar números aleatorios se utiliza el el módulo `numpy.random`. Por tal motivo, al brindar un valor de semilla aleatoria por medio `np.random.seed(semilla)`, se determinar también el comportamiento del generador de números seudoaleatorios para los objetos de SciPy.\n",
    "\n"
   ]
  },
  {
   "cell_type": "markdown",
   "metadata": {},
   "source": [
    "Las variables aleatorias continuas de  SciPy permiten traslaciones `loc` y escalamiento `scale`, en el caso de variable una aleatoria normal `loc` es la media y `scale` es la desviación estándar. "
   ]
  },
  {
   "cell_type": "code",
   "execution_count": null,
   "metadata": {},
   "outputs": [],
   "source": [
    "n2 = stats.norm(loc=5, scale=1)\n",
    "print(\"('media','varianza'):\",n2.stats())"
   ]
  },
  {
   "cell_type": "markdown",
   "metadata": {},
   "source": [
    "Se puede acceder a la distribución uniforme por medio de:"
   ]
  },
  {
   "cell_type": "code",
   "execution_count": null,
   "metadata": {},
   "outputs": [],
   "source": [
    "uni = stats.uniform"
   ]
  },
  {
   "cell_type": "code",
   "execution_count": null,
   "metadata": {},
   "outputs": [],
   "source": [
    "'''\n",
    "Se traslada la variable por medio de loc y se escala por medio de \n",
    "scale y se estudia la funcion de densidad acumulada en los puntos \n",
    "[0,1,2,3,4,5]\n",
    "''' \n",
    "uni.cdf([0, 1, 2, 3, 4, 5],loc=1, scale=4)"
   ]
  },
  {
   "cell_type": "markdown",
   "metadata": {},
   "source": [
    "#### Ajuste de distribuciones\n",
    "\n",
    "Como método adicional una distribución de probabilidad de SciPy posee los métodos `.fit()` para ajustar parámetros de la distribución objetivo mediante máxima verosimilitud. `.fit_loc_scale()` para estimar los parámetros de traslación y escalamiento. `.nnlf()` la función de log versimilutd negativa y `.expect()` el valor esperado de cierta función contra la `pdf` (o `pmf` en el caso discreto).\n",
    "\n",
    "\n",
    "**Ejemplo**\n",
    "\n",
    "Se genera una muestra de 150 valores a partir de una variable aleatoria normal."
   ]
  },
  {
   "cell_type": "code",
   "execution_count": null,
   "metadata": {},
   "outputs": [],
   "source": [
    "# Los parametros son media = 0  y varianza = 1\n",
    "sample = stats.norm.rvs(loc=0, scale=1, size=150)"
   ]
  },
  {
   "cell_type": "markdown",
   "metadata": {},
   "source": [
    "Se procede a encontrar el valor de los parámetros a partir de la muestra `sample`, ajustando una normal."
   ]
  },
  {
   "cell_type": "code",
   "execution_count": null,
   "metadata": {},
   "outputs": [],
   "source": [
    "param_fit = stats.norm.fit(sample)\n",
    "\n",
    "print('Se estima que la media es :', param_fit[0])\n",
    "print('Se estima que la varianza es :', param_fit[1])"
   ]
  },
  {
   "cell_type": "markdown",
   "metadata": {},
   "source": [
    "### Interpolación\n",
    "\n",
    "Existen distintas opciones de interpolación para datos. La función más básica en este apartado es `interp1d` se puede acceder a esta por medio de"
   ]
  },
  {
   "cell_type": "code",
   "execution_count": null,
   "metadata": {},
   "outputs": [],
   "source": [
    "''' Opcionalmente: from scipy.interpolate import interp1d'''\n",
    "from scipy import interpolate "
   ]
  },
  {
   "cell_type": "markdown",
   "metadata": {},
   "source": [
    "`interp1d` es un método conveniente para la obtención de una función dado un conjunto de datos unidimensional y fijo. Esta función puede ser evaluada en cualquier punto dentro del soporte (o dominio) que ofrece el rango de los datos. Este método es más bien una clase con el método `__call__` sobrecargado, por tal motivo, pueder se utilizado como una función. \n",
    "\n",
    "**Ejemplo**\n",
    "\n",
    "Se genera una malla de puntos en el intervalo $[0,10]$, sobre estos puntos se evalúa una función coseno compuesta con una transformación cuadrática en los puntos."
   ]
  },
  {
   "cell_type": "code",
   "execution_count": null,
   "metadata": {},
   "outputs": [],
   "source": [
    "x = np.linspace(0, 10, num=11, endpoint=True)\n",
    "\n",
    "\n",
    "def f(x):\n",
    "\n",
    "    return np.cos(-5 * x ** 2)\n",
    "\n",
    "\n",
    "y = f(x)"
   ]
  },
  {
   "cell_type": "markdown",
   "metadata": {},
   "source": [
    "Se interpolan los puntos de `y` por medio de un interpolador lineal y uno cúbico"
   ]
  },
  {
   "cell_type": "code",
   "execution_count": null,
   "metadata": {},
   "outputs": [],
   "source": [
    "f_linear = interpolate.interp1d(x, y)\n",
    "f_cubic  = interpolate.interp1d(x, y, kind='cubic')"
   ]
  },
  {
   "cell_type": "markdown",
   "metadata": {},
   "source": [
    "Se hace más fina el mallado de x"
   ]
  },
  {
   "cell_type": "code",
   "execution_count": null,
   "metadata": {},
   "outputs": [],
   "source": [
    "x_new = np.linspace(0, 10, num=50, endpoint=True)"
   ]
  },
  {
   "cell_type": "markdown",
   "metadata": {},
   "source": [
    "Se evalúan $f(x) = cos(-5x^2)$, `f_linear` y `f_cubic`. Para observar el comportamiento de de estas interpolaciones, es preciso graficar  sus acciones sobre `x_new`. Para ello, se hace uso de la librería `matplotlib` esta librería se estudiará con mayor detenimiento en una cátedra posterior. "
   ]
  },
  {
   "cell_type": "code",
   "execution_count": null,
   "metadata": {},
   "outputs": [],
   "source": [
    "import matplotlib.pyplot as plt\n",
    "\n",
    "plt.plot(x, y, 'o', x_new, f_linear(x_new), '-', x_new, f_cubic(x_new), '--')\n",
    "plt.legend(['real', 'linear', 'cubic'], loc='best')\n",
    "plt.show()"
   ]
  },
  {
   "cell_type": "markdown",
   "metadata": {},
   "source": [
    "Una **función base radial** (RBF) es una función real $\\phi(\\cdot)$ cuyo valor depende solo da la distancia entre su input y algún punto fijo, en un espacio vectorial normado, esto toma la forma $\\phi(\\cdot) = \\phi(|| \\cdot - c||)$ para algún $c$ fijo. Sin perdida de generalidad, se puede considerar que una función RBF es una función que depende de la norma de su input, es decir, cumple $\\phi(x) = \\phi(||x||)$. Por le general, este tipo de funciones se denota por $\\phi(r)$. Dentro de las funciones radiales se encuentran:\n",
    "\n",
    "* Gaussiana: $\\phi(r) = \\exp({-(r/\\varepsilon)^2})$\n",
    "* Lineal: $\\phi(r) = r$\n",
    "* Cúbica: $\\phi(r) = r^3$\n",
    "* Multicuadrática = $\\sqrt{(r/\\varepsilon)^2 +1}$\n",
    "\n",
    "SciPy ofrece un método de interpolación basado en funciones de base radial para datos N-dimensionales. \n",
    "\n",
    "**Ejemplo**\n",
    "\n",
    "Se estudia un ejemplo en 2 dimensiones y se visualiza su resultado. Primero, se genera una malla de puntos."
   ]
  },
  {
   "cell_type": "code",
   "execution_count": null,
   "metadata": {},
   "outputs": [],
   "source": [
    "# Puntos aleatorios entre -2 y 2 para los ejes x,y\n",
    "\n",
    "x = np.random.rand(1000) * 4.0 - 2.0\n",
    "y = np.random.rand(1000) * 4.0 - 2.0\n",
    "\n",
    "# Función a interpolar\n",
    "\n",
    "\n",
    "def func_2d(x, y): return x*np.exp(-x ** 2 - y ** 2)\n",
    "\n",
    "\n",
    "# Datos con los cuales se interpola\n",
    "z = func_2d(x, y)\n",
    "\n",
    "# grilla 2-d regular entre -2 y 2\n",
    "axis = np.linspace(-2.0, 2.0, 100)\n",
    "\n",
    "'''\n",
    "np.meshgrid(x,y) genera un iterable por medio del producto cartesiano \n",
    "entre x,y, se puede comprobar al ejecutar print((X[0,0],Y[0,0])).\n",
    "'''\n",
    "\n",
    "X, Y = np.meshgrid(axis, axis)"
   ]
  },
  {
   "cell_type": "markdown",
   "metadata": {},
   "source": [
    "Se instancia el objeto RBF para que interpole los valores de `z` en los nodos dados por `(x,y)`. La función base a usar será la gaussiana."
   ]
  },
  {
   "cell_type": "code",
   "execution_count": null,
   "metadata": {},
   "outputs": [],
   "source": [
    "'''\n",
    "Se escohe el parámetro epsilon = 2, este controla \n",
    "la suavidad de la interpolacion\n",
    "'''\n",
    "eps =2\n",
    "rbf = interpolate.Rbf(x, y, z, epsilon=eps)"
   ]
  },
  {
   "cell_type": "markdown",
   "metadata": {},
   "source": [
    "Finalmente se evalúa el interpolador obtenido en los puntos de la malla regular dada por `X` y `Y`."
   ]
  },
  {
   "cell_type": "code",
   "execution_count": null,
   "metadata": {},
   "outputs": [],
   "source": [
    "Z = rbf(X,Y)"
   ]
  },
  {
   "cell_type": "markdown",
   "metadata": {},
   "source": [
    "Se visualizan los resultados, en primer lugar se muestra el valor de la función en los puntos de la malla aleatoria"
   ]
  },
  {
   "cell_type": "code",
   "execution_count": null,
   "metadata": {},
   "outputs": [],
   "source": [
    "from matplotlib import cm\n",
    "\n",
    "plt.figure(figsize=[15,5])\n",
    "plt.subplot(1, 2, 1)\n",
    "plt.scatter(x, y, s=15, c=z, cmap=cm.jet)\n",
    "plt.title('Función en malla aleatoria')\n",
    "plt.xlim(-2, 2)\n",
    "plt.ylim(-2, 2)\n",
    "plt.colorbar()"
   ]
  },
  {
   "cell_type": "markdown",
   "metadata": {},
   "source": [
    "A continuación se muestra la interpolación en la malla regular"
   ]
  },
  {
   "cell_type": "code",
   "execution_count": null,
   "metadata": {},
   "outputs": [],
   "source": [
    "plt.figure(figsize=[15,5])\n",
    "plt.subplot(1, 2, 1)\n",
    "plt.pcolor(X, Y, Z, cmap=cm.jet)\n",
    "plt.title('Interpolación RBF gaussiana eps=2')\n",
    "plt.xlim(-2, 2)\n",
    "plt.ylim(-2, 2)"
   ]
  },
  {
   "cell_type": "markdown",
   "metadata": {},
   "source": [
    "### Optimización\n",
    "\n",
    "El módulo de optimización de SciPy proporciona bastantes algoritmos para resolver problemas con y sin restricciones para funciones escalares multivariadas, permite rutinas de optimización global, cálculo de mínimos cuadrados entre otras. \n",
    "\n",
    "Dentro de los métodos a considerar en este módulo, se encuentran:\n",
    "\n",
    "* `linprog()` para minimizar una función objetivo lineal con restricciones de igualdad y desigualdad lineales.\n",
    "* `minimize_scalar()` y `minimize()`, que permiten minimizar una función de una o más variables.\n",
    "* `root_scalar()` y `root()` para calcular ceros de una función uni o multivariada\n",
    "* `curve_fit()`, para ajustar una función a datos de entrada.\n",
    "\n",
    "**Ejemplo**\n",
    "\n",
    "Para comenzar, se resuelve un problema de optimización en una dimensión, en este caso se busca el mínimo de la función $f(x) = -\\exp{-x^2}$, para ello se utiliza `optimize.minimize_scalar()`. En primer lugar, se importa el módulo de optimización."
   ]
  },
  {
   "cell_type": "code",
   "execution_count": null,
   "metadata": {},
   "outputs": [],
   "source": [
    "from scipy import optimize"
   ]
  },
  {
   "cell_type": "markdown",
   "metadata": {},
   "source": [
    "Luego, se define la función"
   ]
  },
  {
   "cell_type": "code",
   "execution_count": null,
   "metadata": {},
   "outputs": [],
   "source": [
    "def f(x):\n",
    "    return x * np.exp(-(x)**2)"
   ]
  },
  {
   "cell_type": "markdown",
   "metadata": {},
   "source": [
    "Se utiliza `optimize.minimize_scalar()` sobre la función definida, por defecto se utiliza el método de Brent. "
   ]
  },
  {
   "cell_type": "code",
   "execution_count": null,
   "metadata": {},
   "outputs": [],
   "source": [
    "res = optimize.minimize_scalar(f)"
   ]
  },
  {
   "cell_type": "markdown",
   "metadata": {},
   "source": [
    "Se estudia el resultado"
   ]
  },
  {
   "cell_type": "code",
   "execution_count": null,
   "metadata": {},
   "outputs": [],
   "source": [
    "# punto minimo\n",
    "x_min = res.x\n",
    "print('minimo: ',x_min)\n",
    "\n",
    "# numero de iteraciones\n",
    "print('numero de iteraciones: ', res.nit)"
   ]
  },
  {
   "cell_type": "code",
   "execution_count": null,
   "metadata": {},
   "outputs": [],
   "source": [
    "x = np.linspace(-5,5,100)\n",
    "plt.figure(figsize=[8,5])\n",
    "plt.title('Minimizador escalar')\n",
    "plt.plot(x, f(x), label = 'funcion objetivo')\n",
    "plt.scatter(x_min,f(x_min),c='r',marker='o',label='Minimo encontrado')\n",
    "plt.legend()\n",
    "plt.show()"
   ]
  },
  {
   "cell_type": "markdown",
   "metadata": {},
   "source": [
    "Es posible usar métodos basados en descenso de gradiente, se implementa el método de descenso de gradiente conjugado sobre una función de prueba."
   ]
  },
  {
   "cell_type": "code",
   "execution_count": null,
   "metadata": {},
   "outputs": [],
   "source": [
    "# Función a utilizar (Rosenbrock)\n",
    "def f(x):\n",
    "    return (1 / 2) * (1 - x[0])**2 + (x[1] - x[0]**2)**2"
   ]
  },
  {
   "cell_type": "markdown",
   "metadata": {},
   "source": [
    "para minimizar una función de más de una variable, se utiliza el método `.optimize.minimize()` y se indica el método de gradiente conjugado por medio de `method='CG'`. Este método necesita el jacobiano (puede calcularse numéricamente pero es mejor definirlo)"
   ]
  },
  {
   "cell_type": "code",
   "execution_count": null,
   "metadata": {},
   "outputs": [],
   "source": [
    "def jac(x):\n",
    "    return np.array((-2 * .5 * (1 - x[0]) - 4 * x[0] * (x[1] - x[0]**2),\n",
    "                     2 * (x[1] - x[0]**2)))"
   ]
  },
  {
   "cell_type": "markdown",
   "metadata": {},
   "source": [
    "Se minimiza la función anterior en primer lugar sin proporcionar el jacobiano y comenzando desde el origen."
   ]
  },
  {
   "cell_type": "code",
   "execution_count": null,
   "metadata": {},
   "outputs": [],
   "source": [
    "res = optimize.minimize(fun = f, x0 = (0, 0), method=\"CG\") \n",
    "print(res)"
   ]
  },
  {
   "cell_type": "markdown",
   "metadata": {},
   "source": [
    "Se repite la el proceso entregando el jacobiano"
   ]
  },
  {
   "cell_type": "code",
   "execution_count": null,
   "metadata": {},
   "outputs": [],
   "source": [
    "res_jac = optimize.minimize(fun = f, x0 = (0, 0), method=\"CG\" , jac=jac)\n",
    "print(res_jac)"
   ]
  },
  {
   "cell_type": "markdown",
   "metadata": {},
   "source": [
    "Un método bastante usado es BFGS, este consiste en un método quasi-Newton que refina la aproximación de la matriz hessiana en cada paso. Se estudia este método con la función anterior."
   ]
  },
  {
   "cell_type": "code",
   "execution_count": null,
   "metadata": {},
   "outputs": [],
   "source": [
    "res_bfgs = optimize.minimize(f, [0, 0], method=\"BFGS\", jac=jac)\n",
    "print(res_bfgs)"
   ]
  },
  {
   "cell_type": "markdown",
   "metadata": {},
   "source": [
    "**Ejercicio**\n",
    "\n",
    "Utilice el módulo de optimización para ajustar una curva a un conjunto de datos sintéticos, para ello:\n",
    "\n",
    "1. Defina una discretización `d`, uniforme del intervalo $[-2,2]$ con $n=100$ puntos.\n",
    "2. Defina la función $f(x) = x \\exp(-x^2)$, para generar los datos de ajuste `y = f(d)`.\n",
    "3. Defina la familia de funciones a ajustar de la forma $f_{abc}(x) = a\\cdot \\cos(b\\cdot x + c)$, donde $a,b,c$ son los parámetros a ajustar.\n",
    "4. Ajuste la familia de funciones anterior a los datos `y`. Para ello.\n",
    "    1. Cree la función `least_square` que calcula el error cuadrático de aproximar $f$ con $f_{abc}$ en `d`. Posteriormente, minimice tal error cuadrático usando `optimize.minimize()` con el método BFGS y punto inicial $x0 = (1,1,1)$ \n",
    "    2. Utilice la función `optimize.curve_fit()` sobre $f_{abc}$ con los datos `y` en la malla `d` .\n",
    "    3. Compare los resultados obtenidos\n",
    "5. Seleccione un método de los anteriores observe el ajuste de su modelo, para ello utilice la función `plot_fit()` definida en la celda inferior.\n",
    "\n",
    "6. Añada ruido gaussiano a los datos `y = f(d)`, la desviación estándar del ruido debe ser del orden de $10^{-2}$. Vuelva a ajustar la familia $𝑓_{𝑎𝑏𝑐}$ y compare los resultados con el ajuste sin ruido."
   ]
  },
  {
   "cell_type": "code",
   "execution_count": null,
   "metadata": {},
   "outputs": [],
   "source": [
    "def plot_fit(func, params_list, data_grid=d, data_points=y):\n",
    "    ''' Visualiza en pantalla una curva ajustada.\n",
    "    \n",
    "    Crea una visualizacion para el ajuste de func, contra\n",
    "    los datos reales data_points. Para ello, se entrega una \n",
    "    lista de parámetros para la función func, de tal manera que \n",
    "    func(x,*params) tenga sentido para todo x en d. \n",
    "    \n",
    "    Args:\n",
    "        func: Funcion que se ajusta a los datos.\n",
    "        \n",
    "        params_list: Lista de parametros necesarios para la funcion func\n",
    "            se debe poder ejecutar func(x,*params) para todo x float.\n",
    "        \n",
    "        data_grid: Malla sobre la cual se mide el ajuste.\n",
    "        \n",
    "        data_point: Datos para comparar el ajuste.\n",
    "        \n",
    "    Returns:\n",
    "        None, genera una visualizacion de matplotlib\n",
    "    '''\n",
    "    f_opt = lambda x: func(x,*params_list)\n",
    "    \n",
    "    \n",
    "    plt.figure(figsize=[8,5])\n",
    "    plt.title('Ajuste a los datos',fontdict={'fontsize':18})\n",
    "    plt.plot(data_grid,f_opt(data_grid), label = 'Ajuste')\n",
    "    plt.plot(data_grid,y, label = 'datos')\n",
    "    plt.legend(fontsize = 12)"
   ]
  }
 ],
 "metadata": {
  "kernelspec": {
   "display_name": "Python 3",
   "language": "python",
   "name": "python3"
  },
  "language_info": {
   "codemirror_mode": {
    "name": "ipython",
    "version": 3
   },
   "file_extension": ".py",
   "mimetype": "text/x-python",
   "name": "python",
   "nbconvert_exporter": "python",
   "pygments_lexer": "ipython3",
   "version": "3.8.2"
  },
  "nbTranslate": {
   "displayLangs": [
    "es",
    "en"
   ],
   "hotkey": "alt-t",
   "langInMainMenu": true,
   "sourceLang": "en",
   "targetLang": "es",
   "useGoogleTranslate": true
  },
  "toc": {
   "base_numbering": 1,
   "nav_menu": {},
   "number_sections": true,
   "sideBar": true,
   "skip_h1_title": false,
   "title_cell": "Table of Contents",
   "title_sidebar": "Contents",
   "toc_cell": false,
   "toc_position": {},
   "toc_section_display": true,
   "toc_window_display": false
  }
 },
 "nbformat": 4,
 "nbformat_minor": 4
}
